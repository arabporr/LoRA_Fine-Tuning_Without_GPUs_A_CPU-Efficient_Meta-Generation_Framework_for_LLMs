{
 "cells": [
  {
   "cell_type": "code",
   "execution_count": 3,
   "metadata": {},
   "outputs": [],
   "source": [
    "import evaluate\n"
   ]
  },
  {
   "cell_type": "code",
   "execution_count": 5,
   "metadata": {},
   "outputs": [
    {
     "name": "stdout",
     "output_type": "stream",
     "text": [
      "Defaulting to user installation because normal site-packages is not writeable\n",
      "Collecting rouge-score\n",
      "  Using cached rouge_score-0.1.2-py3-none-any.whl\n",
      "Requirement already satisfied: absl-py in c:\\users\\arabp\\appdata\\roaming\\python\\python312\\site-packages (from rouge-score) (2.1.0)\n",
      "Requirement already satisfied: nltk in c:\\programdata\\anaconda3\\lib\\site-packages (from rouge-score) (3.9.1)\n",
      "Requirement already satisfied: numpy in c:\\programdata\\anaconda3\\lib\\site-packages (from rouge-score) (1.26.4)\n",
      "Requirement already satisfied: six>=1.14.0 in c:\\programdata\\anaconda3\\lib\\site-packages (from rouge-score) (1.16.0)\n",
      "Requirement already satisfied: click in c:\\programdata\\anaconda3\\lib\\site-packages (from nltk->rouge-score) (8.1.7)\n",
      "Requirement already satisfied: joblib in c:\\users\\arabp\\appdata\\roaming\\python\\python312\\site-packages (from nltk->rouge-score) (1.3.2)\n",
      "Requirement already satisfied: regex>=2021.8.3 in c:\\programdata\\anaconda3\\lib\\site-packages (from nltk->rouge-score) (2024.9.11)\n",
      "Requirement already satisfied: tqdm in c:\\users\\arabp\\appdata\\roaming\\python\\python312\\site-packages (from nltk->rouge-score) (4.66.6)\n",
      "Requirement already satisfied: colorama in c:\\programdata\\anaconda3\\lib\\site-packages (from click->nltk->rouge-score) (0.4.6)\n",
      "Installing collected packages: rouge-score\n",
      "Successfully installed rouge-score-0.1.2\n",
      "Note: you may need to restart the kernel to use updated packages.\n"
     ]
    }
   ],
   "source": [
    "pip install rouge-score"
   ]
  },
  {
   "cell_type": "code",
   "execution_count": 6,
   "metadata": {},
   "outputs": [],
   "source": [
    "rouge = evaluate.load(\"rouge\")\n"
   ]
  },
  {
   "cell_type": "code",
   "execution_count": 17,
   "metadata": {},
   "outputs": [
    {
     "name": "stderr",
     "output_type": "stream",
     "text": [
      "100%|██████████| 502/502 [04:51<00:00,  1.72it/s]\n"
     ]
    }
   ],
   "source": [
    "import torch\n",
    "import evaluate\n",
    "from tqdm import tqdm\n",
    "import pandas as pd\n",
    "\n",
    "\n",
    "Distane_Function = \"MMD\"\n",
    "Variation = \"learnable\"\n",
    "\n",
    "exact_match = {\"dataset_index\": [], \"base\": [], \"lora\": [], \"pred\": [], \"error\": []}\n",
    "missing_loras = []\n",
    "\n",
    "rouge = evaluate.load(\"rouge\")\n",
    "\n",
    "rouge_metric_results = {\n",
    "    \"dataset_index\": [],\n",
    "    \"base\": [],\n",
    "    \"lora\": [],\n",
    "    \"pred\": [],\n",
    "    \"error\": [],\n",
    "}\n",
    "\n",
    "for index in tqdm(range(502)):\n",
    "    try:\n",
    "        pred = torch.load(\n",
    "            f\"R:\\\\Research\\\\FineTuning_LoRAs\\\\0_results\\\\Learnable\\\\preds\\\\{Distane_Function}\\\\{index}.pt\",\n",
    "            weights_only=False,\n",
    "        )\n",
    "\n",
    "        lora = torch.load(\n",
    "            f\"R:\\\\Research\\\\FineTuning_LoRAs\\\\0_data\\\\Outputs\\\\base_lora\\\\{index}.pt\",\n",
    "            weights_only=False,\n",
    "        )\n",
    "\n",
    "        base = torch.load(\n",
    "            f\"R:\\\\Research\\\\FineTuning_LoRAs\\\\0_data\\\\Outputs\\\\base_model\\\\{index}.pt\",\n",
    "            weights_only=False,\n",
    "        )\n",
    "\n",
    "        labels = [item[0][\"output\"][0] for item in base]\n",
    "        base_out = [\n",
    "            item[1][\"generated_text\"][0][len(item[0][\"input\"]) :] for item in base\n",
    "        ]\n",
    "        lora_out = [\n",
    "            item[1][\"generated_text\"][0][len(item[0][\"input\"]) :] for item in lora\n",
    "        ]\n",
    "        pred_out = [\n",
    "            item[1][\"generated_text\"][0][len(item[0][\"input\"]) :] for item in pred\n",
    "        ]\n",
    "\n",
    "        rouge_metric_results[\"dataset_index\"].append(index)\n",
    "        rouge_metric_results[\"base\"].append(\n",
    "            rouge.compute(predictions=base_out, references=labels)\n",
    "        )\n",
    "        rouge_metric_results[\"lora\"].append(\n",
    "            rouge.compute(predictions=lora_out, references=labels)\n",
    "        )\n",
    "        rouge_metric_results[\"pred\"].append(\n",
    "            rouge.compute(predictions=pred_out, references=labels)\n",
    "        )\n",
    "        rouge_metric_results[\"error\"].append(\"Good\")\n",
    "\n",
    "        pred_correct = []\n",
    "        base_correct = []\n",
    "        lora_correct = []\n",
    "        for data_index in range(len(pred)):\n",
    "            if (\n",
    "                base[data_index][0][\"output\"][0].lower()\n",
    "                in base[data_index][1][\"generated_text\"][0][-10:].lower()\n",
    "            ):\n",
    "                base_correct.append(1)\n",
    "            else:\n",
    "                base_correct.append(0)\n",
    "\n",
    "            if (\n",
    "                lora[data_index][0][\"output\"][0].lower()\n",
    "                in lora[data_index][1][\"generated_text\"][0][-10:].lower()\n",
    "            ):\n",
    "                lora_correct.append(1)\n",
    "            else:\n",
    "                lora_correct.append(0)\n",
    "\n",
    "            if (\n",
    "                pred[data_index][0][\"output\"][0].lower()\n",
    "                in pred[data_index][1][\"generated_text\"][0][-10:].lower()\n",
    "            ):\n",
    "                pred_correct.append(1)\n",
    "            else:\n",
    "                pred_correct.append(0)\n",
    "\n",
    "        accuracy_base = sum(base_correct) / len(base_correct)\n",
    "        accuracy_lora = sum(lora_correct) / len(lora_correct)\n",
    "        accuracy_pred = sum(pred_correct) / len(pred_correct)\n",
    "        \n",
    "        # print(f\"Accuracy Table for model {index}:\")\n",
    "        # print(\"Base Model Accuracy: \", accuracy_base)\n",
    "        # print(\"LoRA Model Accuracy: \", accuracy_lora)\n",
    "        # print(\"Predicted Model Accuracy: \", accuracy_pred)\n",
    "\n",
    "        exact_match[\"dataset_index\"].append(index)\n",
    "        exact_match[\"base\"].append(accuracy_base)\n",
    "        exact_match[\"lora\"].append(accuracy_lora)\n",
    "        exact_match[\"pred\"].append(accuracy_pred)\n",
    "        exact_match[\"error\"].append(\"Good\")\n",
    "\n",
    "    except Exception as e:\n",
    "        rouge_metric_results[\"dataset_index\"].append(index)\n",
    "        rouge_metric_results[\"base\"].append(0)\n",
    "        rouge_metric_results[\"lora\"].append(0)\n",
    "        rouge_metric_results[\"pred\"].append(0)\n",
    "        rouge_metric_results[\"error\"].append(e)\n",
    "\n",
    "        exact_match[\"dataset_index\"].append(index)\n",
    "        exact_match[\"base\"].append(0)\n",
    "        exact_match[\"lora\"].append(0)\n",
    "        exact_match[\"pred\"].append(0)\n",
    "        exact_match[\"error\"].append(e)\n",
    "        missing_loras.append({\"index\": index, \"error\": e})\n",
    "\n",
    "rouge_l = {\"dataset\": [], \"base\": [], \"lora\": [], \"pred\": []}\n",
    "rouge_l_sum = {\"dataset\": [], \"base\": [], \"lora\": [], \"pred\": []}\n",
    "\n",
    "for index in range(502):\n",
    "    if rouge_metric_results[\"error\"][index] == \"Good\":\n",
    "        rouge_l[\"dataset\"].append(index)\n",
    "        rouge_l[\"base\"].append(rouge_metric_results[\"base\"][index][\"rougeL\"])\n",
    "        rouge_l[\"lora\"].append(rouge_metric_results[\"lora\"][index][\"rougeL\"])\n",
    "        rouge_l[\"pred\"].append(rouge_metric_results[\"pred\"][index][\"rougeL\"])\n",
    "\n",
    "        rouge_l_sum[\"dataset\"].append(index)\n",
    "        rouge_l_sum[\"base\"].append(rouge_metric_results[\"base\"][index][\"rougeLsum\"])\n",
    "        rouge_l_sum[\"lora\"].append(rouge_metric_results[\"lora\"][index][\"rougeLsum\"])\n",
    "        rouge_l_sum[\"pred\"].append(rouge_metric_results[\"pred\"][index][\"rougeLsum\"])\n",
    "\n",
    "\n",
    "results_name = Variation + \"_\" + Distane_Function\n",
    "torch.save(rouge_metric_results, f\"{results_name}_AllRouges.pt\")\n",
    "\n",
    "df_exact_match = pd.DataFrame.from_dict(exact_match)\n",
    "df_exact_match[\"pred_is_better_than_base\"] = (\n",
    "    df_exact_match[\"pred\"] > df_exact_match[\"base\"]\n",
    ")\n",
    "df_exact_match[\"pred_is_better_than_lora\"] = (\n",
    "    df_exact_match[\"pred\"] > df_exact_match[\"lora\"]\n",
    ")\n",
    "df_exact_match[\"pred_diff_base\"] = df_exact_match[\"pred\"] - df_exact_match[\"base\"]\n",
    "df_exact_match[\"pred_diff_lora\"] = df_exact_match[\"pred\"] - df_exact_match[\"lora\"]\n",
    "df_exact_match.to_csv(f\"{results_name}_ExactMatach.csv\")\n",
    "\n",
    "df_rouge_l = pd.DataFrame.from_dict(rouge_l)\n",
    "df_rouge_l.to_csv(f\"{results_name}_RougeL.csv\")\n",
    "\n",
    "\n",
    "df_rouge_l_sum = pd.DataFrame.from_dict(rouge_l_sum)\n",
    "df_rouge_l_sum.to_csv(f\"{results_name}_RougeLSum.csv\")"
   ]
  },
  {
   "cell_type": "code",
   "execution_count": 8,
   "metadata": {},
   "outputs": [],
   "source": [
    "index = 24\n",
    "pred = torch.load(\n",
    "        f\"R:\\\\Research\\\\FineTuning_LoRAs\\\\results\\\\{Distane_Function}\\\\nonlearnable\\\\predicted_loras_outputs\\\\{index}.pt\",\n",
    "        weights_only=False,\n",
    "    )\n",
    "\n",
    "lora = torch.load(\n",
    "    f\"R:\\\\Research\\\\FineTuning_LoRAs\\\\data\\\\Outputs\\\\base_lora\\\\{index}.pt\",\n",
    "    weights_only=False,\n",
    ")\n",
    "\n",
    "base = torch.load(\n",
    "    f\"R:\\\\Research\\\\FineTuning_LoRAs\\\\data\\\\Outputs\\\\base_model\\\\{index}.pt\",\n",
    "    weights_only=False,\n",
    ")"
   ]
  },
  {
   "cell_type": "code",
   "execution_count": 9,
   "metadata": {},
   "outputs": [
    {
     "data": {
      "text/plain": [
       "[{'input': 'Definition: In this task the focus is on physical knowledge about the world. Given the provided goal task in the input, describe a process that would lead to the asked outcome. This process often involves physical motions with objects, such as moving them, arranging them in a certain way, mixing them, shaking them, etc.\\n\\nPositive Example 1 -\\nInput: How do you remove keys from a computer keyboard for cleaning?\\nOutput: Place the tip of a knife under the corner of a key and gently twist to pop it off.\\n\\nPositive Example 2 -\\nInput: How can you dry wet replacement computer keyboard keys?\\nOutput: by arranging paper towels on the counter and evenly spacing out each key to dry, face side up, on top of them.\\n\\nNegative Example 1 -\\nInput: How do you remove keys?\\nOutput: pry them off with a knife.\\n\\nNegative Example 2 -\\nInput: How can you dry wet replacement computer keyboard keys?\\nOutput: Place them in the oven on low\\n\\nNow complete the following example -\\nInput: Clean bathroom tiles.\\nOutput: \\n\\n',\n",
       "  'output': ['Use half slice of potato to clean bathroom tiles, then rinse.'],\n",
       "  'id': 'task080-7c004972f63146e7b9de326403202db2'},\n",
       " {'generated_text': [\"Definition: In this task the focus is on physical knowledge about the world. Given the provided goal task in the input, describe a process that would lead to the asked outcome. This process often involves physical motions with objects, such as moving them, arranging them in a certain way, mixing them, shaking them, etc.\\n\\nPositive Example 1 -\\nInput: How do you remove keys from a computer keyboard for cleaning?\\nOutput: Place the tip of a knife under the corner of a key and gently twist to pop it off.\\n\\nPositive Example 2 -\\nInput: How can you dry wet replacement computer keyboard keys?\\nOutput: by arranging paper towels on the counter and evenly spacing out each key to dry, face side up, on top of them.\\n\\nNegative Example 1 -\\nInput: How do you remove keys?\\nOutput: pry them off with a knife.\\n\\nNegative Example 2 -\\nInput: How can you dry wet replacement computer keyboard keys?\\nOutput: Place them in the oven on low\\n\\nNow complete the following example -\\nInput: Clean bathroom tiles.\\nOutput: \\n\\n1. Sweep the floor to remove loose debris.\\n2. Mix a solution of equal parts white vinegar and warm water in a bucket.\\n3. Dip a sponge or cloth into the solution and wring it out so it's damp but not soaking wet.\\n4. Wipe down the tiles with the damp sponge or cloth, starting at the top and working your way down to avoid streaks.\\n5. Rinse the sponge or cloth frequently in clean water and wring it out to avoid spreading dirt back onto the tiles.\\n6. Dry the tiles with a clean, dry towel to prevent water spots.\\n7. For stubborn stains, use a soft-bristled brush dipped in the solution to gently scrub the area.\\n8. Repeat the process as necessary to ensure all tiles are clean.\"]}]"
      ]
     },
     "execution_count": 9,
     "metadata": {},
     "output_type": "execute_result"
    }
   ],
   "source": [
    "base[1]"
   ]
  },
  {
   "cell_type": "code",
   "execution_count": 13,
   "metadata": {},
   "outputs": [
    {
     "data": {
      "text/plain": [
       "[{'input': 'Definition: In this task the focus is on physical knowledge about the world. Given the provided goal task in the input, describe a process that would lead to the asked outcome. This process often involves physical motions with objects, such as moving them, arranging them in a certain way, mixing them, shaking them, etc.\\n\\nPositive Example 1 -\\nInput: How do you remove keys from a computer keyboard for cleaning?\\nOutput: Place the tip of a knife under the corner of a key and gently twist to pop it off.\\n\\nPositive Example 2 -\\nInput: How can you dry wet replacement computer keyboard keys?\\nOutput: by arranging paper towels on the counter and evenly spacing out each key to dry, face side up, on top of them.\\n\\nNegative Example 1 -\\nInput: How do you remove keys?\\nOutput: pry them off with a knife.\\n\\nNegative Example 2 -\\nInput: How can you dry wet replacement computer keyboard keys?\\nOutput: Place them in the oven on low\\n\\nNow complete the following example -\\nInput: To determine what size to make a leather mystery braid cuff,\\nOutput: \\n\\n',\n",
       "  'output': ['measure the circumference of your wrist using a measuring tape and add 1 inch to that measurement.'],\n",
       "  'id': 'task080-afc9c5ed85f34d0f885c4f3e8d41138d'},\n",
       " {'generated_text': ['Definition: In this task the focus is on physical knowledge about the world. Given the provided goal task in the input, describe a process that would lead to the asked outcome. This process often involves physical motions with objects, such as moving them, arranging them in a certain way, mixing them, shaking them, etc.\\n\\nPositive Example 1 -\\nInput: How do you remove keys from a computer keyboard for cleaning?\\nOutput: Place the tip of a knife under the corner of a key and gently twist to pop it off.\\n\\nPositive Example 2 -\\nInput: How can you dry wet replacement computer keyboard keys?\\nOutput: by arranging paper towels on the counter and evenly spacing out each key to dry, face side up, on top of them.\\n\\nNegative Example 1 -\\nInput: How do you remove keys?\\nOutput: pry them off with a knife.\\n\\nNegative Example 2 -\\nInput: How can you dry wet replacement computer keyboard keys?\\nOutput: Place them in the oven on low\\n\\nNow complete the following example -\\nInput: To determine what size to make a leather mystery braid cuff,\\nOutput: \\n\\n1. Measure the circumference of the wrist or forearm where the cuff will be worn.\\n2. Add 1 inch to the measurement for overlap and closure.\\n3. Divide the total length by the number of strands in the braid.\\n4. Multiply the result by the width of one strand to find the width of each strand.\\n5. Cut the leather into the calculated width and length for each strand.\\n6. Begin braiding the strands, alternating the direction of the braid to create a mystery pattern.\\n7. Once the braid is complete, measure the length and trim the ends to the desired length.\\n8. Sew the ends of the braid together to create a loop for wearing the cuff.']}]"
      ]
     },
     "execution_count": 13,
     "metadata": {},
     "output_type": "execute_result"
    }
   ],
   "source": [
    "base[5]"
   ]
  },
  {
   "cell_type": "code",
   "execution_count": 14,
   "metadata": {},
   "outputs": [
    {
     "data": {
      "text/plain": [
       "[{'input': 'Definition: In this task the focus is on physical knowledge about the world. Given the provided goal task in the input, describe a process that would lead to the asked outcome. This process often involves physical motions with objects, such as moving them, arranging them in a certain way, mixing them, shaking them, etc.\\n\\nPositive Example 1 -\\nInput: How do you remove keys from a computer keyboard for cleaning?\\nOutput: Place the tip of a knife under the corner of a key and gently twist to pop it off.\\n\\nPositive Example 2 -\\nInput: How can you dry wet replacement computer keyboard keys?\\nOutput: by arranging paper towels on the counter and evenly spacing out each key to dry, face side up, on top of them.\\n\\nNegative Example 1 -\\nInput: How do you remove keys?\\nOutput: pry them off with a knife.\\n\\nNegative Example 2 -\\nInput: How can you dry wet replacement computer keyboard keys?\\nOutput: Place them in the oven on low\\n\\nNow complete the following example -\\nInput: To determine what size to make a leather mystery braid cuff,\\nOutput: \\n\\n',\n",
       "  'output': ['measure the circumference of your wrist using a measuring tape and add 1 inch to that measurement.'],\n",
       "  'id': 'task080-afc9c5ed85f34d0f885c4f3e8d41138d'},\n",
       " {'generated_text': ['Definition: In this task the focus is on physical knowledge about the world. Given the provided goal task in the input, describe a process that would lead to the asked outcome. This process often involves physical motions with objects, such as moving them, arranging them in a certain way, mixing them, shaking them, etc.\\n\\nPositive Example 1 -\\nInput: How do you remove keys from a computer keyboard for cleaning?\\nOutput: Place the tip of a knife under the corner of a key and gently twist to pop it off.\\n\\nPositive Example 2 -\\nInput: How can you dry wet replacement computer keyboard keys?\\nOutput: by arranging paper towels on the counter and evenly spacing out each key to dry, face side up, on top of them.\\n\\nNegative Example 1 -\\nInput: How do you remove keys?\\nOutput: pry them off with a knife.\\n\\nNegative Example 2 -\\nInput: How can you dry wet replacement computer keyboard keys?\\nOutput: Place them in the oven on low\\n\\nNow complete the following example -\\nInput: To determine what size to make a leather mystery braid cuff,\\nOutput: \\n\\nmeasure the circumference of your wrist and add 1/2 inch.']}]"
      ]
     },
     "execution_count": 14,
     "metadata": {},
     "output_type": "execute_result"
    }
   ],
   "source": [
    "lora[5]"
   ]
  },
  {
   "cell_type": "code",
   "execution_count": 15,
   "metadata": {},
   "outputs": [
    {
     "data": {
      "text/plain": [
       "[{'input': 'Definition: In this task the focus is on physical knowledge about the world. Given the provided goal task in the input, describe a process that would lead to the asked outcome. This process often involves physical motions with objects, such as moving them, arranging them in a certain way, mixing them, shaking them, etc.\\n\\nPositive Example 1 -\\nInput: How do you remove keys from a computer keyboard for cleaning?\\nOutput: Place the tip of a knife under the corner of a key and gently twist to pop it off.\\n\\nPositive Example 2 -\\nInput: How can you dry wet replacement computer keyboard keys?\\nOutput: by arranging paper towels on the counter and evenly spacing out each key to dry, face side up, on top of them.\\n\\nNegative Example 1 -\\nInput: How do you remove keys?\\nOutput: pry them off with a knife.\\n\\nNegative Example 2 -\\nInput: How can you dry wet replacement computer keyboard keys?\\nOutput: Place them in the oven on low\\n\\nNow complete the following example -\\nInput: To determine what size to make a leather mystery braid cuff,\\nOutput: \\n\\n',\n",
       "  'output': ['measure the circumference of your wrist using a measuring tape and add 1 inch to that measurement.'],\n",
       "  'id': 'task080-afc9c5ed85f34d0f885c4f3e8d41138d'},\n",
       " {'generated_text': ['Definition: In this task the focus is on physical knowledge about the world. Given the provided goal task in the input, describe a process that would lead to the asked outcome. This process often involves physical motions with objects, such as moving them, arranging them in a certain way, mixing them, shaking them, etc.\\n\\nPositive Example 1 -\\nInput: How do you remove keys from a computer keyboard for cleaning?\\nOutput: Place the tip of a knife under the corner of a key and gently twist to pop it off.\\n\\nPositive Example 2 -\\nInput: How can you dry wet replacement computer keyboard keys?\\nOutput: by arranging paper towels on the counter and evenly spacing out each key to dry, face side up, on top of them.\\n\\nNegative Example 1 -\\nInput: How do you remove keys?\\nOutput: pry them off with a knife.\\n\\nNegative Example 2 -\\nInput: How can you dry wet replacement computer keyboard keys?\\nOutput: Place them in the oven on low\\n\\nNow complete the following example -\\nInput: To determine what size to make a leather mystery braid cuff,\\nOutput: \\n\\n First, measure the circumference of the wrist or arm where the cuff will be worn. \\n Then, add 1 inch to the measurement for overlap. \\n Finally, divide the total measurement by 3 to determine the number of strands needed. \\n Using a ruler, measure the length of each strand to be 3 times the width of the cuff plus 1 inch. \\n Cut the strands to the measured length. \\n Begin braiding the strands, alternating the direction of the braid every few inches. \\n Once the braid is complete, measure the length of the braid and add 1 inch for the clasp and 1 inch for the buckle. \\n Cut the braid to the measured length. \\n Attach the clasp and buckle to the ends of the braid. ']}]"
      ]
     },
     "execution_count": 15,
     "metadata": {},
     "output_type": "execute_result"
    }
   ],
   "source": [
    "pred[5]"
   ]
  },
  {
   "cell_type": "code",
   "execution_count": 12,
   "metadata": {},
   "outputs": [
    {
     "data": {
      "text/plain": [
       "[{'input': 'Definition: In this task the focus is on physical knowledge about the world. Given the provided goal task in the input, describe a process that would lead to the asked outcome. This process often involves physical motions with objects, such as moving them, arranging them in a certain way, mixing them, shaking them, etc.\\n\\nPositive Example 1 -\\nInput: How do you remove keys from a computer keyboard for cleaning?\\nOutput: Place the tip of a knife under the corner of a key and gently twist to pop it off.\\n\\nPositive Example 2 -\\nInput: How can you dry wet replacement computer keyboard keys?\\nOutput: by arranging paper towels on the counter and evenly spacing out each key to dry, face side up, on top of them.\\n\\nNegative Example 1 -\\nInput: How do you remove keys?\\nOutput: pry them off with a knife.\\n\\nNegative Example 2 -\\nInput: How can you dry wet replacement computer keyboard keys?\\nOutput: Place them in the oven on low\\n\\nNow complete the following example -\\nInput: Clean bathroom tiles.\\nOutput: \\n\\n',\n",
       "  'output': ['Use half slice of potato to clean bathroom tiles, then rinse.'],\n",
       "  'id': 'task080-7c004972f63146e7b9de326403202db2'},\n",
       " {'generated_text': ['Definition: In this task the focus is on physical knowledge about the world. Given the provided goal task in the input, describe a process that would lead to the asked outcome. This process often involves physical motions with objects, such as moving them, arranging them in a certain way, mixing them, shaking them, etc.\\n\\nPositive Example 1 -\\nInput: How do you remove keys from a computer keyboard for cleaning?\\nOutput: Place the tip of a knife under the corner of a key and gently twist to pop it off.\\n\\nPositive Example 2 -\\nInput: How can you dry wet replacement computer keyboard keys?\\nOutput: by arranging paper towels on the counter and evenly spacing out each key to dry, face side up, on top of them.\\n\\nNegative Example 1 -\\nInput: How do you remove keys?\\nOutput: pry them off with a knife.\\n\\nNegative Example 2 -\\nInput: How can you dry wet replacement computer keyboard keys?\\nOutput: Place them in the oven on low\\n\\nNow complete the following example -\\nInput: Clean bathroom tiles.\\nOutput: \\n\\n Wipe down the tiles with a damp sponge or cloth, then rinse with clean water and dry with a towel. ']}]"
      ]
     },
     "execution_count": 12,
     "metadata": {},
     "output_type": "execute_result"
    }
   ],
   "source": [
    "pred[1]"
   ]
  },
  {
   "cell_type": "code",
   "execution_count": null,
   "metadata": {},
   "outputs": [],
   "source": []
  }
 ],
 "metadata": {
  "kernelspec": {
   "display_name": "base",
   "language": "python",
   "name": "python3"
  },
  "language_info": {
   "codemirror_mode": {
    "name": "ipython",
    "version": 3
   },
   "file_extension": ".py",
   "mimetype": "text/x-python",
   "name": "python",
   "nbconvert_exporter": "python",
   "pygments_lexer": "ipython3",
   "version": "3.12.7"
  }
 },
 "nbformat": 4,
 "nbformat_minor": 2
}
