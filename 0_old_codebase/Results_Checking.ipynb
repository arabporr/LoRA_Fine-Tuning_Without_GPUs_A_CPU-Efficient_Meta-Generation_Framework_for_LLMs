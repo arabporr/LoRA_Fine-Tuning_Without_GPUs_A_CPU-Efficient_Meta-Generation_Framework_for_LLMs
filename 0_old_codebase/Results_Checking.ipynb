{
 "cells": [
  {
   "cell_type": "code",
   "execution_count": 3,
   "metadata": {},
   "outputs": [
    {
     "name": "stderr",
     "output_type": "stream",
     "text": [
      "  0%|          | 1/502 [00:00<01:36,  5.20it/s]"
     ]
    },
    {
     "name": "stdout",
     "output_type": "stream",
     "text": [
      "Accuracy Table for model 0:\n",
      "Base Model Accuracy:  0.3076923076923077\n",
      "LoRA Model Accuracy:  1.0\n",
      "Predicted Model Accuracy:  0.7692307692307693\n"
     ]
    },
    {
     "name": "stderr",
     "output_type": "stream",
     "text": [
      "  0%|          | 2/502 [00:00<03:03,  2.72it/s]"
     ]
    },
    {
     "name": "stdout",
     "output_type": "stream",
     "text": [
      "Accuracy Table for model 1:\n",
      "Base Model Accuracy:  0.42923076923076925\n",
      "LoRA Model Accuracy:  0.7953846153846154\n",
      "Predicted Model Accuracy:  0.42615384615384616\n"
     ]
    },
    {
     "name": "stderr",
     "output_type": "stream",
     "text": [
      "  1%|          | 3/502 [00:04<15:58,  1.92s/it]"
     ]
    },
    {
     "name": "stdout",
     "output_type": "stream",
     "text": [
      "Accuracy Table for model 2:\n",
      "Base Model Accuracy:  0.0\n",
      "LoRA Model Accuracy:  0.0\n",
      "Predicted Model Accuracy:  0.0\n"
     ]
    },
    {
     "name": "stderr",
     "output_type": "stream",
     "text": [
      "  1%|          | 4/502 [00:05<13:02,  1.57s/it]"
     ]
    },
    {
     "name": "stdout",
     "output_type": "stream",
     "text": [
      "Accuracy Table for model 3:\n",
      "Base Model Accuracy:  0.0\n",
      "LoRA Model Accuracy:  0.0\n",
      "Predicted Model Accuracy:  0.0\n"
     ]
    },
    {
     "name": "stderr",
     "output_type": "stream",
     "text": [
      "  1%|          | 5/502 [00:06<09:54,  1.20s/it]"
     ]
    },
    {
     "name": "stdout",
     "output_type": "stream",
     "text": [
      "Accuracy Table for model 4:\n",
      "Base Model Accuracy:  0.1723076923076923\n",
      "LoRA Model Accuracy:  0.5107692307692308\n",
      "Predicted Model Accuracy:  0.24307692307692308\n"
     ]
    },
    {
     "name": "stderr",
     "output_type": "stream",
     "text": [
      "  1%|          | 6/502 [00:06<07:17,  1.13it/s]"
     ]
    },
    {
     "name": "stdout",
     "output_type": "stream",
     "text": [
      "Accuracy Table for model 5:\n",
      "Base Model Accuracy:  0.30994152046783624\n",
      "LoRA Model Accuracy:  0.9005847953216374\n",
      "Predicted Model Accuracy:  0.5146198830409356\n"
     ]
    },
    {
     "name": "stderr",
     "output_type": "stream",
     "text": [
      "  2%|▏         | 8/502 [00:06<04:36,  1.79it/s]"
     ]
    },
    {
     "name": "stdout",
     "output_type": "stream",
     "text": [
      "Accuracy Table for model 6:\n",
      "Base Model Accuracy:  0.0\n",
      "LoRA Model Accuracy:  0.008928571428571428\n",
      "Predicted Model Accuracy:  0.0\n",
      "Accuracy Table for model 7:\n",
      "Base Model Accuracy:  0.0\n",
      "LoRA Model Accuracy:  0.0\n",
      "Predicted Model Accuracy:  0.0\n"
     ]
    },
    {
     "name": "stderr",
     "output_type": "stream",
     "text": [
      "  2%|▏         | 9/502 [00:07<03:39,  2.25it/s]"
     ]
    },
    {
     "name": "stdout",
     "output_type": "stream",
     "text": [
      "Accuracy Table for model 8:\n",
      "Base Model Accuracy:  0.07692307692307693\n",
      "LoRA Model Accuracy:  0.8076923076923077\n",
      "Predicted Model Accuracy:  0.46153846153846156\n"
     ]
    },
    {
     "name": "stderr",
     "output_type": "stream",
     "text": [
      "  2%|▏         | 10/502 [00:07<03:48,  2.15it/s]"
     ]
    },
    {
     "name": "stdout",
     "output_type": "stream",
     "text": [
      "Accuracy Table for model 9:\n",
      "Base Model Accuracy:  0.16385135135135134\n",
      "LoRA Model Accuracy:  0.8057432432432432\n",
      "Predicted Model Accuracy:  0.527027027027027\n"
     ]
    },
    {
     "name": "stderr",
     "output_type": "stream",
     "text": [
      "  2%|▏         | 11/502 [00:08<04:03,  2.01it/s]"
     ]
    },
    {
     "name": "stdout",
     "output_type": "stream",
     "text": [
      "Accuracy Table for model 10:\n",
      "Base Model Accuracy:  0.27076923076923076\n",
      "LoRA Model Accuracy:  0.4969230769230769\n",
      "Predicted Model Accuracy:  0.4153846153846154\n"
     ]
    },
    {
     "name": "stderr",
     "output_type": "stream",
     "text": [
      "  2%|▏         | 12/502 [00:08<04:43,  1.73it/s]"
     ]
    },
    {
     "name": "stdout",
     "output_type": "stream",
     "text": [
      "Accuracy Table for model 11:\n",
      "Base Model Accuracy:  0.018461538461538463\n",
      "LoRA Model Accuracy:  0.09692307692307692\n",
      "Predicted Model Accuracy:  0.05384615384615385\n"
     ]
    },
    {
     "name": "stderr",
     "output_type": "stream",
     "text": [
      "  3%|▎         | 13/502 [00:09<04:52,  1.67it/s]"
     ]
    },
    {
     "name": "stdout",
     "output_type": "stream",
     "text": [
      "Accuracy Table for model 12:\n",
      "Base Model Accuracy:  0.09076923076923077\n",
      "LoRA Model Accuracy:  0.9307692307692308\n",
      "Predicted Model Accuracy:  0.055384615384615386\n"
     ]
    },
    {
     "name": "stderr",
     "output_type": "stream",
     "text": [
      "  3%|▎         | 14/502 [00:10<04:32,  1.79it/s]"
     ]
    },
    {
     "name": "stdout",
     "output_type": "stream",
     "text": [
      "Accuracy Table for model 13:\n",
      "Base Model Accuracy:  0.7215384615384616\n",
      "LoRA Model Accuracy:  0.9907692307692307\n",
      "Predicted Model Accuracy:  0.9246153846153846\n"
     ]
    },
    {
     "name": "stderr",
     "output_type": "stream",
     "text": [
      "  3%|▎         | 15/502 [00:10<05:01,  1.62it/s]"
     ]
    },
    {
     "name": "stdout",
     "output_type": "stream",
     "text": [
      "Accuracy Table for model 14:\n",
      "Base Model Accuracy:  0.0\n",
      "LoRA Model Accuracy:  0.0\n",
      "Predicted Model Accuracy:  0.0\n"
     ]
    },
    {
     "name": "stderr",
     "output_type": "stream",
     "text": [
      "  3%|▎         | 16/502 [00:11<05:40,  1.43it/s]"
     ]
    },
    {
     "name": "stdout",
     "output_type": "stream",
     "text": [
      "Accuracy Table for model 15:\n",
      "Base Model Accuracy:  0.0\n",
      "LoRA Model Accuracy:  0.0\n",
      "Predicted Model Accuracy:  0.0\n"
     ]
    },
    {
     "name": "stderr",
     "output_type": "stream",
     "text": [
      "  3%|▎         | 17/502 [00:12<05:18,  1.52it/s]"
     ]
    },
    {
     "name": "stdout",
     "output_type": "stream",
     "text": [
      "Accuracy Table for model 16:\n",
      "Base Model Accuracy:  0.08\n",
      "LoRA Model Accuracy:  0.9307692307692308\n",
      "Predicted Model Accuracy:  0.6692307692307692\n"
     ]
    },
    {
     "name": "stderr",
     "output_type": "stream",
     "text": [
      "  4%|▎         | 18/502 [00:12<04:58,  1.62it/s]"
     ]
    },
    {
     "name": "stdout",
     "output_type": "stream",
     "text": [
      "Accuracy Table for model 17:\n",
      "Base Model Accuracy:  0.07846153846153846\n",
      "LoRA Model Accuracy:  0.8876923076923077\n",
      "Predicted Model Accuracy:  0.5892307692307692\n"
     ]
    },
    {
     "name": "stderr",
     "output_type": "stream",
     "text": [
      "  4%|▍         | 19/502 [00:13<04:57,  1.63it/s]"
     ]
    },
    {
     "name": "stdout",
     "output_type": "stream",
     "text": [
      "Accuracy Table for model 18:\n",
      "Base Model Accuracy:  0.0\n",
      "LoRA Model Accuracy:  0.0\n",
      "Predicted Model Accuracy:  0.0\n"
     ]
    },
    {
     "name": "stderr",
     "output_type": "stream",
     "text": [
      "  4%|▍         | 20/502 [00:14<07:02,  1.14it/s]"
     ]
    },
    {
     "name": "stdout",
     "output_type": "stream",
     "text": [
      "Accuracy Table for model 19:\n",
      "Base Model Accuracy:  0.0\n",
      "LoRA Model Accuracy:  0.0\n",
      "Predicted Model Accuracy:  0.0\n"
     ]
    },
    {
     "name": "stderr",
     "output_type": "stream",
     "text": [
      "  4%|▍         | 21/502 [00:15<06:15,  1.28it/s]"
     ]
    },
    {
     "name": "stdout",
     "output_type": "stream",
     "text": [
      "Accuracy Table for model 20:\n",
      "Base Model Accuracy:  0.2246153846153846\n",
      "LoRA Model Accuracy:  0.32153846153846155\n",
      "Predicted Model Accuracy:  0.25384615384615383\n"
     ]
    },
    {
     "name": "stderr",
     "output_type": "stream",
     "text": [
      "  4%|▍         | 22/502 [00:15<05:29,  1.46it/s]"
     ]
    },
    {
     "name": "stdout",
     "output_type": "stream",
     "text": [
      "Accuracy Table for model 21:\n",
      "Base Model Accuracy:  0.0\n",
      "LoRA Model Accuracy:  0.0\n",
      "Predicted Model Accuracy:  0.0\n"
     ]
    },
    {
     "name": "stderr",
     "output_type": "stream",
     "text": [
      "  5%|▍         | 23/502 [00:16<05:23,  1.48it/s]"
     ]
    },
    {
     "name": "stdout",
     "output_type": "stream",
     "text": [
      "Accuracy Table for model 22:\n",
      "Base Model Accuracy:  0.0\n",
      "LoRA Model Accuracy:  0.0\n",
      "Predicted Model Accuracy:  0.0\n"
     ]
    },
    {
     "name": "stderr",
     "output_type": "stream",
     "text": [
      "  5%|▍         | 24/502 [00:17<04:52,  1.63it/s]"
     ]
    },
    {
     "name": "stdout",
     "output_type": "stream",
     "text": [
      "Accuracy Table for model 23:\n",
      "Base Model Accuracy:  0.13\n",
      "LoRA Model Accuracy:  0.23\n",
      "Predicted Model Accuracy:  0.142\n"
     ]
    },
    {
     "name": "stderr",
     "output_type": "stream",
     "text": [
      "  5%|▍         | 25/502 [00:19<09:28,  1.19s/it]"
     ]
    },
    {
     "name": "stdout",
     "output_type": "stream",
     "text": [
      "Accuracy Table for model 24:\n",
      "Base Model Accuracy:  0.0\n",
      "LoRA Model Accuracy:  0.0\n",
      "Predicted Model Accuracy:  0.0\n"
     ]
    },
    {
     "name": "stderr",
     "output_type": "stream",
     "text": [
      "  5%|▌         | 26/502 [00:21<12:05,  1.52s/it]"
     ]
    },
    {
     "name": "stdout",
     "output_type": "stream",
     "text": [
      "Accuracy Table for model 25:\n",
      "Base Model Accuracy:  0.0\n",
      "LoRA Model Accuracy:  0.0\n",
      "Predicted Model Accuracy:  0.0\n"
     ]
    },
    {
     "name": "stderr",
     "output_type": "stream",
     "text": [
      "  5%|▌         | 27/502 [00:22<08:59,  1.14s/it]"
     ]
    },
    {
     "name": "stdout",
     "output_type": "stream",
     "text": [
      "Accuracy Table for model 26:\n",
      "Base Model Accuracy:  0.73\n",
      "LoRA Model Accuracy:  1.0\n",
      "Predicted Model Accuracy:  0.79\n"
     ]
    },
    {
     "name": "stderr",
     "output_type": "stream",
     "text": [
      "  6%|▌         | 28/502 [00:22<06:51,  1.15it/s]"
     ]
    },
    {
     "name": "stdout",
     "output_type": "stream",
     "text": [
      "Accuracy Table for model 27:\n",
      "Base Model Accuracy:  0.67\n",
      "LoRA Model Accuracy:  1.0\n",
      "Predicted Model Accuracy:  0.94\n"
     ]
    },
    {
     "name": "stderr",
     "output_type": "stream",
     "text": [
      "  6%|▌         | 29/502 [00:23<06:48,  1.16it/s]"
     ]
    },
    {
     "name": "stdout",
     "output_type": "stream",
     "text": [
      "Accuracy Table for model 28:\n",
      "Base Model Accuracy:  0.015384615384615385\n",
      "LoRA Model Accuracy:  0.047692307692307694\n",
      "Predicted Model Accuracy:  0.003076923076923077\n"
     ]
    },
    {
     "name": "stderr",
     "output_type": "stream",
     "text": [
      "  6%|▌         | 30/502 [00:24<06:47,  1.16it/s]"
     ]
    },
    {
     "name": "stdout",
     "output_type": "stream",
     "text": [
      "Accuracy Table for model 29:\n",
      "Base Model Accuracy:  0.003076923076923077\n",
      "LoRA Model Accuracy:  0.09538461538461539\n",
      "Predicted Model Accuracy:  0.0\n"
     ]
    },
    {
     "name": "stderr",
     "output_type": "stream",
     "text": [
      "  6%|▌         | 31/502 [00:24<05:53,  1.33it/s]"
     ]
    },
    {
     "name": "stdout",
     "output_type": "stream",
     "text": [
      "Accuracy Table for model 30:\n",
      "Base Model Accuracy:  0.006153846153846154\n",
      "LoRA Model Accuracy:  0.8461538461538461\n",
      "Predicted Model Accuracy:  0.0015384615384615385\n"
     ]
    },
    {
     "name": "stderr",
     "output_type": "stream",
     "text": [
      "  6%|▋         | 32/502 [00:25<06:03,  1.29it/s]"
     ]
    },
    {
     "name": "stdout",
     "output_type": "stream",
     "text": [
      "Accuracy Table for model 31:\n",
      "Base Model Accuracy:  0.09076923076923077\n",
      "LoRA Model Accuracy:  0.8384615384615385\n",
      "Predicted Model Accuracy:  0.5276923076923077\n"
     ]
    },
    {
     "name": "stderr",
     "output_type": "stream",
     "text": [
      "  7%|▋         | 33/502 [00:26<07:41,  1.02it/s]"
     ]
    },
    {
     "name": "stdout",
     "output_type": "stream",
     "text": [
      "Accuracy Table for model 32:\n",
      "Base Model Accuracy:  0.0\n",
      "LoRA Model Accuracy:  0.0\n",
      "Predicted Model Accuracy:  0.0\n"
     ]
    },
    {
     "name": "stderr",
     "output_type": "stream",
     "text": [
      "  7%|▋         | 34/502 [00:27<06:50,  1.14it/s]"
     ]
    },
    {
     "name": "stdout",
     "output_type": "stream",
     "text": [
      "Accuracy Table for model 33:\n",
      "Base Model Accuracy:  0.05\n",
      "LoRA Model Accuracy:  0.038\n",
      "Predicted Model Accuracy:  0.038\n"
     ]
    },
    {
     "name": "stderr",
     "output_type": "stream",
     "text": [
      "  7%|▋         | 35/502 [00:28<06:21,  1.22it/s]"
     ]
    },
    {
     "name": "stdout",
     "output_type": "stream",
     "text": [
      "Accuracy Table for model 34:\n",
      "Base Model Accuracy:  0.4759036144578313\n",
      "LoRA Model Accuracy:  1.0\n",
      "Predicted Model Accuracy:  0.4879518072289157\n"
     ]
    },
    {
     "name": "stderr",
     "output_type": "stream",
     "text": [
      "  7%|▋         | 36/502 [00:28<06:02,  1.28it/s]"
     ]
    },
    {
     "name": "stdout",
     "output_type": "stream",
     "text": [
      "Accuracy Table for model 35:\n",
      "Base Model Accuracy:  0.04461538461538461\n",
      "LoRA Model Accuracy:  0.47846153846153844\n",
      "Predicted Model Accuracy:  0.07076923076923076\n"
     ]
    },
    {
     "name": "stderr",
     "output_type": "stream",
     "text": [
      "  7%|▋         | 37/502 [00:29<05:40,  1.36it/s]"
     ]
    },
    {
     "name": "stdout",
     "output_type": "stream",
     "text": [
      "Accuracy Table for model 36:\n",
      "Base Model Accuracy:  0.0\n",
      "LoRA Model Accuracy:  0.0\n",
      "Predicted Model Accuracy:  0.0\n"
     ]
    },
    {
     "name": "stderr",
     "output_type": "stream",
     "text": [
      "  8%|▊         | 38/502 [00:30<05:49,  1.33it/s]"
     ]
    },
    {
     "name": "stdout",
     "output_type": "stream",
     "text": [
      "Accuracy Table for model 37:\n",
      "Base Model Accuracy:  0.0\n",
      "LoRA Model Accuracy:  0.0\n",
      "Predicted Model Accuracy:  0.0\n"
     ]
    },
    {
     "name": "stderr",
     "output_type": "stream",
     "text": [
      "  8%|▊         | 39/502 [00:30<05:13,  1.48it/s]"
     ]
    },
    {
     "name": "stdout",
     "output_type": "stream",
     "text": [
      "Accuracy Table for model 38:\n",
      "Base Model Accuracy:  0.0\n",
      "LoRA Model Accuracy:  0.0\n",
      "Predicted Model Accuracy:  0.0\n"
     ]
    },
    {
     "name": "stderr",
     "output_type": "stream",
     "text": [
      "  8%|▊         | 40/502 [00:30<04:09,  1.85it/s]"
     ]
    },
    {
     "name": "stdout",
     "output_type": "stream",
     "text": [
      "Accuracy Table for model 39:\n",
      "Base Model Accuracy:  0.0\n",
      "LoRA Model Accuracy:  0.15\n",
      "Predicted Model Accuracy:  0.05\n"
     ]
    },
    {
     "name": "stderr",
     "output_type": "stream",
     "text": [
      "  8%|▊         | 42/502 [00:31<02:49,  2.72it/s]"
     ]
    },
    {
     "name": "stdout",
     "output_type": "stream",
     "text": [
      "Accuracy Table for model 40:\n",
      "Base Model Accuracy:  0.0\n",
      "LoRA Model Accuracy:  0.0\n",
      "Predicted Model Accuracy:  0.0\n",
      "Accuracy Table for model 41:\n",
      "Base Model Accuracy:  0.625\n",
      "LoRA Model Accuracy:  1.0\n",
      "Predicted Model Accuracy:  0.6875\n"
     ]
    },
    {
     "name": "stderr",
     "output_type": "stream",
     "text": [
      "  9%|▊         | 43/502 [00:31<02:49,  2.71it/s]"
     ]
    },
    {
     "name": "stdout",
     "output_type": "stream",
     "text": [
      "Accuracy Table for model 42:\n",
      "Base Model Accuracy:  0.215\n",
      "LoRA Model Accuracy:  0.8525\n",
      "Predicted Model Accuracy:  0.315\n"
     ]
    },
    {
     "name": "stderr",
     "output_type": "stream",
     "text": [
      "  9%|▉         | 44/502 [00:32<04:41,  1.63it/s]"
     ]
    },
    {
     "name": "stdout",
     "output_type": "stream",
     "text": [
      "Accuracy Table for model 43:\n",
      "Base Model Accuracy:  0.0\n",
      "LoRA Model Accuracy:  0.0\n",
      "Predicted Model Accuracy:  0.0\n"
     ]
    },
    {
     "name": "stderr",
     "output_type": "stream",
     "text": [
      "  9%|▉         | 45/502 [00:33<03:50,  1.98it/s]"
     ]
    },
    {
     "name": "stdout",
     "output_type": "stream",
     "text": [
      "Accuracy Table for model 44:\n",
      "Base Model Accuracy:  0.31\n",
      "LoRA Model Accuracy:  0.8\n",
      "Predicted Model Accuracy:  0.51\n"
     ]
    },
    {
     "name": "stderr",
     "output_type": "stream",
     "text": [
      "  9%|▉         | 47/502 [00:34<03:57,  1.91it/s]"
     ]
    },
    {
     "name": "stdout",
     "output_type": "stream",
     "text": [
      "Accuracy Table for model 45:\n",
      "Base Model Accuracy:  0.0876923076923077\n",
      "LoRA Model Accuracy:  0.7430769230769231\n",
      "Predicted Model Accuracy:  0.1723076923076923\n",
      "Accuracy Table for model 46:\n",
      "Base Model Accuracy:  0.625\n",
      "LoRA Model Accuracy:  0.75\n",
      "Predicted Model Accuracy:  0.75\n"
     ]
    },
    {
     "name": "stderr",
     "output_type": "stream",
     "text": [
      " 10%|▉         | 49/502 [00:34<02:41,  2.80it/s]"
     ]
    },
    {
     "name": "stdout",
     "output_type": "stream",
     "text": [
      "Accuracy Table for model 47:\n",
      "Base Model Accuracy:  0.08333333333333333\n",
      "LoRA Model Accuracy:  0.16666666666666666\n",
      "Predicted Model Accuracy:  0.125\n",
      "Accuracy Table for model 48:\n",
      "Base Model Accuracy:  0.2\n",
      "LoRA Model Accuracy:  0.85\n",
      "Predicted Model Accuracy:  0.3\n"
     ]
    },
    {
     "name": "stderr",
     "output_type": "stream",
     "text": [
      " 10%|▉         | 50/502 [00:35<02:26,  3.09it/s]"
     ]
    },
    {
     "name": "stdout",
     "output_type": "stream",
     "text": [
      "Accuracy Table for model 49:\n",
      "Base Model Accuracy:  0.0\n",
      "LoRA Model Accuracy:  0.0\n",
      "Predicted Model Accuracy:  0.0\n",
      "Accuracy Table for model 50:\n",
      "Base Model Accuracy:  0.2857142857142857\n",
      "LoRA Model Accuracy:  1.0\n",
      "Predicted Model Accuracy:  0.23809523809523808\n"
     ]
    },
    {
     "name": "stderr",
     "output_type": "stream",
     "text": [
      " 10%|█         | 52/502 [00:35<02:02,  3.68it/s]"
     ]
    },
    {
     "name": "stdout",
     "output_type": "stream",
     "text": [
      "Accuracy Table for model 51:\n",
      "Base Model Accuracy:  0.13580246913580246\n",
      "LoRA Model Accuracy:  0.9135802469135802\n",
      "Predicted Model Accuracy:  0.19753086419753085\n"
     ]
    },
    {
     "name": "stderr",
     "output_type": "stream",
     "text": [
      " 11%|█         | 53/502 [00:35<01:56,  3.86it/s]"
     ]
    },
    {
     "name": "stdout",
     "output_type": "stream",
     "text": [
      "Accuracy Table for model 52:\n",
      "Base Model Accuracy:  0.3939393939393939\n",
      "LoRA Model Accuracy:  0.8484848484848485\n",
      "Predicted Model Accuracy:  0.48484848484848486\n"
     ]
    },
    {
     "name": "stderr",
     "output_type": "stream",
     "text": [
      " 11%|█         | 54/502 [00:35<01:53,  3.94it/s]"
     ]
    },
    {
     "name": "stdout",
     "output_type": "stream",
     "text": [
      "Accuracy Table for model 53:\n",
      "Base Model Accuracy:  0.44329896907216493\n",
      "LoRA Model Accuracy:  0.7216494845360825\n",
      "Predicted Model Accuracy:  0.5257731958762887\n"
     ]
    },
    {
     "name": "stderr",
     "output_type": "stream",
     "text": [
      " 11%|█         | 55/502 [00:36<01:47,  4.17it/s]"
     ]
    },
    {
     "name": "stdout",
     "output_type": "stream",
     "text": [
      "Accuracy Table for model 54:\n",
      "Base Model Accuracy:  0.34210526315789475\n",
      "LoRA Model Accuracy:  0.9736842105263158\n",
      "Predicted Model Accuracy:  0.2894736842105263\n"
     ]
    },
    {
     "name": "stderr",
     "output_type": "stream",
     "text": [
      " 11%|█         | 56/502 [00:36<02:23,  3.11it/s]"
     ]
    },
    {
     "name": "stdout",
     "output_type": "stream",
     "text": [
      "Accuracy Table for model 55:\n",
      "Base Model Accuracy:  0.49537037037037035\n",
      "LoRA Model Accuracy:  0.9799382716049383\n",
      "Predicted Model Accuracy:  0.6265432098765432\n"
     ]
    },
    {
     "name": "stderr",
     "output_type": "stream",
     "text": [
      " 11%|█▏        | 57/502 [00:37<02:46,  2.68it/s]"
     ]
    },
    {
     "name": "stdout",
     "output_type": "stream",
     "text": [
      "Accuracy Table for model 56:\n",
      "Base Model Accuracy:  0.5555555555555556\n",
      "LoRA Model Accuracy:  0.9799382716049383\n",
      "Predicted Model Accuracy:  0.654320987654321\n"
     ]
    },
    {
     "name": "stderr",
     "output_type": "stream",
     "text": [
      " 12%|█▏        | 58/502 [00:37<02:34,  2.86it/s]"
     ]
    },
    {
     "name": "stdout",
     "output_type": "stream",
     "text": [
      "Accuracy Table for model 57:\n",
      "Base Model Accuracy:  0.07692307692307693\n",
      "LoRA Model Accuracy:  0.7282051282051282\n",
      "Predicted Model Accuracy:  0.6666666666666666\n"
     ]
    },
    {
     "name": "stderr",
     "output_type": "stream",
     "text": [
      " 12%|█▏        | 59/502 [00:37<02:41,  2.74it/s]"
     ]
    },
    {
     "name": "stdout",
     "output_type": "stream",
     "text": [
      "Accuracy Table for model 58:\n",
      "Base Model Accuracy:  0.2302839116719243\n",
      "LoRA Model Accuracy:  0.9905362776025236\n",
      "Predicted Model Accuracy:  0.3438485804416404\n"
     ]
    },
    {
     "name": "stderr",
     "output_type": "stream",
     "text": [
      " 12%|█▏        | 61/502 [00:38<02:04,  3.55it/s]"
     ]
    },
    {
     "name": "stdout",
     "output_type": "stream",
     "text": [
      "Accuracy Table for model 59:\n",
      "Base Model Accuracy:  0.55\n",
      "LoRA Model Accuracy:  0.45\n",
      "Predicted Model Accuracy:  0.3\n",
      "Accuracy Table for model 60:\n",
      "Base Model Accuracy:  0.75\n",
      "LoRA Model Accuracy:  0.95\n",
      "Predicted Model Accuracy:  0.7\n"
     ]
    },
    {
     "name": "stderr",
     "output_type": "stream",
     "text": [
      " 12%|█▏        | 62/502 [00:38<01:55,  3.81it/s]"
     ]
    },
    {
     "name": "stdout",
     "output_type": "stream",
     "text": [
      "Accuracy Table for model 61:\n",
      "Base Model Accuracy:  0.32\n",
      "LoRA Model Accuracy:  0.36\n",
      "Predicted Model Accuracy:  0.24\n"
     ]
    },
    {
     "name": "stderr",
     "output_type": "stream",
     "text": [
      " 13%|█▎        | 64/502 [00:38<01:41,  4.30it/s]"
     ]
    },
    {
     "name": "stdout",
     "output_type": "stream",
     "text": [
      "Accuracy Table for model 62:\n",
      "Base Model Accuracy:  0.0\n",
      "LoRA Model Accuracy:  0.0\n",
      "Predicted Model Accuracy:  0.0\n",
      "Accuracy Table for model 63:\n",
      "Base Model Accuracy:  0.22727272727272727\n",
      "LoRA Model Accuracy:  0.9090909090909091\n",
      "Predicted Model Accuracy:  0.8636363636363636\n"
     ]
    },
    {
     "name": "stderr",
     "output_type": "stream",
     "text": [
      " 13%|█▎        | 65/502 [00:39<01:38,  4.42it/s]"
     ]
    },
    {
     "name": "stdout",
     "output_type": "stream",
     "text": [
      "Accuracy Table for model 64:\n",
      "Base Model Accuracy:  0.1\n",
      "LoRA Model Accuracy:  0.35\n",
      "Predicted Model Accuracy:  0.05\n"
     ]
    },
    {
     "name": "stderr",
     "output_type": "stream",
     "text": [
      " 13%|█▎        | 66/502 [00:39<02:14,  3.23it/s]"
     ]
    },
    {
     "name": "stdout",
     "output_type": "stream",
     "text": [
      "Accuracy Table for model 65:\n",
      "Base Model Accuracy:  0.15384615384615385\n",
      "LoRA Model Accuracy:  0.9723076923076923\n",
      "Predicted Model Accuracy:  0.5492307692307692\n"
     ]
    },
    {
     "name": "stderr",
     "output_type": "stream",
     "text": [
      " 13%|█▎        | 67/502 [00:40<02:40,  2.70it/s]"
     ]
    },
    {
     "name": "stdout",
     "output_type": "stream",
     "text": [
      "Accuracy Table for model 66:\n",
      "Base Model Accuracy:  0.10923076923076923\n",
      "LoRA Model Accuracy:  0.9738461538461538\n",
      "Predicted Model Accuracy:  0.5646153846153846\n"
     ]
    },
    {
     "name": "stderr",
     "output_type": "stream",
     "text": [
      " 14%|█▎        | 68/502 [00:40<02:58,  2.43it/s]"
     ]
    },
    {
     "name": "stdout",
     "output_type": "stream",
     "text": [
      "Accuracy Table for model 67:\n",
      "Base Model Accuracy:  0.1523076923076923\n",
      "LoRA Model Accuracy:  0.963076923076923\n",
      "Predicted Model Accuracy:  0.42615384615384616\n"
     ]
    },
    {
     "name": "stderr",
     "output_type": "stream",
     "text": [
      " 14%|█▍        | 70/502 [00:41<02:38,  2.73it/s]"
     ]
    },
    {
     "name": "stdout",
     "output_type": "stream",
     "text": [
      "Accuracy Table for model 68:\n",
      "Base Model Accuracy:  0.06769230769230769\n",
      "LoRA Model Accuracy:  0.9538461538461539\n",
      "Predicted Model Accuracy:  0.4723076923076923\n",
      "Accuracy Table for model 69:\n",
      "Base Model Accuracy:  0.5\n",
      "LoRA Model Accuracy:  0.14285714285714285\n",
      "Predicted Model Accuracy:  0.14285714285714285\n"
     ]
    },
    {
     "name": "stderr",
     "output_type": "stream",
     "text": [
      " 14%|█▍        | 71/502 [00:41<02:57,  2.43it/s]"
     ]
    },
    {
     "name": "stdout",
     "output_type": "stream",
     "text": [
      "Accuracy Table for model 70:\n",
      "Base Model Accuracy:  0.10461538461538461\n",
      "LoRA Model Accuracy:  0.9615384615384616\n",
      "Predicted Model Accuracy:  0.5261538461538462\n"
     ]
    },
    {
     "name": "stderr",
     "output_type": "stream",
     "text": [
      " 14%|█▍        | 72/502 [00:42<03:07,  2.30it/s]"
     ]
    },
    {
     "name": "stdout",
     "output_type": "stream",
     "text": [
      "Accuracy Table for model 71:\n",
      "Base Model Accuracy:  0.02\n",
      "LoRA Model Accuracy:  0.9723076923076923\n",
      "Predicted Model Accuracy:  0.5046153846153846\n"
     ]
    },
    {
     "name": "stderr",
     "output_type": "stream",
     "text": [
      " 15%|█▍        | 73/502 [00:42<03:35,  1.99it/s]"
     ]
    },
    {
     "name": "stdout",
     "output_type": "stream",
     "text": [
      "Accuracy Table for model 72:\n",
      "Base Model Accuracy:  0.15384615384615385\n",
      "LoRA Model Accuracy:  0.9723076923076923\n",
      "Predicted Model Accuracy:  0.5738461538461539\n"
     ]
    },
    {
     "name": "stderr",
     "output_type": "stream",
     "text": [
      " 15%|█▍        | 74/502 [00:43<03:35,  1.99it/s]"
     ]
    },
    {
     "name": "stdout",
     "output_type": "stream",
     "text": [
      "Accuracy Table for model 73:\n",
      "Base Model Accuracy:  0.010769230769230769\n",
      "LoRA Model Accuracy:  0.9953846153846154\n",
      "Predicted Model Accuracy:  0.2876923076923077\n"
     ]
    },
    {
     "name": "stderr",
     "output_type": "stream",
     "text": [
      " 15%|█▍        | 75/502 [00:44<03:35,  1.98it/s]"
     ]
    },
    {
     "name": "stdout",
     "output_type": "stream",
     "text": [
      "Accuracy Table for model 74:\n",
      "Base Model Accuracy:  0.02\n",
      "LoRA Model Accuracy:  0.9984615384615385\n",
      "Predicted Model Accuracy:  0.5507692307692308\n"
     ]
    },
    {
     "name": "stderr",
     "output_type": "stream",
     "text": [
      " 15%|█▌        | 76/502 [00:44<03:35,  1.97it/s]"
     ]
    },
    {
     "name": "stdout",
     "output_type": "stream",
     "text": [
      "Accuracy Table for model 75:\n",
      "Base Model Accuracy:  0.2276923076923077\n",
      "LoRA Model Accuracy:  1.0\n",
      "Predicted Model Accuracy:  0.6353846153846154\n"
     ]
    },
    {
     "name": "stderr",
     "output_type": "stream",
     "text": [
      " 15%|█▌        | 77/502 [00:45<03:35,  1.98it/s]"
     ]
    },
    {
     "name": "stdout",
     "output_type": "stream",
     "text": [
      "Accuracy Table for model 76:\n",
      "Base Model Accuracy:  0.09692307692307692\n",
      "LoRA Model Accuracy:  1.0\n",
      "Predicted Model Accuracy:  0.5692307692307692\n"
     ]
    },
    {
     "name": "stderr",
     "output_type": "stream",
     "text": [
      " 16%|█▌        | 78/502 [00:45<03:29,  2.02it/s]"
     ]
    },
    {
     "name": "stdout",
     "output_type": "stream",
     "text": [
      "Accuracy Table for model 77:\n",
      "Base Model Accuracy:  0.2\n",
      "LoRA Model Accuracy:  1.0\n",
      "Predicted Model Accuracy:  0.5830188679245283\n"
     ]
    },
    {
     "name": "stderr",
     "output_type": "stream",
     "text": [
      " 16%|█▌        | 79/502 [00:45<03:28,  2.03it/s]"
     ]
    },
    {
     "name": "stdout",
     "output_type": "stream",
     "text": [
      "Accuracy Table for model 78:\n",
      "Base Model Accuracy:  0.3153846153846154\n",
      "LoRA Model Accuracy:  1.0\n",
      "Predicted Model Accuracy:  0.6061538461538462\n"
     ]
    },
    {
     "name": "stderr",
     "output_type": "stream",
     "text": [
      " 16%|█▌        | 80/502 [00:46<03:27,  2.04it/s]"
     ]
    },
    {
     "name": "stdout",
     "output_type": "stream",
     "text": [
      "Accuracy Table for model 79:\n",
      "Base Model Accuracy:  0.05384615384615385\n",
      "LoRA Model Accuracy:  1.0\n",
      "Predicted Model Accuracy:  0.5476923076923077\n"
     ]
    },
    {
     "name": "stderr",
     "output_type": "stream",
     "text": [
      " 16%|█▌        | 81/502 [00:47<03:33,  1.97it/s]"
     ]
    },
    {
     "name": "stdout",
     "output_type": "stream",
     "text": [
      "Accuracy Table for model 80:\n",
      "Base Model Accuracy:  0.21076923076923076\n",
      "LoRA Model Accuracy:  0.9292307692307692\n",
      "Predicted Model Accuracy:  0.5784615384615385\n"
     ]
    },
    {
     "name": "stderr",
     "output_type": "stream",
     "text": [
      " 16%|█▋        | 82/502 [00:47<02:57,  2.37it/s]"
     ]
    },
    {
     "name": "stdout",
     "output_type": "stream",
     "text": [
      "Accuracy Table for model 81:\n",
      "Base Model Accuracy:  0.17142857142857143\n",
      "LoRA Model Accuracy:  1.0\n",
      "Predicted Model Accuracy:  0.5571428571428572\n"
     ]
    },
    {
     "name": "stderr",
     "output_type": "stream",
     "text": [
      " 17%|█▋        | 83/502 [00:47<03:09,  2.22it/s]"
     ]
    },
    {
     "name": "stdout",
     "output_type": "stream",
     "text": [
      "Accuracy Table for model 82:\n",
      "Base Model Accuracy:  0.015765765765765764\n",
      "LoRA Model Accuracy:  0.06756756756756757\n",
      "Predicted Model Accuracy:  0.033783783783783786\n"
     ]
    },
    {
     "name": "stderr",
     "output_type": "stream",
     "text": [
      " 17%|█▋        | 84/502 [00:47<02:40,  2.60it/s]"
     ]
    },
    {
     "name": "stdout",
     "output_type": "stream",
     "text": [
      "Accuracy Table for model 83:\n",
      "Base Model Accuracy:  0.0\n",
      "LoRA Model Accuracy:  0.0\n",
      "Predicted Model Accuracy:  0.0\n"
     ]
    },
    {
     "name": "stderr",
     "output_type": "stream",
     "text": [
      " 17%|█▋        | 86/502 [00:50<06:01,  1.15it/s]"
     ]
    },
    {
     "name": "stdout",
     "output_type": "stream",
     "text": [
      "Accuracy Table for model 85:\n",
      "Base Model Accuracy:  0.0\n",
      "LoRA Model Accuracy:  0.003076923076923077\n",
      "Predicted Model Accuracy:  0.003076923076923077\n"
     ]
    },
    {
     "name": "stderr",
     "output_type": "stream",
     "text": [
      " 17%|█▋        | 87/502 [00:51<05:12,  1.33it/s]"
     ]
    },
    {
     "name": "stdout",
     "output_type": "stream",
     "text": [
      "Accuracy Table for model 86:\n",
      "Base Model Accuracy:  0.23366834170854273\n",
      "LoRA Model Accuracy:  0.9195979899497487\n",
      "Predicted Model Accuracy:  0.4824120603015075\n"
     ]
    },
    {
     "name": "stderr",
     "output_type": "stream",
     "text": [
      " 18%|█▊        | 88/502 [00:51<04:46,  1.44it/s]"
     ]
    },
    {
     "name": "stdout",
     "output_type": "stream",
     "text": [
      "Accuracy Table for model 87:\n",
      "Base Model Accuracy:  0.07230769230769231\n",
      "LoRA Model Accuracy:  0.9523076923076923\n",
      "Predicted Model Accuracy:  0.7\n"
     ]
    },
    {
     "name": "stderr",
     "output_type": "stream",
     "text": [
      " 18%|█▊        | 89/502 [00:52<04:23,  1.57it/s]"
     ]
    },
    {
     "name": "stdout",
     "output_type": "stream",
     "text": [
      "Accuracy Table for model 88:\n",
      "Base Model Accuracy:  0.363302752293578\n",
      "LoRA Model Accuracy:  0.8146788990825689\n",
      "Predicted Model Accuracy:  0.6073394495412844\n"
     ]
    },
    {
     "name": "stderr",
     "output_type": "stream",
     "text": [
      " 18%|█▊        | 90/502 [00:52<03:54,  1.76it/s]"
     ]
    },
    {
     "name": "stdout",
     "output_type": "stream",
     "text": [
      "Accuracy Table for model 89:\n",
      "Base Model Accuracy:  0.00980392156862745\n",
      "LoRA Model Accuracy:  0.8651960784313726\n",
      "Predicted Model Accuracy:  0.6323529411764706\n"
     ]
    },
    {
     "name": "stderr",
     "output_type": "stream",
     "text": [
      " 18%|█▊        | 92/502 [00:53<02:58,  2.30it/s]"
     ]
    },
    {
     "name": "stdout",
     "output_type": "stream",
     "text": [
      "Accuracy Table for model 91:\n",
      "Base Model Accuracy:  0.18769230769230769\n",
      "LoRA Model Accuracy:  0.676923076923077\n",
      "Predicted Model Accuracy:  0.5876923076923077\n"
     ]
    },
    {
     "name": "stderr",
     "output_type": "stream",
     "text": [
      " 19%|█▊        | 93/502 [00:53<02:54,  2.34it/s]"
     ]
    },
    {
     "name": "stdout",
     "output_type": "stream",
     "text": [
      "Accuracy Table for model 92:\n",
      "Base Model Accuracy:  0.18181818181818182\n",
      "LoRA Model Accuracy:  0.9545454545454546\n",
      "Predicted Model Accuracy:  0.39545454545454545\n"
     ]
    },
    {
     "name": "stderr",
     "output_type": "stream",
     "text": [
      " 19%|█▊        | 94/502 [00:55<05:01,  1.35it/s]"
     ]
    },
    {
     "name": "stdout",
     "output_type": "stream",
     "text": [
      "Accuracy Table for model 93:\n",
      "Base Model Accuracy:  0.0\n",
      "LoRA Model Accuracy:  0.0015384615384615385\n",
      "Predicted Model Accuracy:  0.0015384615384615385\n"
     ]
    },
    {
     "name": "stderr",
     "output_type": "stream",
     "text": [
      " 19%|█▉        | 95/502 [00:55<04:50,  1.40it/s]"
     ]
    },
    {
     "name": "stdout",
     "output_type": "stream",
     "text": [
      "Accuracy Table for model 94:\n",
      "Base Model Accuracy:  0.28\n",
      "LoRA Model Accuracy:  0.7769230769230769\n",
      "Predicted Model Accuracy:  0.7215384615384616\n"
     ]
    },
    {
     "name": "stderr",
     "output_type": "stream",
     "text": [
      " 19%|█▉        | 97/502 [00:56<03:50,  1.76it/s]"
     ]
    },
    {
     "name": "stdout",
     "output_type": "stream",
     "text": [
      "Accuracy Table for model 96:\n",
      "Base Model Accuracy:  0.2246153846153846\n",
      "LoRA Model Accuracy:  0.6184615384615385\n",
      "Predicted Model Accuracy:  0.49538461538461537\n"
     ]
    },
    {
     "name": "stderr",
     "output_type": "stream",
     "text": [
      " 20%|█▉        | 98/502 [00:57<03:44,  1.80it/s]"
     ]
    },
    {
     "name": "stdout",
     "output_type": "stream",
     "text": [
      "Accuracy Table for model 97:\n",
      "Base Model Accuracy:  0.026373626373626374\n",
      "LoRA Model Accuracy:  0.9582417582417583\n",
      "Predicted Model Accuracy:  0.7978021978021979\n"
     ]
    },
    {
     "name": "stderr",
     "output_type": "stream",
     "text": [
      " 20%|█▉        | 99/502 [00:57<03:38,  1.85it/s]"
     ]
    },
    {
     "name": "stdout",
     "output_type": "stream",
     "text": [
      "Accuracy Table for model 98:\n",
      "Base Model Accuracy:  0.8151815181518152\n",
      "LoRA Model Accuracy:  0.9933993399339934\n",
      "Predicted Model Accuracy:  0.9504950495049505\n"
     ]
    },
    {
     "name": "stderr",
     "output_type": "stream",
     "text": [
      " 20%|█▉        | 100/502 [00:58<03:19,  2.02it/s]"
     ]
    },
    {
     "name": "stdout",
     "output_type": "stream",
     "text": [
      "Accuracy Table for model 99:\n",
      "Base Model Accuracy:  0.0\n",
      "LoRA Model Accuracy:  0.8\n",
      "Predicted Model Accuracy:  0.1\n"
     ]
    },
    {
     "name": "stderr",
     "output_type": "stream",
     "text": [
      " 20%|██        | 101/502 [00:58<02:56,  2.27it/s]"
     ]
    },
    {
     "name": "stdout",
     "output_type": "stream",
     "text": [
      "Accuracy Table for model 100:\n",
      "Base Model Accuracy:  0.0\n",
      "LoRA Model Accuracy:  0.0\n",
      "Predicted Model Accuracy:  0.0\n"
     ]
    },
    {
     "name": "stderr",
     "output_type": "stream",
     "text": [
      " 20%|██        | 102/502 [00:58<02:35,  2.57it/s]"
     ]
    },
    {
     "name": "stdout",
     "output_type": "stream",
     "text": [
      "Accuracy Table for model 101:\n",
      "Base Model Accuracy:  0.6071428571428571\n",
      "LoRA Model Accuracy:  0.8928571428571429\n",
      "Predicted Model Accuracy:  0.8571428571428571\n"
     ]
    },
    {
     "name": "stderr",
     "output_type": "stream",
     "text": [
      " 21%|██        | 103/502 [00:58<02:19,  2.86it/s]"
     ]
    },
    {
     "name": "stdout",
     "output_type": "stream",
     "text": [
      "Accuracy Table for model 102:\n",
      "Base Model Accuracy:  0.0\n",
      "LoRA Model Accuracy:  0.11764705882352941\n",
      "Predicted Model Accuracy:  0.058823529411764705\n"
     ]
    },
    {
     "name": "stderr",
     "output_type": "stream",
     "text": [
      " 21%|██        | 104/502 [00:59<02:09,  3.07it/s]"
     ]
    },
    {
     "name": "stdout",
     "output_type": "stream",
     "text": [
      "Accuracy Table for model 103:\n",
      "Base Model Accuracy:  0.0\n",
      "LoRA Model Accuracy:  0.0\n",
      "Predicted Model Accuracy:  0.09090909090909091\n"
     ]
    },
    {
     "name": "stderr",
     "output_type": "stream",
     "text": [
      " 21%|██        | 105/502 [01:02<07:51,  1.19s/it]"
     ]
    },
    {
     "name": "stdout",
     "output_type": "stream",
     "text": [
      "Accuracy Table for model 104:\n",
      "Base Model Accuracy:  0.0\n",
      "LoRA Model Accuracy:  0.0\n",
      "Predicted Model Accuracy:  0.0\n"
     ]
    },
    {
     "name": "stderr",
     "output_type": "stream",
     "text": [
      " 21%|██        | 106/502 [01:02<06:02,  1.09it/s]"
     ]
    },
    {
     "name": "stdout",
     "output_type": "stream",
     "text": [
      "Accuracy Table for model 105:\n",
      "Base Model Accuracy:  0.8461538461538461\n",
      "LoRA Model Accuracy:  1.0\n",
      "Predicted Model Accuracy:  0.8076923076923077\n"
     ]
    },
    {
     "name": "stderr",
     "output_type": "stream",
     "text": [
      " 21%|██▏       | 107/502 [01:02<04:43,  1.39it/s]"
     ]
    },
    {
     "name": "stdout",
     "output_type": "stream",
     "text": [
      "Accuracy Table for model 106:\n",
      "Base Model Accuracy:  0.5\n",
      "LoRA Model Accuracy:  0.75\n",
      "Predicted Model Accuracy:  0.7083333333333334\n"
     ]
    },
    {
     "name": "stderr",
     "output_type": "stream",
     "text": [
      " 22%|██▏       | 108/502 [01:03<03:54,  1.68it/s]"
     ]
    },
    {
     "name": "stdout",
     "output_type": "stream",
     "text": [
      "Accuracy Table for model 107:\n",
      "Base Model Accuracy:  0.4166666666666667\n",
      "LoRA Model Accuracy:  0.4583333333333333\n",
      "Predicted Model Accuracy:  0.375\n"
     ]
    },
    {
     "name": "stderr",
     "output_type": "stream",
     "text": [
      " 22%|██▏       | 109/502 [01:04<04:26,  1.47it/s]"
     ]
    },
    {
     "name": "stdout",
     "output_type": "stream",
     "text": [
      "Accuracy Table for model 108:\n",
      "Base Model Accuracy:  0.0\n",
      "LoRA Model Accuracy:  0.0\n",
      "Predicted Model Accuracy:  0.0\n"
     ]
    },
    {
     "name": "stderr",
     "output_type": "stream",
     "text": [
      " 22%|██▏       | 110/502 [01:04<04:38,  1.41it/s]"
     ]
    },
    {
     "name": "stdout",
     "output_type": "stream",
     "text": [
      "Accuracy Table for model 109:\n",
      "Base Model Accuracy:  0.0\n",
      "LoRA Model Accuracy:  0.0\n",
      "Predicted Model Accuracy:  0.0\n"
     ]
    },
    {
     "name": "stderr",
     "output_type": "stream",
     "text": [
      " 22%|██▏       | 111/502 [01:05<04:45,  1.37it/s]"
     ]
    },
    {
     "name": "stdout",
     "output_type": "stream",
     "text": [
      "Accuracy Table for model 110:\n",
      "Base Model Accuracy:  0.11986301369863013\n",
      "LoRA Model Accuracy:  0.4143835616438356\n",
      "Predicted Model Accuracy:  0.20205479452054795\n"
     ]
    },
    {
     "name": "stderr",
     "output_type": "stream",
     "text": [
      " 22%|██▏       | 112/502 [01:05<03:51,  1.68it/s]"
     ]
    },
    {
     "name": "stdout",
     "output_type": "stream",
     "text": [
      "Accuracy Table for model 111:\n",
      "Base Model Accuracy:  0.3\n",
      "LoRA Model Accuracy:  1.0\n",
      "Predicted Model Accuracy:  0.35\n"
     ]
    },
    {
     "name": "stderr",
     "output_type": "stream",
     "text": [
      " 23%|██▎       | 113/502 [01:06<03:48,  1.71it/s]"
     ]
    },
    {
     "name": "stdout",
     "output_type": "stream",
     "text": [
      "Accuracy Table for model 112:\n",
      "Base Model Accuracy:  0.6866666666666666\n",
      "LoRA Model Accuracy:  1.0\n",
      "Predicted Model Accuracy:  0.7983333333333333\n"
     ]
    },
    {
     "name": "stderr",
     "output_type": "stream",
     "text": [
      " 23%|██▎       | 114/502 [01:06<03:11,  2.03it/s]"
     ]
    },
    {
     "name": "stdout",
     "output_type": "stream",
     "text": [
      "Accuracy Table for model 113:\n",
      "Base Model Accuracy:  0.0\n",
      "LoRA Model Accuracy:  0.8888888888888888\n",
      "Predicted Model Accuracy:  0.3333333333333333\n"
     ]
    },
    {
     "name": "stderr",
     "output_type": "stream",
     "text": [
      " 23%|██▎       | 115/502 [01:08<04:42,  1.37it/s]"
     ]
    },
    {
     "name": "stdout",
     "output_type": "stream",
     "text": [
      "Accuracy Table for model 114:\n",
      "Base Model Accuracy:  0.001607717041800643\n",
      "LoRA Model Accuracy:  0.09807073954983923\n",
      "Predicted Model Accuracy:  0.0\n"
     ]
    },
    {
     "name": "stderr",
     "output_type": "stream",
     "text": [
      " 23%|██▎       | 116/502 [01:08<04:28,  1.44it/s]"
     ]
    },
    {
     "name": "stdout",
     "output_type": "stream",
     "text": [
      "Accuracy Table for model 115:\n",
      "Base Model Accuracy:  0.11\n",
      "LoRA Model Accuracy:  0.5833333333333334\n",
      "Predicted Model Accuracy:  0.26\n"
     ]
    },
    {
     "name": "stderr",
     "output_type": "stream",
     "text": [
      " 23%|██▎       | 117/502 [01:08<03:47,  1.69it/s]"
     ]
    },
    {
     "name": "stdout",
     "output_type": "stream",
     "text": [
      "Accuracy Table for model 116:\n",
      "Base Model Accuracy:  0.0\n",
      "LoRA Model Accuracy:  0.0\n",
      "Predicted Model Accuracy:  0.0\n"
     ]
    },
    {
     "name": "stderr",
     "output_type": "stream",
     "text": [
      " 24%|██▎       | 118/502 [01:09<03:16,  1.95it/s]"
     ]
    },
    {
     "name": "stdout",
     "output_type": "stream",
     "text": [
      "Accuracy Table for model 117:\n",
      "Base Model Accuracy:  0.1875\n",
      "LoRA Model Accuracy:  0.6\n",
      "Predicted Model Accuracy:  0.4625\n"
     ]
    },
    {
     "name": "stderr",
     "output_type": "stream",
     "text": [
      " 24%|██▎       | 119/502 [01:09<03:02,  2.10it/s]"
     ]
    },
    {
     "name": "stdout",
     "output_type": "stream",
     "text": [
      "Accuracy Table for model 118:\n",
      "Base Model Accuracy:  0.125\n",
      "LoRA Model Accuracy:  0.5875\n",
      "Predicted Model Accuracy:  0.2625\n"
     ]
    },
    {
     "name": "stderr",
     "output_type": "stream",
     "text": [
      " 24%|██▍       | 120/502 [01:09<02:39,  2.39it/s]"
     ]
    },
    {
     "name": "stdout",
     "output_type": "stream",
     "text": [
      "Accuracy Table for model 119:\n",
      "Base Model Accuracy:  0.0\n",
      "LoRA Model Accuracy:  0.0\n",
      "Predicted Model Accuracy:  0.0\n"
     ]
    },
    {
     "name": "stderr",
     "output_type": "stream",
     "text": [
      " 24%|██▍       | 121/502 [01:10<02:23,  2.65it/s]"
     ]
    },
    {
     "name": "stdout",
     "output_type": "stream",
     "text": [
      "Accuracy Table for model 120:\n",
      "Base Model Accuracy:  0.3375\n",
      "LoRA Model Accuracy:  0.9125\n",
      "Predicted Model Accuracy:  0.575\n"
     ]
    },
    {
     "name": "stderr",
     "output_type": "stream",
     "text": [
      " 24%|██▍       | 122/502 [01:10<02:41,  2.36it/s]"
     ]
    },
    {
     "name": "stdout",
     "output_type": "stream",
     "text": [
      "Accuracy Table for model 121:\n",
      "Base Model Accuracy:  0.7292161520190024\n",
      "LoRA Model Accuracy:  0.8788598574821853\n",
      "Predicted Model Accuracy:  0.7885985748218527\n"
     ]
    },
    {
     "name": "stderr",
     "output_type": "stream",
     "text": [
      " 25%|██▍       | 123/502 [01:11<02:28,  2.54it/s]"
     ]
    },
    {
     "name": "stdout",
     "output_type": "stream",
     "text": [
      "Accuracy Table for model 122:\n",
      "Base Model Accuracy:  0.1111111111111111\n",
      "LoRA Model Accuracy:  0.4444444444444444\n",
      "Predicted Model Accuracy:  0.35353535353535354\n"
     ]
    },
    {
     "name": "stderr",
     "output_type": "stream",
     "text": [
      " 25%|██▍       | 124/502 [01:11<02:25,  2.60it/s]"
     ]
    },
    {
     "name": "stdout",
     "output_type": "stream",
     "text": [
      "Accuracy Table for model 123:\n",
      "Base Model Accuracy:  0.1\n",
      "LoRA Model Accuracy:  0.36\n",
      "Predicted Model Accuracy:  0.28\n"
     ]
    },
    {
     "name": "stderr",
     "output_type": "stream",
     "text": [
      " 25%|██▍       | 125/502 [01:11<02:19,  2.70it/s]"
     ]
    },
    {
     "name": "stdout",
     "output_type": "stream",
     "text": [
      "Accuracy Table for model 124:\n",
      "Base Model Accuracy:  0.125\n",
      "LoRA Model Accuracy:  0.43333333333333335\n",
      "Predicted Model Accuracy:  0.26666666666666666\n"
     ]
    },
    {
     "name": "stderr",
     "output_type": "stream",
     "text": [
      " 25%|██▌       | 126/502 [01:12<02:54,  2.15it/s]"
     ]
    },
    {
     "name": "stdout",
     "output_type": "stream",
     "text": [
      "Accuracy Table for model 125:\n",
      "Base Model Accuracy:  0.3353846153846154\n",
      "LoRA Model Accuracy:  0.8815384615384615\n",
      "Predicted Model Accuracy:  0.5446153846153846\n"
     ]
    },
    {
     "name": "stderr",
     "output_type": "stream",
     "text": [
      " 25%|██▌       | 127/502 [01:12<02:51,  2.18it/s]"
     ]
    },
    {
     "name": "stdout",
     "output_type": "stream",
     "text": [
      "Accuracy Table for model 126:\n",
      "Base Model Accuracy:  0.0\n",
      "LoRA Model Accuracy:  0.0\n",
      "Predicted Model Accuracy:  0.0\n"
     ]
    },
    {
     "name": "stderr",
     "output_type": "stream",
     "text": [
      " 25%|██▌       | 128/502 [01:13<02:33,  2.43it/s]"
     ]
    },
    {
     "name": "stdout",
     "output_type": "stream",
     "text": [
      "Accuracy Table for model 127:\n",
      "Base Model Accuracy:  0.35384615384615387\n",
      "LoRA Model Accuracy:  0.7692307692307693\n",
      "Predicted Model Accuracy:  0.5384615384615384\n"
     ]
    },
    {
     "name": "stderr",
     "output_type": "stream",
     "text": [
      " 26%|██▌       | 129/502 [01:13<03:02,  2.05it/s]"
     ]
    },
    {
     "name": "stdout",
     "output_type": "stream",
     "text": [
      "Accuracy Table for model 128:\n",
      "Base Model Accuracy:  0.4646153846153846\n",
      "LoRA Model Accuracy:  0.9215384615384615\n",
      "Predicted Model Accuracy:  0.5692307692307692\n"
     ]
    },
    {
     "name": "stderr",
     "output_type": "stream",
     "text": [
      " 26%|██▌       | 130/502 [01:14<02:38,  2.35it/s]"
     ]
    },
    {
     "name": "stdout",
     "output_type": "stream",
     "text": [
      "Accuracy Table for model 129:\n",
      "Base Model Accuracy:  0.38\n",
      "LoRA Model Accuracy:  0.98\n",
      "Predicted Model Accuracy:  0.74\n"
     ]
    },
    {
     "name": "stderr",
     "output_type": "stream",
     "text": [
      " 26%|██▌       | 131/502 [01:14<02:29,  2.47it/s]"
     ]
    },
    {
     "name": "stdout",
     "output_type": "stream",
     "text": [
      "Accuracy Table for model 130:\n",
      "Base Model Accuracy:  0.21739130434782608\n",
      "LoRA Model Accuracy:  0.391304347826087\n",
      "Predicted Model Accuracy:  0.391304347826087\n"
     ]
    },
    {
     "name": "stderr",
     "output_type": "stream",
     "text": [
      " 26%|██▋       | 132/502 [01:15<02:41,  2.29it/s]"
     ]
    },
    {
     "name": "stdout",
     "output_type": "stream",
     "text": [
      "Accuracy Table for model 131:\n",
      "Base Model Accuracy:  0.0\n",
      "LoRA Model Accuracy:  0.0\n",
      "Predicted Model Accuracy:  0.0\n"
     ]
    },
    {
     "name": "stderr",
     "output_type": "stream",
     "text": [
      " 26%|██▋       | 133/502 [01:15<02:43,  2.26it/s]"
     ]
    },
    {
     "name": "stdout",
     "output_type": "stream",
     "text": [
      "Accuracy Table for model 132:\n",
      "Base Model Accuracy:  0.0\n",
      "LoRA Model Accuracy:  0.01694915254237288\n",
      "Predicted Model Accuracy:  0.022598870056497175\n"
     ]
    },
    {
     "name": "stderr",
     "output_type": "stream",
     "text": [
      " 27%|██▋       | 134/502 [01:16<02:45,  2.22it/s]"
     ]
    },
    {
     "name": "stdout",
     "output_type": "stream",
     "text": [
      "Accuracy Table for model 133:\n",
      "Base Model Accuracy:  0.0\n",
      "LoRA Model Accuracy:  0.0\n",
      "Predicted Model Accuracy:  0.0\n"
     ]
    },
    {
     "name": "stderr",
     "output_type": "stream",
     "text": [
      " 27%|██▋       | 135/502 [01:16<02:25,  2.52it/s]"
     ]
    },
    {
     "name": "stdout",
     "output_type": "stream",
     "text": [
      "Accuracy Table for model 134:\n",
      "Base Model Accuracy:  0.6\n",
      "LoRA Model Accuracy:  0.95\n",
      "Predicted Model Accuracy:  0.85\n"
     ]
    },
    {
     "name": "stderr",
     "output_type": "stream",
     "text": [
      " 27%|██▋       | 136/502 [01:16<02:13,  2.73it/s]"
     ]
    },
    {
     "name": "stdout",
     "output_type": "stream",
     "text": [
      "Accuracy Table for model 135:\n",
      "Base Model Accuracy:  0.05\n",
      "LoRA Model Accuracy:  1.0\n",
      "Predicted Model Accuracy:  0.8\n"
     ]
    },
    {
     "name": "stderr",
     "output_type": "stream",
     "text": [
      " 27%|██▋       | 137/502 [01:16<02:07,  2.86it/s]"
     ]
    },
    {
     "name": "stdout",
     "output_type": "stream",
     "text": [
      "Accuracy Table for model 136:\n",
      "Base Model Accuracy:  0.1\n",
      "LoRA Model Accuracy:  0.5\n",
      "Predicted Model Accuracy:  0.25\n"
     ]
    },
    {
     "name": "stderr",
     "output_type": "stream",
     "text": [
      " 27%|██▋       | 138/502 [01:19<06:01,  1.01it/s]"
     ]
    },
    {
     "name": "stdout",
     "output_type": "stream",
     "text": [
      "Accuracy Table for model 137:\n",
      "Base Model Accuracy:  0.0\n",
      "LoRA Model Accuracy:  0.0\n",
      "Predicted Model Accuracy:  0.0\n"
     ]
    },
    {
     "name": "stderr",
     "output_type": "stream",
     "text": [
      " 28%|██▊       | 139/502 [01:19<04:49,  1.25it/s]"
     ]
    },
    {
     "name": "stdout",
     "output_type": "stream",
     "text": [
      "Accuracy Table for model 138:\n",
      "Base Model Accuracy:  0.0\n",
      "LoRA Model Accuracy:  0.0\n",
      "Predicted Model Accuracy:  0.0\n"
     ]
    },
    {
     "name": "stderr",
     "output_type": "stream",
     "text": [
      " 28%|██▊       | 140/502 [01:20<04:08,  1.46it/s]"
     ]
    },
    {
     "name": "stdout",
     "output_type": "stream",
     "text": [
      "Accuracy Table for model 139:\n",
      "Base Model Accuracy:  0.09787234042553192\n",
      "LoRA Model Accuracy:  0.9319148936170213\n",
      "Predicted Model Accuracy:  0.6042553191489362\n"
     ]
    },
    {
     "name": "stderr",
     "output_type": "stream",
     "text": [
      " 28%|██▊       | 141/502 [01:21<05:47,  1.04it/s]"
     ]
    },
    {
     "name": "stdout",
     "output_type": "stream",
     "text": [
      "Accuracy Table for model 140:\n",
      "Base Model Accuracy:  0.3442367601246106\n",
      "LoRA Model Accuracy:  0.3302180685358255\n",
      "Predicted Model Accuracy:  0.2866043613707165\n"
     ]
    },
    {
     "name": "stderr",
     "output_type": "stream",
     "text": [
      " 28%|██▊       | 142/502 [01:23<06:41,  1.12s/it]"
     ]
    },
    {
     "name": "stdout",
     "output_type": "stream",
     "text": [
      "Accuracy Table for model 141:\n",
      "Base Model Accuracy:  0.2848297213622291\n",
      "LoRA Model Accuracy:  0.22136222910216719\n",
      "Predicted Model Accuracy:  0.2755417956656347\n"
     ]
    },
    {
     "name": "stderr",
     "output_type": "stream",
     "text": [
      " 28%|██▊       | 143/502 [01:23<05:51,  1.02it/s]"
     ]
    },
    {
     "name": "stdout",
     "output_type": "stream",
     "text": [
      "Accuracy Table for model 142:\n",
      "Base Model Accuracy:  0.30837004405286345\n",
      "LoRA Model Accuracy:  0.3788546255506608\n",
      "Predicted Model Accuracy:  0.2511013215859031\n"
     ]
    },
    {
     "name": "stderr",
     "output_type": "stream",
     "text": [
      " 29%|██▊       | 144/502 [01:24<04:37,  1.29it/s]"
     ]
    },
    {
     "name": "stdout",
     "output_type": "stream",
     "text": [
      "Accuracy Table for model 143:\n",
      "Base Model Accuracy:  0.28\n",
      "LoRA Model Accuracy:  0.76\n",
      "Predicted Model Accuracy:  0.08\n"
     ]
    },
    {
     "name": "stderr",
     "output_type": "stream",
     "text": [
      " 29%|██▉       | 145/502 [01:24<03:51,  1.54it/s]"
     ]
    },
    {
     "name": "stdout",
     "output_type": "stream",
     "text": [
      "Accuracy Table for model 144:\n",
      "Base Model Accuracy:  0.20833333333333334\n",
      "LoRA Model Accuracy:  0.20833333333333334\n",
      "Predicted Model Accuracy:  0.20833333333333334\n"
     ]
    },
    {
     "name": "stderr",
     "output_type": "stream",
     "text": [
      " 29%|██▉       | 146/502 [01:24<03:09,  1.88it/s]"
     ]
    },
    {
     "name": "stdout",
     "output_type": "stream",
     "text": [
      "Accuracy Table for model 145:\n",
      "Base Model Accuracy:  0.20833333333333334\n",
      "LoRA Model Accuracy:  0.16666666666666666\n",
      "Predicted Model Accuracy:  0.041666666666666664\n"
     ]
    },
    {
     "name": "stderr",
     "output_type": "stream",
     "text": [
      " 29%|██▉       | 147/502 [01:25<02:48,  2.11it/s]"
     ]
    },
    {
     "name": "stdout",
     "output_type": "stream",
     "text": [
      "Accuracy Table for model 146:\n",
      "Base Model Accuracy:  0.0625\n",
      "LoRA Model Accuracy:  0.7375\n",
      "Predicted Model Accuracy:  0.2\n"
     ]
    },
    {
     "name": "stderr",
     "output_type": "stream",
     "text": [
      " 29%|██▉       | 148/502 [01:25<02:50,  2.08it/s]"
     ]
    },
    {
     "name": "stdout",
     "output_type": "stream",
     "text": [
      "Accuracy Table for model 147:\n",
      "Base Model Accuracy:  0.1067193675889328\n",
      "LoRA Model Accuracy:  0.6324110671936759\n",
      "Predicted Model Accuracy:  0.5454545454545454\n"
     ]
    },
    {
     "name": "stderr",
     "output_type": "stream",
     "text": [
      " 30%|██▉       | 149/502 [01:26<02:53,  2.03it/s]"
     ]
    },
    {
     "name": "stdout",
     "output_type": "stream",
     "text": [
      "Accuracy Table for model 148:\n",
      "Base Model Accuracy:  0.05928853754940711\n",
      "LoRA Model Accuracy:  0.6996047430830039\n",
      "Predicted Model Accuracy:  0.2885375494071146\n"
     ]
    },
    {
     "name": "stderr",
     "output_type": "stream",
     "text": [
      " 30%|██▉       | 150/502 [01:26<02:43,  2.15it/s]"
     ]
    },
    {
     "name": "stdout",
     "output_type": "stream",
     "text": [
      "Accuracy Table for model 149:\n",
      "Base Model Accuracy:  0.047872340425531915\n",
      "LoRA Model Accuracy:  0.6914893617021277\n",
      "Predicted Model Accuracy:  0.21808510638297873\n"
     ]
    },
    {
     "name": "stderr",
     "output_type": "stream",
     "text": [
      " 30%|███       | 151/502 [01:27<03:30,  1.66it/s]"
     ]
    },
    {
     "name": "stdout",
     "output_type": "stream",
     "text": [
      "Accuracy Table for model 150:\n",
      "Base Model Accuracy:  0.0\n",
      "LoRA Model Accuracy:  0.0\n",
      "Predicted Model Accuracy:  0.0\n"
     ]
    },
    {
     "name": "stderr",
     "output_type": "stream",
     "text": [
      " 30%|███       | 152/502 [01:27<03:13,  1.80it/s]"
     ]
    },
    {
     "name": "stdout",
     "output_type": "stream",
     "text": [
      "Accuracy Table for model 151:\n",
      "Base Model Accuracy:  0.25735294117647056\n",
      "LoRA Model Accuracy:  0.4963235294117647\n",
      "Predicted Model Accuracy:  0.4485294117647059\n"
     ]
    },
    {
     "name": "stderr",
     "output_type": "stream",
     "text": [
      " 30%|███       | 153/502 [01:28<02:48,  2.07it/s]"
     ]
    },
    {
     "name": "stdout",
     "output_type": "stream",
     "text": [
      "Accuracy Table for model 152:\n",
      "Base Model Accuracy:  0.0625\n",
      "LoRA Model Accuracy:  0.625\n",
      "Predicted Model Accuracy:  0.1875\n"
     ]
    },
    {
     "name": "stderr",
     "output_type": "stream",
     "text": [
      " 31%|███       | 154/502 [01:28<02:27,  2.37it/s]"
     ]
    },
    {
     "name": "stdout",
     "output_type": "stream",
     "text": [
      "Accuracy Table for model 153:\n",
      "Base Model Accuracy:  0.125\n",
      "LoRA Model Accuracy:  0.125\n",
      "Predicted Model Accuracy:  0.125\n"
     ]
    },
    {
     "name": "stderr",
     "output_type": "stream",
     "text": [
      " 31%|███       | 155/502 [01:28<02:14,  2.59it/s]"
     ]
    },
    {
     "name": "stdout",
     "output_type": "stream",
     "text": [
      "Accuracy Table for model 154:\n",
      "Base Model Accuracy:  0.0\n",
      "LoRA Model Accuracy:  0.0\n",
      "Predicted Model Accuracy:  0.0\n"
     ]
    },
    {
     "name": "stderr",
     "output_type": "stream",
     "text": [
      " 31%|███       | 156/502 [01:29<02:04,  2.78it/s]"
     ]
    },
    {
     "name": "stdout",
     "output_type": "stream",
     "text": [
      "Accuracy Table for model 155:\n",
      "Base Model Accuracy:  0.17391304347826086\n",
      "LoRA Model Accuracy:  0.8695652173913043\n",
      "Predicted Model Accuracy:  0.391304347826087\n"
     ]
    },
    {
     "name": "stderr",
     "output_type": "stream",
     "text": [
      " 31%|███▏      | 157/502 [01:29<02:01,  2.83it/s]"
     ]
    },
    {
     "name": "stdout",
     "output_type": "stream",
     "text": [
      "Accuracy Table for model 156:\n",
      "Base Model Accuracy:  0.16666666666666666\n",
      "LoRA Model Accuracy:  0.2222222222222222\n",
      "Predicted Model Accuracy:  0.16666666666666666\n"
     ]
    },
    {
     "name": "stderr",
     "output_type": "stream",
     "text": [
      " 31%|███▏      | 158/502 [01:29<02:01,  2.83it/s]"
     ]
    },
    {
     "name": "stdout",
     "output_type": "stream",
     "text": [
      "Accuracy Table for model 157:\n",
      "Base Model Accuracy:  0.07407407407407407\n",
      "LoRA Model Accuracy:  0.14814814814814814\n",
      "Predicted Model Accuracy:  0.07407407407407407\n"
     ]
    },
    {
     "name": "stderr",
     "output_type": "stream",
     "text": [
      " 32%|███▏      | 159/502 [01:30<02:11,  2.60it/s]"
     ]
    },
    {
     "name": "stdout",
     "output_type": "stream",
     "text": [
      "Accuracy Table for model 158:\n",
      "Base Model Accuracy:  0.025\n",
      "LoRA Model Accuracy:  0.285\n",
      "Predicted Model Accuracy:  0.21\n"
     ]
    },
    {
     "name": "stderr",
     "output_type": "stream",
     "text": [
      " 32%|███▏      | 160/502 [01:30<02:10,  2.62it/s]"
     ]
    },
    {
     "name": "stdout",
     "output_type": "stream",
     "text": [
      "Accuracy Table for model 159:\n",
      "Base Model Accuracy:  0.01\n",
      "LoRA Model Accuracy:  0.27\n",
      "Predicted Model Accuracy:  0.22\n"
     ]
    },
    {
     "name": "stderr",
     "output_type": "stream",
     "text": [
      " 32%|███▏      | 161/502 [01:30<01:57,  2.90it/s]"
     ]
    },
    {
     "name": "stdout",
     "output_type": "stream",
     "text": [
      "Accuracy Table for model 160:\n",
      "Base Model Accuracy:  0.05\n",
      "LoRA Model Accuracy:  0.2\n",
      "Predicted Model Accuracy:  0.05\n"
     ]
    },
    {
     "name": "stderr",
     "output_type": "stream",
     "text": [
      " 32%|███▏      | 162/502 [01:31<02:07,  2.66it/s]"
     ]
    },
    {
     "name": "stdout",
     "output_type": "stream",
     "text": [
      "Accuracy Table for model 161:\n",
      "Base Model Accuracy:  0.012987012987012988\n",
      "LoRA Model Accuracy:  0.22727272727272727\n",
      "Predicted Model Accuracy:  0.19480519480519481\n"
     ]
    },
    {
     "name": "stderr",
     "output_type": "stream",
     "text": [
      " 32%|███▏      | 163/502 [01:31<02:00,  2.82it/s]"
     ]
    },
    {
     "name": "stdout",
     "output_type": "stream",
     "text": [
      "Accuracy Table for model 162:\n",
      "Base Model Accuracy:  0.2857142857142857\n",
      "LoRA Model Accuracy:  0.32142857142857145\n",
      "Predicted Model Accuracy:  0.32142857142857145\n"
     ]
    },
    {
     "name": "stderr",
     "output_type": "stream",
     "text": [
      " 33%|███▎      | 164/502 [01:32<02:04,  2.71it/s]"
     ]
    },
    {
     "name": "stdout",
     "output_type": "stream",
     "text": [
      "Accuracy Table for model 163:\n",
      "Base Model Accuracy:  0.13793103448275862\n",
      "LoRA Model Accuracy:  0.5517241379310345\n",
      "Predicted Model Accuracy:  0.27586206896551724\n"
     ]
    },
    {
     "name": "stderr",
     "output_type": "stream",
     "text": [
      " 33%|███▎      | 165/502 [01:32<01:54,  2.96it/s]"
     ]
    },
    {
     "name": "stdout",
     "output_type": "stream",
     "text": [
      "Accuracy Table for model 164:\n",
      "Base Model Accuracy:  0.07692307692307693\n",
      "LoRA Model Accuracy:  0.6153846153846154\n",
      "Predicted Model Accuracy:  0.15384615384615385\n"
     ]
    },
    {
     "name": "stderr",
     "output_type": "stream",
     "text": [
      " 33%|███▎      | 166/502 [01:32<01:55,  2.92it/s]"
     ]
    },
    {
     "name": "stdout",
     "output_type": "stream",
     "text": [
      "Accuracy Table for model 165:\n",
      "Base Model Accuracy:  0.6363636363636364\n",
      "LoRA Model Accuracy:  0.9090909090909091\n",
      "Predicted Model Accuracy:  0.5454545454545454\n"
     ]
    },
    {
     "name": "stderr",
     "output_type": "stream",
     "text": [
      " 33%|███▎      | 167/502 [01:32<01:50,  3.03it/s]"
     ]
    },
    {
     "name": "stdout",
     "output_type": "stream",
     "text": [
      "Accuracy Table for model 166:\n",
      "Base Model Accuracy:  0.16666666666666666\n",
      "LoRA Model Accuracy:  0.3333333333333333\n",
      "Predicted Model Accuracy:  0.3333333333333333\n"
     ]
    },
    {
     "name": "stderr",
     "output_type": "stream",
     "text": [
      " 33%|███▎      | 168/502 [01:33<01:51,  3.01it/s]"
     ]
    },
    {
     "name": "stdout",
     "output_type": "stream",
     "text": [
      "Accuracy Table for model 167:\n",
      "Base Model Accuracy:  0.11811023622047244\n",
      "LoRA Model Accuracy:  0.9606299212598425\n",
      "Predicted Model Accuracy:  0.023622047244094488\n"
     ]
    },
    {
     "name": "stderr",
     "output_type": "stream",
     "text": [
      " 34%|███▎      | 169/502 [01:33<01:57,  2.84it/s]"
     ]
    },
    {
     "name": "stdout",
     "output_type": "stream",
     "text": [
      "Accuracy Table for model 168:\n",
      "Base Model Accuracy:  0.0\n",
      "LoRA Model Accuracy:  0.0\n",
      "Predicted Model Accuracy:  0.0\n"
     ]
    },
    {
     "name": "stderr",
     "output_type": "stream",
     "text": [
      " 34%|███▍      | 170/502 [01:34<02:20,  2.36it/s]"
     ]
    },
    {
     "name": "stdout",
     "output_type": "stream",
     "text": [
      "Accuracy Table for model 169:\n",
      "Base Model Accuracy:  0.053475935828877004\n",
      "LoRA Model Accuracy:  0.9732620320855615\n",
      "Predicted Model Accuracy:  0.0213903743315508\n"
     ]
    },
    {
     "name": "stderr",
     "output_type": "stream",
     "text": [
      " 34%|███▍      | 171/502 [01:34<02:45,  2.00it/s]"
     ]
    },
    {
     "name": "stdout",
     "output_type": "stream",
     "text": [
      "Accuracy Table for model 170:\n",
      "Base Model Accuracy:  0.0650994575045208\n",
      "LoRA Model Accuracy:  0.43399638336347196\n",
      "Predicted Model Accuracy:  0.39783001808318263\n"
     ]
    },
    {
     "name": "stderr",
     "output_type": "stream",
     "text": [
      " 34%|███▍      | 172/502 [01:35<02:28,  2.22it/s]"
     ]
    },
    {
     "name": "stdout",
     "output_type": "stream",
     "text": [
      "Accuracy Table for model 171:\n",
      "Base Model Accuracy:  0.45555555555555555\n",
      "LoRA Model Accuracy:  0.8333333333333334\n",
      "Predicted Model Accuracy:  0.5777777777777777\n"
     ]
    },
    {
     "name": "stderr",
     "output_type": "stream",
     "text": [
      " 34%|███▍      | 173/502 [01:35<02:44,  2.01it/s]"
     ]
    },
    {
     "name": "stdout",
     "output_type": "stream",
     "text": [
      "Accuracy Table for model 172:\n",
      "Base Model Accuracy:  0.20194647201946472\n",
      "LoRA Model Accuracy:  0.2749391727493917\n",
      "Predicted Model Accuracy:  0.20194647201946472\n"
     ]
    },
    {
     "name": "stderr",
     "output_type": "stream",
     "text": [
      " 35%|███▍      | 174/502 [01:36<02:21,  2.32it/s]"
     ]
    },
    {
     "name": "stdout",
     "output_type": "stream",
     "text": [
      "Accuracy Table for model 173:\n",
      "Base Model Accuracy:  0.043478260869565216\n",
      "LoRA Model Accuracy:  0.043478260869565216\n",
      "Predicted Model Accuracy:  0.0\n"
     ]
    },
    {
     "name": "stderr",
     "output_type": "stream",
     "text": [
      " 35%|███▍      | 175/502 [01:36<02:37,  2.08it/s]"
     ]
    },
    {
     "name": "stdout",
     "output_type": "stream",
     "text": [
      "Accuracy Table for model 174:\n",
      "Base Model Accuracy:  0.07100591715976332\n",
      "LoRA Model Accuracy:  0.5473372781065089\n",
      "Predicted Model Accuracy:  0.4230769230769231\n"
     ]
    },
    {
     "name": "stderr",
     "output_type": "stream",
     "text": [
      " 35%|███▌      | 176/502 [01:37<02:24,  2.26it/s]"
     ]
    },
    {
     "name": "stdout",
     "output_type": "stream",
     "text": [
      "Accuracy Table for model 175:\n",
      "Base Model Accuracy:  0.03571428571428571\n",
      "LoRA Model Accuracy:  0.4107142857142857\n",
      "Predicted Model Accuracy:  0.2857142857142857\n"
     ]
    },
    {
     "name": "stderr",
     "output_type": "stream",
     "text": [
      " 35%|███▌      | 177/502 [01:37<02:44,  1.97it/s]"
     ]
    },
    {
     "name": "stdout",
     "output_type": "stream",
     "text": [
      "Accuracy Table for model 176:\n",
      "Base Model Accuracy:  0.0\n",
      "LoRA Model Accuracy:  0.0\n",
      "Predicted Model Accuracy:  0.0\n"
     ]
    },
    {
     "name": "stderr",
     "output_type": "stream",
     "text": [
      " 35%|███▌      | 178/502 [01:38<02:26,  2.21it/s]"
     ]
    },
    {
     "name": "stdout",
     "output_type": "stream",
     "text": [
      "Accuracy Table for model 177:\n",
      "Base Model Accuracy:  0.43\n",
      "LoRA Model Accuracy:  0.49\n",
      "Predicted Model Accuracy:  0.44\n"
     ]
    },
    {
     "name": "stderr",
     "output_type": "stream",
     "text": [
      " 36%|███▌      | 179/502 [01:38<02:53,  1.87it/s]"
     ]
    },
    {
     "name": "stdout",
     "output_type": "stream",
     "text": [
      "Accuracy Table for model 178:\n",
      "Base Model Accuracy:  0.1476923076923077\n",
      "LoRA Model Accuracy:  0.3169230769230769\n",
      "Predicted Model Accuracy:  0.22615384615384615\n"
     ]
    },
    {
     "name": "stderr",
     "output_type": "stream",
     "text": [
      " 36%|███▌      | 180/502 [01:39<02:49,  1.90it/s]"
     ]
    },
    {
     "name": "stdout",
     "output_type": "stream",
     "text": [
      "Accuracy Table for model 179:\n",
      "Base Model Accuracy:  0.13095238095238096\n",
      "LoRA Model Accuracy:  0.21428571428571427\n",
      "Predicted Model Accuracy:  0.13095238095238096\n"
     ]
    },
    {
     "name": "stderr",
     "output_type": "stream",
     "text": [
      " 36%|███▌      | 181/502 [01:39<02:49,  1.89it/s]"
     ]
    },
    {
     "name": "stdout",
     "output_type": "stream",
     "text": [
      "Accuracy Table for model 180:\n",
      "Base Model Accuracy:  0.24110671936758893\n",
      "LoRA Model Accuracy:  0.9604743083003953\n",
      "Predicted Model Accuracy:  0.8241106719367589\n"
     ]
    },
    {
     "name": "stderr",
     "output_type": "stream",
     "text": [
      " 36%|███▋      | 182/502 [01:40<02:59,  1.78it/s]"
     ]
    },
    {
     "name": "stdout",
     "output_type": "stream",
     "text": [
      "Accuracy Table for model 181:\n",
      "Base Model Accuracy:  0.37763371150729336\n",
      "LoRA Model Accuracy:  0.9286871961102107\n",
      "Predicted Model Accuracy:  0.49756888168557534\n"
     ]
    },
    {
     "name": "stderr",
     "output_type": "stream",
     "text": [
      " 36%|███▋      | 183/502 [01:41<03:03,  1.74it/s]"
     ]
    },
    {
     "name": "stdout",
     "output_type": "stream",
     "text": [
      "Accuracy Table for model 182:\n",
      "Base Model Accuracy:  0.520259319286872\n",
      "LoRA Model Accuracy:  0.9627228525121556\n",
      "Predicted Model Accuracy:  0.539708265802269\n"
     ]
    },
    {
     "name": "stderr",
     "output_type": "stream",
     "text": [
      " 37%|███▋      | 184/502 [01:41<03:16,  1.62it/s]"
     ]
    },
    {
     "name": "stdout",
     "output_type": "stream",
     "text": [
      "Accuracy Table for model 183:\n",
      "Base Model Accuracy:  0.07538461538461538\n",
      "LoRA Model Accuracy:  0.28615384615384615\n",
      "Predicted Model Accuracy:  0.15384615384615385\n"
     ]
    },
    {
     "name": "stderr",
     "output_type": "stream",
     "text": [
      " 37%|███▋      | 185/502 [01:42<03:05,  1.71it/s]"
     ]
    },
    {
     "name": "stdout",
     "output_type": "stream",
     "text": [
      "Accuracy Table for model 184:\n",
      "Base Model Accuracy:  0.4625\n",
      "LoRA Model Accuracy:  0.905\n",
      "Predicted Model Accuracy:  0.735\n"
     ]
    },
    {
     "name": "stderr",
     "output_type": "stream",
     "text": [
      " 37%|███▋      | 186/502 [01:43<04:05,  1.29it/s]"
     ]
    },
    {
     "name": "stdout",
     "output_type": "stream",
     "text": [
      "Accuracy Table for model 185:\n",
      "Base Model Accuracy:  0.0\n",
      "LoRA Model Accuracy:  0.3261538461538461\n",
      "Predicted Model Accuracy:  0.0\n"
     ]
    },
    {
     "name": "stderr",
     "output_type": "stream",
     "text": [
      " 37%|███▋      | 187/502 [01:43<03:29,  1.51it/s]"
     ]
    },
    {
     "name": "stdout",
     "output_type": "stream",
     "text": [
      "Accuracy Table for model 186:\n",
      "Base Model Accuracy:  0.0\n",
      "LoRA Model Accuracy:  0.0\n",
      "Predicted Model Accuracy:  0.0\n"
     ]
    },
    {
     "name": "stderr",
     "output_type": "stream",
     "text": [
      " 37%|███▋      | 188/502 [01:44<03:37,  1.44it/s]"
     ]
    },
    {
     "name": "stdout",
     "output_type": "stream",
     "text": [
      "Accuracy Table for model 187:\n",
      "Base Model Accuracy:  0.15993788819875776\n",
      "LoRA Model Accuracy:  0.922360248447205\n",
      "Predicted Model Accuracy:  0.09627329192546584\n"
     ]
    },
    {
     "name": "stderr",
     "output_type": "stream",
     "text": [
      " 38%|███▊      | 189/502 [01:45<03:07,  1.67it/s]"
     ]
    },
    {
     "name": "stdout",
     "output_type": "stream",
     "text": [
      "Accuracy Table for model 188:\n",
      "Base Model Accuracy:  0.0\n",
      "LoRA Model Accuracy:  0.0\n",
      "Predicted Model Accuracy:  0.0\n"
     ]
    },
    {
     "name": "stderr",
     "output_type": "stream",
     "text": [
      " 38%|███▊      | 190/502 [01:45<02:37,  1.98it/s]"
     ]
    },
    {
     "name": "stdout",
     "output_type": "stream",
     "text": [
      "Accuracy Table for model 189:\n",
      "Base Model Accuracy:  0.18181818181818182\n",
      "LoRA Model Accuracy:  0.09090909090909091\n",
      "Predicted Model Accuracy:  0.18181818181818182\n"
     ]
    },
    {
     "name": "stderr",
     "output_type": "stream",
     "text": [
      " 38%|███▊      | 191/502 [01:45<02:23,  2.17it/s]"
     ]
    },
    {
     "name": "stdout",
     "output_type": "stream",
     "text": [
      "Accuracy Table for model 190:\n",
      "Base Model Accuracy:  0.45454545454545453\n",
      "LoRA Model Accuracy:  0.5454545454545454\n",
      "Predicted Model Accuracy:  0.36363636363636365\n"
     ]
    },
    {
     "name": "stderr",
     "output_type": "stream",
     "text": [
      " 38%|███▊      | 192/502 [01:46<02:05,  2.48it/s]"
     ]
    },
    {
     "name": "stdout",
     "output_type": "stream",
     "text": [
      "Accuracy Table for model 191:\n",
      "Base Model Accuracy:  0.0\n",
      "LoRA Model Accuracy:  0.0\n",
      "Predicted Model Accuracy:  0.0\n"
     ]
    },
    {
     "name": "stderr",
     "output_type": "stream",
     "text": [
      " 38%|███▊      | 193/502 [01:46<01:51,  2.77it/s]"
     ]
    },
    {
     "name": "stdout",
     "output_type": "stream",
     "text": [
      "Accuracy Table for model 192:\n",
      "Base Model Accuracy:  0.0\n",
      "LoRA Model Accuracy:  0.0\n",
      "Predicted Model Accuracy:  0.0\n"
     ]
    },
    {
     "name": "stderr",
     "output_type": "stream",
     "text": [
      " 39%|███▊      | 194/502 [01:46<01:39,  3.09it/s]"
     ]
    },
    {
     "name": "stdout",
     "output_type": "stream",
     "text": [
      "Accuracy Table for model 193:\n",
      "Base Model Accuracy:  0.0\n",
      "LoRA Model Accuracy:  0.0\n",
      "Predicted Model Accuracy:  0.0\n"
     ]
    },
    {
     "name": "stderr",
     "output_type": "stream",
     "text": [
      " 39%|███▉      | 195/502 [01:46<01:39,  3.10it/s]"
     ]
    },
    {
     "name": "stdout",
     "output_type": "stream",
     "text": [
      "Accuracy Table for model 194:\n",
      "Base Model Accuracy:  0.0\n",
      "LoRA Model Accuracy:  0.0\n",
      "Predicted Model Accuracy:  0.0\n"
     ]
    },
    {
     "name": "stderr",
     "output_type": "stream",
     "text": [
      " 39%|███▉      | 196/502 [01:47<02:52,  1.78it/s]"
     ]
    },
    {
     "name": "stdout",
     "output_type": "stream",
     "text": [
      "Accuracy Table for model 195:\n",
      "Base Model Accuracy:  0.047692307692307694\n",
      "LoRA Model Accuracy:  0.8\n",
      "Predicted Model Accuracy:  0.023076923076923078\n"
     ]
    },
    {
     "name": "stderr",
     "output_type": "stream",
     "text": [
      " 39%|███▉      | 197/502 [01:48<02:27,  2.06it/s]"
     ]
    },
    {
     "name": "stdout",
     "output_type": "stream",
     "text": [
      "Accuracy Table for model 196:\n",
      "Base Model Accuracy:  0.24390243902439024\n",
      "LoRA Model Accuracy:  0.5365853658536586\n",
      "Predicted Model Accuracy:  0.43902439024390244\n"
     ]
    },
    {
     "name": "stderr",
     "output_type": "stream",
     "text": [
      " 39%|███▉      | 198/502 [01:48<02:06,  2.41it/s]"
     ]
    },
    {
     "name": "stdout",
     "output_type": "stream",
     "text": [
      "Accuracy Table for model 197:\n",
      "Base Model Accuracy:  0.0625\n",
      "LoRA Model Accuracy:  0.125\n",
      "Predicted Model Accuracy:  0.125\n"
     ]
    },
    {
     "name": "stderr",
     "output_type": "stream",
     "text": [
      " 40%|███▉      | 199/502 [01:48<02:06,  2.40it/s]"
     ]
    },
    {
     "name": "stdout",
     "output_type": "stream",
     "text": [
      "Accuracy Table for model 198:\n",
      "Base Model Accuracy:  0.10738255033557047\n",
      "LoRA Model Accuracy:  0.912751677852349\n",
      "Predicted Model Accuracy:  0.8322147651006712\n"
     ]
    },
    {
     "name": "stderr",
     "output_type": "stream",
     "text": [
      " 40%|███▉      | 200/502 [01:49<01:59,  2.52it/s]"
     ]
    },
    {
     "name": "stdout",
     "output_type": "stream",
     "text": [
      "Accuracy Table for model 199:\n",
      "Base Model Accuracy:  0.10185185185185185\n",
      "LoRA Model Accuracy:  0.9259259259259259\n",
      "Predicted Model Accuracy:  0.8055555555555556\n"
     ]
    },
    {
     "name": "stderr",
     "output_type": "stream",
     "text": [
      " 40%|████      | 201/502 [01:49<02:05,  2.39it/s]"
     ]
    },
    {
     "name": "stdout",
     "output_type": "stream",
     "text": [
      "Accuracy Table for model 200:\n",
      "Base Model Accuracy:  0.05263157894736842\n",
      "LoRA Model Accuracy:  0.10526315789473684\n",
      "Predicted Model Accuracy:  0.03508771929824561\n"
     ]
    },
    {
     "name": "stderr",
     "output_type": "stream",
     "text": [
      " 40%|████      | 202/502 [01:50<02:06,  2.37it/s]"
     ]
    },
    {
     "name": "stdout",
     "output_type": "stream",
     "text": [
      "Accuracy Table for model 201:\n",
      "Base Model Accuracy:  0.0\n",
      "LoRA Model Accuracy:  0.0\n",
      "Predicted Model Accuracy:  0.0\n"
     ]
    },
    {
     "name": "stderr",
     "output_type": "stream",
     "text": [
      " 40%|████      | 203/502 [01:50<02:04,  2.41it/s]"
     ]
    },
    {
     "name": "stdout",
     "output_type": "stream",
     "text": [
      "Accuracy Table for model 202:\n",
      "Base Model Accuracy:  0.07\n",
      "LoRA Model Accuracy:  0.72\n",
      "Predicted Model Accuracy:  0.37\n"
     ]
    },
    {
     "name": "stderr",
     "output_type": "stream",
     "text": [
      " 41%|████      | 204/502 [01:50<01:57,  2.53it/s]"
     ]
    },
    {
     "name": "stdout",
     "output_type": "stream",
     "text": [
      "Accuracy Table for model 203:\n",
      "Base Model Accuracy:  0.09\n",
      "LoRA Model Accuracy:  0.58\n",
      "Predicted Model Accuracy:  0.34\n"
     ]
    },
    {
     "name": "stderr",
     "output_type": "stream",
     "text": [
      " 41%|████      | 205/502 [01:52<03:24,  1.45it/s]"
     ]
    },
    {
     "name": "stdout",
     "output_type": "stream",
     "text": [
      "Accuracy Table for model 204:\n",
      "Base Model Accuracy:  0.004615384615384616\n",
      "LoRA Model Accuracy:  0.016923076923076923\n",
      "Predicted Model Accuracy:  0.0015384615384615385\n"
     ]
    },
    {
     "name": "stderr",
     "output_type": "stream",
     "text": [
      " 41%|████      | 206/502 [01:53<04:20,  1.14it/s]"
     ]
    },
    {
     "name": "stdout",
     "output_type": "stream",
     "text": [
      "Accuracy Table for model 205:\n",
      "Base Model Accuracy:  0.0\n",
      "LoRA Model Accuracy:  0.0\n",
      "Predicted Model Accuracy:  0.0\n"
     ]
    },
    {
     "name": "stderr",
     "output_type": "stream",
     "text": [
      " 41%|████      | 207/502 [01:54<03:44,  1.31it/s]"
     ]
    },
    {
     "name": "stdout",
     "output_type": "stream",
     "text": [
      "Accuracy Table for model 206:\n",
      "Base Model Accuracy:  0.5826771653543307\n",
      "LoRA Model Accuracy:  0.989501312335958\n",
      "Predicted Model Accuracy:  0.8031496062992126\n"
     ]
    },
    {
     "name": "stderr",
     "output_type": "stream",
     "text": [
      " 41%|████▏     | 208/502 [01:55<04:07,  1.19it/s]"
     ]
    },
    {
     "name": "stdout",
     "output_type": "stream",
     "text": [
      "Accuracy Table for model 207:\n",
      "Base Model Accuracy:  0.0\n",
      "LoRA Model Accuracy:  0.05555555555555555\n",
      "Predicted Model Accuracy:  0.0\n"
     ]
    },
    {
     "name": "stderr",
     "output_type": "stream",
     "text": [
      " 42%|████▏     | 209/502 [01:55<04:03,  1.20it/s]"
     ]
    },
    {
     "name": "stdout",
     "output_type": "stream",
     "text": [
      "Accuracy Table for model 208:\n",
      "Base Model Accuracy:  0.0\n",
      "LoRA Model Accuracy:  0.0\n",
      "Predicted Model Accuracy:  0.0\n"
     ]
    },
    {
     "name": "stderr",
     "output_type": "stream",
     "text": [
      " 42%|████▏     | 210/502 [01:56<03:11,  1.52it/s]"
     ]
    },
    {
     "name": "stdout",
     "output_type": "stream",
     "text": [
      "Accuracy Table for model 209:\n",
      "Base Model Accuracy:  0.16666666666666666\n",
      "LoRA Model Accuracy:  0.6666666666666666\n",
      "Predicted Model Accuracy:  0.6666666666666666\n"
     ]
    },
    {
     "name": "stderr",
     "output_type": "stream",
     "text": [
      " 42%|████▏     | 211/502 [01:56<02:36,  1.85it/s]"
     ]
    },
    {
     "name": "stdout",
     "output_type": "stream",
     "text": [
      "Accuracy Table for model 210:\n",
      "Base Model Accuracy:  0.0\n",
      "LoRA Model Accuracy:  0.0\n",
      "Predicted Model Accuracy:  0.0\n"
     ]
    },
    {
     "name": "stderr",
     "output_type": "stream",
     "text": [
      " 42%|████▏     | 212/502 [01:56<02:22,  2.04it/s]"
     ]
    },
    {
     "name": "stdout",
     "output_type": "stream",
     "text": [
      "Accuracy Table for model 211:\n",
      "Base Model Accuracy:  0.0\n",
      "LoRA Model Accuracy:  0.0\n",
      "Predicted Model Accuracy:  0.0\n"
     ]
    },
    {
     "name": "stderr",
     "output_type": "stream",
     "text": [
      " 42%|████▏     | 213/502 [01:57<02:03,  2.33it/s]"
     ]
    },
    {
     "name": "stdout",
     "output_type": "stream",
     "text": [
      "Accuracy Table for model 212:\n",
      "Base Model Accuracy:  0.0\n",
      "LoRA Model Accuracy:  0.0\n",
      "Predicted Model Accuracy:  0.0\n"
     ]
    },
    {
     "name": "stderr",
     "output_type": "stream",
     "text": [
      " 43%|████▎     | 214/502 [01:58<04:00,  1.20it/s]"
     ]
    },
    {
     "name": "stdout",
     "output_type": "stream",
     "text": [
      "Accuracy Table for model 213:\n",
      "Base Model Accuracy:  0.28771384136858474\n",
      "LoRA Model Accuracy:  0.7511664074650077\n",
      "Predicted Model Accuracy:  0.27682737169517885\n"
     ]
    },
    {
     "name": "stderr",
     "output_type": "stream",
     "text": [
      " 43%|████▎     | 215/502 [01:59<03:30,  1.36it/s]"
     ]
    },
    {
     "name": "stdout",
     "output_type": "stream",
     "text": [
      "Accuracy Table for model 214:\n",
      "Base Model Accuracy:  0.0\n",
      "LoRA Model Accuracy:  0.0\n",
      "Predicted Model Accuracy:  0.0\n"
     ]
    },
    {
     "name": "stderr",
     "output_type": "stream",
     "text": [
      " 43%|████▎     | 216/502 [01:59<03:11,  1.49it/s]"
     ]
    },
    {
     "name": "stdout",
     "output_type": "stream",
     "text": [
      "Accuracy Table for model 215:\n",
      "Base Model Accuracy:  0.15013404825737264\n",
      "LoRA Model Accuracy:  0.9892761394101877\n",
      "Predicted Model Accuracy:  0.30294906166219837\n"
     ]
    },
    {
     "name": "stderr",
     "output_type": "stream",
     "text": [
      " 43%|████▎     | 217/502 [02:00<03:10,  1.50it/s]"
     ]
    },
    {
     "name": "stdout",
     "output_type": "stream",
     "text": [
      "Accuracy Table for model 216:\n",
      "Base Model Accuracy:  0.0\n",
      "LoRA Model Accuracy:  0.0\n",
      "Predicted Model Accuracy:  0.0\n"
     ]
    },
    {
     "name": "stderr",
     "output_type": "stream",
     "text": [
      " 43%|████▎     | 218/502 [02:01<03:35,  1.32it/s]"
     ]
    },
    {
     "name": "stdout",
     "output_type": "stream",
     "text": [
      "Accuracy Table for model 217:\n",
      "Base Model Accuracy:  0.1369150779896014\n",
      "LoRA Model Accuracy:  0.92894280762565\n",
      "Predicted Model Accuracy:  0.30849220103986136\n"
     ]
    },
    {
     "name": "stderr",
     "output_type": "stream",
     "text": [
      " 44%|████▎     | 219/502 [02:02<03:13,  1.46it/s]"
     ]
    },
    {
     "name": "stdout",
     "output_type": "stream",
     "text": [
      "Accuracy Table for model 218:\n",
      "Base Model Accuracy:  0.07169811320754717\n",
      "LoRA Model Accuracy:  0.5094339622641509\n",
      "Predicted Model Accuracy:  0.2792452830188679\n"
     ]
    },
    {
     "name": "stderr",
     "output_type": "stream",
     "text": [
      " 44%|████▍     | 220/502 [02:02<02:55,  1.61it/s]"
     ]
    },
    {
     "name": "stdout",
     "output_type": "stream",
     "text": [
      "Accuracy Table for model 219:\n",
      "Base Model Accuracy:  0.06440677966101695\n",
      "LoRA Model Accuracy:  0.9796610169491525\n",
      "Predicted Model Accuracy:  0.8033898305084746\n"
     ]
    },
    {
     "name": "stderr",
     "output_type": "stream",
     "text": [
      " 44%|████▍     | 221/502 [02:02<02:32,  1.84it/s]"
     ]
    },
    {
     "name": "stdout",
     "output_type": "stream",
     "text": [
      "Accuracy Table for model 220:\n",
      "Base Model Accuracy:  0.36363636363636365\n",
      "LoRA Model Accuracy:  0.36363636363636365\n",
      "Predicted Model Accuracy:  0.45454545454545453\n"
     ]
    },
    {
     "name": "stderr",
     "output_type": "stream",
     "text": [
      " 44%|████▍     | 222/502 [02:03<02:16,  2.05it/s]"
     ]
    },
    {
     "name": "stdout",
     "output_type": "stream",
     "text": [
      "Accuracy Table for model 221:\n",
      "Base Model Accuracy:  0.0\n",
      "LoRA Model Accuracy:  0.0\n",
      "Predicted Model Accuracy:  0.0\n"
     ]
    },
    {
     "name": "stderr",
     "output_type": "stream",
     "text": [
      " 44%|████▍     | 223/502 [02:03<01:55,  2.41it/s]"
     ]
    },
    {
     "name": "stdout",
     "output_type": "stream",
     "text": [
      "Accuracy Table for model 222:\n",
      "Base Model Accuracy:  0.0\n",
      "LoRA Model Accuracy:  0.0\n",
      "Predicted Model Accuracy:  0.0\n"
     ]
    },
    {
     "name": "stderr",
     "output_type": "stream",
     "text": [
      " 45%|████▍     | 224/502 [02:03<01:53,  2.44it/s]"
     ]
    },
    {
     "name": "stdout",
     "output_type": "stream",
     "text": [
      "Accuracy Table for model 223:\n",
      "Base Model Accuracy:  0.0\n",
      "LoRA Model Accuracy:  0.0\n",
      "Predicted Model Accuracy:  0.0\n"
     ]
    },
    {
     "name": "stderr",
     "output_type": "stream",
     "text": [
      " 45%|████▍     | 225/502 [02:04<01:52,  2.46it/s]"
     ]
    },
    {
     "name": "stdout",
     "output_type": "stream",
     "text": [
      "Accuracy Table for model 224:\n",
      "Base Model Accuracy:  0.0\n",
      "LoRA Model Accuracy:  0.0\n",
      "Predicted Model Accuracy:  0.0\n"
     ]
    },
    {
     "name": "stderr",
     "output_type": "stream",
     "text": [
      " 45%|████▌     | 226/502 [02:04<02:10,  2.12it/s]"
     ]
    },
    {
     "name": "stdout",
     "output_type": "stream",
     "text": [
      "Accuracy Table for model 225:\n",
      "Base Model Accuracy:  0.0\n",
      "LoRA Model Accuracy:  0.0\n",
      "Predicted Model Accuracy:  0.0\n"
     ]
    },
    {
     "name": "stderr",
     "output_type": "stream",
     "text": [
      " 45%|████▌     | 227/502 [02:05<02:07,  2.16it/s]"
     ]
    },
    {
     "name": "stdout",
     "output_type": "stream",
     "text": [
      "Accuracy Table for model 226:\n",
      "Base Model Accuracy:  0.0\n",
      "LoRA Model Accuracy:  0.0\n",
      "Predicted Model Accuracy:  0.0\n"
     ]
    },
    {
     "name": "stderr",
     "output_type": "stream",
     "text": [
      " 45%|████▌     | 228/502 [02:05<02:05,  2.19it/s]"
     ]
    },
    {
     "name": "stdout",
     "output_type": "stream",
     "text": [
      "Accuracy Table for model 227:\n",
      "Base Model Accuracy:  0.0\n",
      "LoRA Model Accuracy:  0.0\n",
      "Predicted Model Accuracy:  0.0\n"
     ]
    },
    {
     "name": "stderr",
     "output_type": "stream",
     "text": [
      " 46%|████▌     | 229/502 [03:01<1:17:38, 17.06s/it]"
     ]
    },
    {
     "name": "stdout",
     "output_type": "stream",
     "text": [
      "Accuracy Table for model 228:\n",
      "Base Model Accuracy:  0.0\n",
      "LoRA Model Accuracy:  0.0\n",
      "Predicted Model Accuracy:  0.0\n"
     ]
    },
    {
     "name": "stderr",
     "output_type": "stream",
     "text": [
      " 46%|████▌     | 231/502 [03:02<38:30,  8.53s/it]  "
     ]
    },
    {
     "name": "stdout",
     "output_type": "stream",
     "text": [
      "Accuracy Table for model 229:\n",
      "Base Model Accuracy:  0.28217054263565894\n",
      "LoRA Model Accuracy:  0.7596899224806202\n",
      "Predicted Model Accuracy:  0.7441860465116279\n",
      "Accuracy Table for model 230:\n",
      "Base Model Accuracy:  0.0\n",
      "LoRA Model Accuracy:  0.0\n",
      "Predicted Model Accuracy:  0.0\n"
     ]
    },
    {
     "name": "stderr",
     "output_type": "stream",
     "text": [
      " 46%|████▌     | 232/502 [03:02<27:33,  6.12s/it]"
     ]
    },
    {
     "name": "stdout",
     "output_type": "stream",
     "text": [
      "Accuracy Table for model 231:\n",
      "Base Model Accuracy:  0.004347826086956522\n",
      "LoRA Model Accuracy:  0.004347826086956522\n",
      "Predicted Model Accuracy:  0.004347826086956522\n"
     ]
    },
    {
     "name": "stderr",
     "output_type": "stream",
     "text": [
      " 46%|████▋     | 233/502 [03:03<19:32,  4.36s/it]"
     ]
    },
    {
     "name": "stdout",
     "output_type": "stream",
     "text": [
      "Accuracy Table for model 232:\n",
      "Base Model Accuracy:  0.1\n",
      "LoRA Model Accuracy:  0.84\n",
      "Predicted Model Accuracy:  0.67\n"
     ]
    },
    {
     "name": "stderr",
     "output_type": "stream",
     "text": [
      " 47%|████▋     | 234/502 [03:03<13:55,  3.12s/it]"
     ]
    },
    {
     "name": "stdout",
     "output_type": "stream",
     "text": [
      "Accuracy Table for model 233:\n",
      "Base Model Accuracy:  0.29\n",
      "LoRA Model Accuracy:  0.83\n",
      "Predicted Model Accuracy:  0.64\n"
     ]
    },
    {
     "name": "stderr",
     "output_type": "stream",
     "text": [
      " 47%|████▋     | 235/502 [03:03<10:01,  2.25s/it]"
     ]
    },
    {
     "name": "stdout",
     "output_type": "stream",
     "text": [
      "Accuracy Table for model 234:\n",
      "Base Model Accuracy:  0.33\n",
      "LoRA Model Accuracy:  0.83\n",
      "Predicted Model Accuracy:  0.68\n"
     ]
    },
    {
     "name": "stderr",
     "output_type": "stream",
     "text": [
      " 47%|████▋     | 236/502 [03:03<07:17,  1.65s/it]"
     ]
    },
    {
     "name": "stdout",
     "output_type": "stream",
     "text": [
      "Accuracy Table for model 235:\n",
      "Base Model Accuracy:  0.35\n",
      "LoRA Model Accuracy:  0.72\n",
      "Predicted Model Accuracy:  0.52\n"
     ]
    },
    {
     "name": "stderr",
     "output_type": "stream",
     "text": [
      " 47%|████▋     | 237/502 [03:04<05:25,  1.23s/it]"
     ]
    },
    {
     "name": "stdout",
     "output_type": "stream",
     "text": [
      "Accuracy Table for model 236:\n",
      "Base Model Accuracy:  0.13\n",
      "LoRA Model Accuracy:  0.7\n",
      "Predicted Model Accuracy:  0.65\n"
     ]
    },
    {
     "name": "stderr",
     "output_type": "stream",
     "text": [
      " 47%|████▋     | 238/502 [03:05<05:10,  1.18s/it]"
     ]
    },
    {
     "name": "stdout",
     "output_type": "stream",
     "text": [
      "Accuracy Table for model 237:\n",
      "Base Model Accuracy:  0.0\n",
      "LoRA Model Accuracy:  0.0\n",
      "Predicted Model Accuracy:  0.0\n"
     ]
    },
    {
     "name": "stderr",
     "output_type": "stream",
     "text": [
      " 48%|████▊     | 239/502 [03:07<06:07,  1.40s/it]"
     ]
    },
    {
     "name": "stdout",
     "output_type": "stream",
     "text": [
      "Accuracy Table for model 238:\n",
      "Base Model Accuracy:  0.0\n",
      "LoRA Model Accuracy:  0.0\n",
      "Predicted Model Accuracy:  0.0\n"
     ]
    },
    {
     "name": "stderr",
     "output_type": "stream",
     "text": [
      " 48%|████▊     | 240/502 [03:07<04:43,  1.08s/it]"
     ]
    },
    {
     "name": "stdout",
     "output_type": "stream",
     "text": [
      "Accuracy Table for model 239:\n",
      "Base Model Accuracy:  0.291044776119403\n",
      "LoRA Model Accuracy:  0.75\n",
      "Predicted Model Accuracy:  0.5111940298507462\n"
     ]
    },
    {
     "name": "stderr",
     "output_type": "stream",
     "text": [
      " 48%|████▊     | 241/502 [03:10<06:45,  1.55s/it]"
     ]
    },
    {
     "name": "stdout",
     "output_type": "stream",
     "text": [
      "Accuracy Table for model 240:\n",
      "Base Model Accuracy:  0.0\n",
      "LoRA Model Accuracy:  0.0\n",
      "Predicted Model Accuracy:  0.0\n"
     ]
    },
    {
     "name": "stderr",
     "output_type": "stream",
     "text": [
      " 48%|████▊     | 242/502 [03:10<05:13,  1.21s/it]"
     ]
    },
    {
     "name": "stdout",
     "output_type": "stream",
     "text": [
      "Accuracy Table for model 241:\n",
      "Base Model Accuracy:  0.3220779220779221\n",
      "LoRA Model Accuracy:  0.7194805194805195\n",
      "Predicted Model Accuracy:  0.6\n"
     ]
    },
    {
     "name": "stderr",
     "output_type": "stream",
     "text": [
      " 48%|████▊     | 243/502 [03:10<03:57,  1.09it/s]"
     ]
    },
    {
     "name": "stdout",
     "output_type": "stream",
     "text": [
      "Accuracy Table for model 242:\n",
      "Base Model Accuracy:  0.023255813953488372\n",
      "LoRA Model Accuracy:  0.5813953488372093\n",
      "Predicted Model Accuracy:  0.09302325581395349\n"
     ]
    },
    {
     "name": "stderr",
     "output_type": "stream",
     "text": [
      " 49%|████▊     | 244/502 [03:10<03:05,  1.39it/s]"
     ]
    },
    {
     "name": "stdout",
     "output_type": "stream",
     "text": [
      "Accuracy Table for model 243:\n",
      "Base Model Accuracy:  0.04\n",
      "LoRA Model Accuracy:  0.06\n",
      "Predicted Model Accuracy:  0.04\n"
     ]
    },
    {
     "name": "stderr",
     "output_type": "stream",
     "text": [
      " 49%|████▉     | 245/502 [03:11<03:03,  1.40it/s]"
     ]
    },
    {
     "name": "stdout",
     "output_type": "stream",
     "text": [
      "Accuracy Table for model 244:\n",
      "Base Model Accuracy:  0.4938461538461538\n",
      "LoRA Model Accuracy:  0.8584615384615385\n",
      "Predicted Model Accuracy:  0.46307692307692305\n"
     ]
    },
    {
     "name": "stderr",
     "output_type": "stream",
     "text": [
      " 49%|████▉     | 246/502 [03:12<03:49,  1.11it/s]"
     ]
    },
    {
     "name": "stdout",
     "output_type": "stream",
     "text": [
      "Accuracy Table for model 245:\n",
      "Base Model Accuracy:  0.0\n",
      "LoRA Model Accuracy:  0.0\n",
      "Predicted Model Accuracy:  0.0\n"
     ]
    },
    {
     "name": "stderr",
     "output_type": "stream",
     "text": [
      " 49%|████▉     | 247/502 [03:13<03:19,  1.28it/s]"
     ]
    },
    {
     "name": "stdout",
     "output_type": "stream",
     "text": [
      "Accuracy Table for model 246:\n",
      "Base Model Accuracy:  0.3123076923076923\n",
      "LoRA Model Accuracy:  0.8984615384615384\n",
      "Predicted Model Accuracy:  0.7446153846153846\n"
     ]
    },
    {
     "name": "stderr",
     "output_type": "stream",
     "text": [
      " 49%|████▉     | 248/502 [03:14<03:04,  1.38it/s]"
     ]
    },
    {
     "name": "stdout",
     "output_type": "stream",
     "text": [
      "Accuracy Table for model 247:\n",
      "Base Model Accuracy:  0.023076923076923078\n",
      "LoRA Model Accuracy:  0.9215384615384615\n",
      "Predicted Model Accuracy:  0.14153846153846153\n"
     ]
    },
    {
     "name": "stderr",
     "output_type": "stream",
     "text": [
      " 50%|████▉     | 249/502 [03:14<02:54,  1.45it/s]"
     ]
    },
    {
     "name": "stdout",
     "output_type": "stream",
     "text": [
      "Accuracy Table for model 248:\n",
      "Base Model Accuracy:  0.17846153846153845\n",
      "LoRA Model Accuracy:  0.9661538461538461\n",
      "Predicted Model Accuracy:  0.3723076923076923\n"
     ]
    },
    {
     "name": "stderr",
     "output_type": "stream",
     "text": [
      " 50%|████▉     | 250/502 [03:15<02:40,  1.57it/s]"
     ]
    },
    {
     "name": "stdout",
     "output_type": "stream",
     "text": [
      "Accuracy Table for model 249:\n",
      "Base Model Accuracy:  0.002\n",
      "LoRA Model Accuracy:  0.116\n",
      "Predicted Model Accuracy:  0.0\n"
     ]
    },
    {
     "name": "stderr",
     "output_type": "stream",
     "text": [
      " 50%|█████     | 251/502 [03:15<02:31,  1.66it/s]"
     ]
    },
    {
     "name": "stdout",
     "output_type": "stream",
     "text": [
      "Accuracy Table for model 250:\n",
      "Base Model Accuracy:  0.05\n",
      "LoRA Model Accuracy:  0.148\n",
      "Predicted Model Accuracy:  0.044\n"
     ]
    },
    {
     "name": "stderr",
     "output_type": "stream",
     "text": [
      " 50%|█████     | 252/502 [03:15<02:05,  1.99it/s]"
     ]
    },
    {
     "name": "stdout",
     "output_type": "stream",
     "text": [
      "Accuracy Table for model 251:\n",
      "Base Model Accuracy:  0.29411764705882354\n",
      "LoRA Model Accuracy:  0.9084967320261438\n",
      "Predicted Model Accuracy:  0.7189542483660131\n"
     ]
    },
    {
     "name": "stderr",
     "output_type": "stream",
     "text": [
      " 50%|█████     | 253/502 [03:17<02:47,  1.48it/s]"
     ]
    },
    {
     "name": "stdout",
     "output_type": "stream",
     "text": [
      "Accuracy Table for model 252:\n",
      "Base Model Accuracy:  0.0\n",
      "LoRA Model Accuracy:  0.0\n",
      "Predicted Model Accuracy:  0.0\n"
     ]
    },
    {
     "name": "stderr",
     "output_type": "stream",
     "text": [
      " 51%|█████     | 254/502 [03:17<02:35,  1.60it/s]"
     ]
    },
    {
     "name": "stdout",
     "output_type": "stream",
     "text": [
      "Accuracy Table for model 253:\n",
      "Base Model Accuracy:  0.545\n",
      "LoRA Model Accuracy:  1.0\n",
      "Predicted Model Accuracy:  0.5116666666666667\n"
     ]
    },
    {
     "name": "stderr",
     "output_type": "stream",
     "text": [
      " 51%|█████     | 255/502 [03:18<02:27,  1.68it/s]"
     ]
    },
    {
     "name": "stdout",
     "output_type": "stream",
     "text": [
      "Accuracy Table for model 254:\n",
      "Base Model Accuracy:  0.027692307692307693\n",
      "LoRA Model Accuracy:  0.15846153846153846\n",
      "Predicted Model Accuracy:  0.047692307692307694\n"
     ]
    },
    {
     "name": "stderr",
     "output_type": "stream",
     "text": [
      " 51%|█████     | 256/502 [03:18<02:17,  1.78it/s]"
     ]
    },
    {
     "name": "stdout",
     "output_type": "stream",
     "text": [
      "Accuracy Table for model 255:\n",
      "Base Model Accuracy:  0.4076923076923077\n",
      "LoRA Model Accuracy:  0.8057692307692308\n",
      "Predicted Model Accuracy:  0.8134615384615385\n"
     ]
    },
    {
     "name": "stderr",
     "output_type": "stream",
     "text": [
      " 51%|█████     | 257/502 [03:18<01:53,  2.15it/s]"
     ]
    },
    {
     "name": "stdout",
     "output_type": "stream",
     "text": [
      "Accuracy Table for model 256:\n",
      "Base Model Accuracy:  0.7\n",
      "LoRA Model Accuracy:  0.96\n",
      "Predicted Model Accuracy:  0.76\n"
     ]
    },
    {
     "name": "stderr",
     "output_type": "stream",
     "text": [
      " 51%|█████▏    | 258/502 [03:19<01:39,  2.44it/s]"
     ]
    },
    {
     "name": "stdout",
     "output_type": "stream",
     "text": [
      "Accuracy Table for model 257:\n",
      "Base Model Accuracy:  0.11\n",
      "LoRA Model Accuracy:  0.99\n",
      "Predicted Model Accuracy:  0.16\n"
     ]
    },
    {
     "name": "stderr",
     "output_type": "stream",
     "text": [
      " 52%|█████▏    | 259/502 [03:19<01:36,  2.52it/s]"
     ]
    },
    {
     "name": "stdout",
     "output_type": "stream",
     "text": [
      "Accuracy Table for model 258:\n",
      "Base Model Accuracy:  0.21963824289405684\n",
      "LoRA Model Accuracy:  1.0\n",
      "Predicted Model Accuracy:  0.8708010335917312\n"
     ]
    },
    {
     "name": "stderr",
     "output_type": "stream",
     "text": [
      " 52%|█████▏    | 260/502 [03:20<02:27,  1.64it/s]"
     ]
    },
    {
     "name": "stdout",
     "output_type": "stream",
     "text": [
      "Accuracy Table for model 259:\n",
      "Base Model Accuracy:  0.0\n",
      "LoRA Model Accuracy:  0.0\n",
      "Predicted Model Accuracy:  0.0\n"
     ]
    },
    {
     "name": "stderr",
     "output_type": "stream",
     "text": [
      " 52%|█████▏    | 261/502 [03:21<02:26,  1.65it/s]"
     ]
    },
    {
     "name": "stdout",
     "output_type": "stream",
     "text": [
      "Accuracy Table for model 260:\n",
      "Base Model Accuracy:  0.026143790849673203\n",
      "LoRA Model Accuracy:  0.06699346405228758\n",
      "Predicted Model Accuracy:  0.06209150326797386\n"
     ]
    },
    {
     "name": "stderr",
     "output_type": "stream",
     "text": [
      " 52%|█████▏    | 262/502 [03:21<01:58,  2.02it/s]"
     ]
    },
    {
     "name": "stdout",
     "output_type": "stream",
     "text": [
      "Accuracy Table for model 261:\n",
      "Base Model Accuracy:  0.2318840579710145\n",
      "LoRA Model Accuracy:  0.4782608695652174\n",
      "Predicted Model Accuracy:  0.2898550724637681\n"
     ]
    },
    {
     "name": "stderr",
     "output_type": "stream",
     "text": [
      " 52%|█████▏    | 263/502 [03:22<02:15,  1.76it/s]"
     ]
    },
    {
     "name": "stdout",
     "output_type": "stream",
     "text": [
      "Accuracy Table for model 262:\n",
      "Base Model Accuracy:  0.027692307692307693\n",
      "LoRA Model Accuracy:  0.4523076923076923\n",
      "Predicted Model Accuracy:  0.03230769230769231\n"
     ]
    },
    {
     "name": "stderr",
     "output_type": "stream",
     "text": [
      " 53%|█████▎    | 264/502 [03:23<03:34,  1.11it/s]"
     ]
    },
    {
     "name": "stdout",
     "output_type": "stream",
     "text": [
      "Accuracy Table for model 263:\n",
      "Base Model Accuracy:  0.0\n",
      "LoRA Model Accuracy:  0.0\n",
      "Predicted Model Accuracy:  0.0\n"
     ]
    },
    {
     "name": "stderr",
     "output_type": "stream",
     "text": [
      " 53%|█████▎    | 265/502 [03:24<03:27,  1.14it/s]"
     ]
    },
    {
     "name": "stdout",
     "output_type": "stream",
     "text": [
      "Accuracy Table for model 264:\n",
      "Base Model Accuracy:  0.0\n",
      "LoRA Model Accuracy:  0.0\n",
      "Predicted Model Accuracy:  0.0\n"
     ]
    },
    {
     "name": "stderr",
     "output_type": "stream",
     "text": [
      " 53%|█████▎    | 266/502 [03:24<02:46,  1.41it/s]"
     ]
    },
    {
     "name": "stdout",
     "output_type": "stream",
     "text": [
      "Accuracy Table for model 265:\n",
      "Base Model Accuracy:  0.004166666666666667\n",
      "LoRA Model Accuracy:  0.49583333333333335\n",
      "Predicted Model Accuracy:  0.48333333333333334\n"
     ]
    },
    {
     "name": "stderr",
     "output_type": "stream",
     "text": [
      " 53%|█████▎    | 267/502 [03:25<02:44,  1.43it/s]"
     ]
    },
    {
     "name": "stdout",
     "output_type": "stream",
     "text": [
      "Accuracy Table for model 266:\n",
      "Base Model Accuracy:  0.0\n",
      "LoRA Model Accuracy:  0.0\n",
      "Predicted Model Accuracy:  0.0\n"
     ]
    },
    {
     "name": "stderr",
     "output_type": "stream",
     "text": [
      " 53%|█████▎    | 268/502 [03:25<02:20,  1.66it/s]"
     ]
    },
    {
     "name": "stdout",
     "output_type": "stream",
     "text": [
      "Accuracy Table for model 267:\n",
      "Base Model Accuracy:  0.020202020202020204\n",
      "LoRA Model Accuracy:  0.26262626262626265\n",
      "Predicted Model Accuracy:  0.1111111111111111\n"
     ]
    },
    {
     "name": "stderr",
     "output_type": "stream",
     "text": [
      " 54%|█████▎    | 269/502 [03:26<01:59,  1.94it/s]"
     ]
    },
    {
     "name": "stdout",
     "output_type": "stream",
     "text": [
      "Accuracy Table for model 268:\n",
      "Base Model Accuracy:  0.0\n",
      "LoRA Model Accuracy:  0.10810810810810811\n",
      "Predicted Model Accuracy:  0.05405405405405406\n"
     ]
    },
    {
     "name": "stderr",
     "output_type": "stream",
     "text": [
      " 54%|█████▍    | 270/502 [03:26<01:56,  1.99it/s]"
     ]
    },
    {
     "name": "stdout",
     "output_type": "stream",
     "text": [
      "Accuracy Table for model 269:\n",
      "Base Model Accuracy:  0.15363881401617252\n",
      "LoRA Model Accuracy:  0.9919137466307277\n",
      "Predicted Model Accuracy:  0.7331536388140162\n"
     ]
    },
    {
     "name": "stderr",
     "output_type": "stream",
     "text": [
      " 54%|█████▍    | 271/502 [03:27<02:06,  1.82it/s]"
     ]
    },
    {
     "name": "stdout",
     "output_type": "stream",
     "text": [
      "Accuracy Table for model 270:\n",
      "Base Model Accuracy:  0.5553846153846154\n",
      "LoRA Model Accuracy:  0.9523076923076923\n",
      "Predicted Model Accuracy:  0.9230769230769231\n"
     ]
    },
    {
     "name": "stderr",
     "output_type": "stream",
     "text": [
      " 54%|█████▍    | 272/502 [03:27<02:03,  1.87it/s]"
     ]
    },
    {
     "name": "stdout",
     "output_type": "stream",
     "text": [
      "Accuracy Table for model 271:\n",
      "Base Model Accuracy:  0.44\n",
      "LoRA Model Accuracy:  0.9738461538461538\n",
      "Predicted Model Accuracy:  0.8784615384615385\n"
     ]
    },
    {
     "name": "stderr",
     "output_type": "stream",
     "text": [
      " 54%|█████▍    | 273/502 [03:28<02:01,  1.89it/s]"
     ]
    },
    {
     "name": "stdout",
     "output_type": "stream",
     "text": [
      "Accuracy Table for model 272:\n",
      "Base Model Accuracy:  0.0\n",
      "LoRA Model Accuracy:  0.0\n",
      "Predicted Model Accuracy:  0.0\n"
     ]
    },
    {
     "name": "stderr",
     "output_type": "stream",
     "text": [
      " 55%|█████▍    | 274/502 [03:28<01:52,  2.04it/s]"
     ]
    },
    {
     "name": "stdout",
     "output_type": "stream",
     "text": [
      "Accuracy Table for model 273:\n",
      "Base Model Accuracy:  0.41260744985673353\n",
      "LoRA Model Accuracy:  0.7106017191977078\n",
      "Predicted Model Accuracy:  0.7020057306590258\n"
     ]
    },
    {
     "name": "stderr",
     "output_type": "stream",
     "text": [
      " 55%|█████▍    | 275/502 [03:29<01:53,  2.01it/s]"
     ]
    },
    {
     "name": "stdout",
     "output_type": "stream",
     "text": [
      "Accuracy Table for model 274:\n",
      "Base Model Accuracy:  0.011666666666666667\n",
      "LoRA Model Accuracy:  0.9766666666666667\n",
      "Predicted Model Accuracy:  0.7866666666666666\n"
     ]
    },
    {
     "name": "stderr",
     "output_type": "stream",
     "text": [
      " 55%|█████▍    | 276/502 [03:30<02:12,  1.70it/s]"
     ]
    },
    {
     "name": "stdout",
     "output_type": "stream",
     "text": [
      "Accuracy Table for model 275:\n",
      "Base Model Accuracy:  0.03230769230769231\n",
      "LoRA Model Accuracy:  0.6107692307692307\n",
      "Predicted Model Accuracy:  0.024615384615384615\n"
     ]
    },
    {
     "name": "stderr",
     "output_type": "stream",
     "text": [
      " 55%|█████▌    | 277/502 [03:30<01:52,  2.01it/s]"
     ]
    },
    {
     "name": "stdout",
     "output_type": "stream",
     "text": [
      "Accuracy Table for model 276:\n",
      "Base Model Accuracy:  0.328042328042328\n",
      "LoRA Model Accuracy:  0.9788359788359788\n",
      "Predicted Model Accuracy:  0.8571428571428571\n"
     ]
    },
    {
     "name": "stderr",
     "output_type": "stream",
     "text": [
      " 55%|█████▌    | 278/502 [03:30<01:43,  2.16it/s]"
     ]
    },
    {
     "name": "stdout",
     "output_type": "stream",
     "text": [
      "Accuracy Table for model 277:\n",
      "Base Model Accuracy:  0.44562334217506633\n",
      "LoRA Model Accuracy:  0.9549071618037135\n",
      "Predicted Model Accuracy:  0.7559681697612732\n"
     ]
    },
    {
     "name": "stderr",
     "output_type": "stream",
     "text": [
      " 56%|█████▌    | 279/502 [03:31<01:50,  2.01it/s]"
     ]
    },
    {
     "name": "stdout",
     "output_type": "stream",
     "text": [
      "Accuracy Table for model 278:\n",
      "Base Model Accuracy:  0.004615384615384616\n",
      "LoRA Model Accuracy:  0.8846153846153846\n",
      "Predicted Model Accuracy:  0.010769230769230769\n"
     ]
    },
    {
     "name": "stderr",
     "output_type": "stream",
     "text": [
      " 56%|█████▌    | 280/502 [03:32<01:59,  1.86it/s]"
     ]
    },
    {
     "name": "stdout",
     "output_type": "stream",
     "text": [
      "Accuracy Table for model 279:\n",
      "Base Model Accuracy:  0.18153846153846154\n",
      "LoRA Model Accuracy:  0.44153846153846155\n",
      "Predicted Model Accuracy:  0.22153846153846155\n"
     ]
    },
    {
     "name": "stderr",
     "output_type": "stream",
     "text": [
      " 56%|█████▌    | 281/502 [03:32<02:01,  1.82it/s]"
     ]
    },
    {
     "name": "stdout",
     "output_type": "stream",
     "text": [
      "Accuracy Table for model 280:\n",
      "Base Model Accuracy:  0.15384615384615385\n",
      "LoRA Model Accuracy:  0.33384615384615385\n",
      "Predicted Model Accuracy:  0.28307692307692306\n"
     ]
    },
    {
     "name": "stderr",
     "output_type": "stream",
     "text": [
      " 56%|█████▌    | 282/502 [03:32<01:48,  2.04it/s]"
     ]
    },
    {
     "name": "stdout",
     "output_type": "stream",
     "text": [
      "Accuracy Table for model 281:\n",
      "Base Model Accuracy:  0.12624584717607973\n",
      "LoRA Model Accuracy:  0.4717607973421927\n",
      "Predicted Model Accuracy:  0.4019933554817276\n"
     ]
    },
    {
     "name": "stderr",
     "output_type": "stream",
     "text": [
      " 56%|█████▋    | 283/502 [03:33<01:30,  2.42it/s]"
     ]
    },
    {
     "name": "stdout",
     "output_type": "stream",
     "text": [
      "Accuracy Table for model 282:\n",
      "Base Model Accuracy:  0.0\n",
      "LoRA Model Accuracy:  0.684931506849315\n",
      "Predicted Model Accuracy:  0.5753424657534246\n"
     ]
    },
    {
     "name": "stderr",
     "output_type": "stream",
     "text": [
      " 57%|█████▋    | 284/502 [03:33<01:23,  2.62it/s]"
     ]
    },
    {
     "name": "stdout",
     "output_type": "stream",
     "text": [
      "Accuracy Table for model 283:\n",
      "Base Model Accuracy:  0.056451612903225805\n",
      "LoRA Model Accuracy:  0.6370967741935484\n",
      "Predicted Model Accuracy:  0.5524193548387096\n"
     ]
    },
    {
     "name": "stderr",
     "output_type": "stream",
     "text": [
      " 57%|█████▋    | 285/502 [03:34<01:30,  2.40it/s]"
     ]
    },
    {
     "name": "stdout",
     "output_type": "stream",
     "text": [
      "Accuracy Table for model 284:\n",
      "Base Model Accuracy:  0.15336463223787167\n",
      "LoRA Model Accuracy:  0.9765258215962441\n",
      "Predicted Model Accuracy:  0.9655712050078247\n"
     ]
    },
    {
     "name": "stderr",
     "output_type": "stream",
     "text": [
      " 57%|█████▋    | 287/502 [03:34<01:20,  2.66it/s]"
     ]
    },
    {
     "name": "stdout",
     "output_type": "stream",
     "text": [
      "Accuracy Table for model 285:\n",
      "Base Model Accuracy:  0.0\n",
      "LoRA Model Accuracy:  0.0\n",
      "Predicted Model Accuracy:  0.0\n",
      "Accuracy Table for model 286:\n",
      "Base Model Accuracy:  0.1794871794871795\n",
      "LoRA Model Accuracy:  0.9230769230769231\n",
      "Predicted Model Accuracy:  0.6923076923076923\n"
     ]
    },
    {
     "name": "stderr",
     "output_type": "stream",
     "text": [
      " 57%|█████▋    | 288/502 [03:35<01:40,  2.13it/s]"
     ]
    },
    {
     "name": "stdout",
     "output_type": "stream",
     "text": [
      "Accuracy Table for model 287:\n",
      "Base Model Accuracy:  0.0\n",
      "LoRA Model Accuracy:  0.0\n",
      "Predicted Model Accuracy:  0.0\n"
     ]
    },
    {
     "name": "stderr",
     "output_type": "stream",
     "text": [
      " 58%|█████▊    | 289/502 [03:35<01:43,  2.06it/s]"
     ]
    },
    {
     "name": "stdout",
     "output_type": "stream",
     "text": [
      "Accuracy Table for model 288:\n",
      "Base Model Accuracy:  0.08763693270735524\n",
      "LoRA Model Accuracy:  0.5039123630672926\n",
      "Predicted Model Accuracy:  0.5039123630672926\n"
     ]
    },
    {
     "name": "stderr",
     "output_type": "stream",
     "text": [
      " 58%|█████▊    | 290/502 [03:36<01:43,  2.04it/s]"
     ]
    },
    {
     "name": "stdout",
     "output_type": "stream",
     "text": [
      "Accuracy Table for model 289:\n",
      "Base Model Accuracy:  0.08520900321543408\n",
      "LoRA Model Accuracy:  0.9983922829581994\n",
      "Predicted Model Accuracy:  0.8971061093247589\n"
     ]
    },
    {
     "name": "stderr",
     "output_type": "stream",
     "text": [
      " 58%|█████▊    | 291/502 [03:36<01:35,  2.21it/s]"
     ]
    },
    {
     "name": "stdout",
     "output_type": "stream",
     "text": [
      "Accuracy Table for model 290:\n",
      "Base Model Accuracy:  0.47191011235955055\n",
      "LoRA Model Accuracy:  0.8786516853932584\n",
      "Predicted Model Accuracy:  0.5280898876404494\n"
     ]
    },
    {
     "name": "stderr",
     "output_type": "stream",
     "text": [
      " 58%|█████▊    | 292/502 [03:37<01:29,  2.35it/s]"
     ]
    },
    {
     "name": "stdout",
     "output_type": "stream",
     "text": [
      "Accuracy Table for model 291:\n",
      "Base Model Accuracy:  0.5303030303030303\n",
      "LoRA Model Accuracy:  0.6717171717171717\n",
      "Predicted Model Accuracy:  0.5429292929292929\n"
     ]
    },
    {
     "name": "stderr",
     "output_type": "stream",
     "text": [
      " 58%|█████▊    | 293/502 [03:37<01:41,  2.05it/s]"
     ]
    },
    {
     "name": "stdout",
     "output_type": "stream",
     "text": [
      "Accuracy Table for model 292:\n",
      "Base Model Accuracy:  0.023333333333333334\n",
      "LoRA Model Accuracy:  0.49833333333333335\n",
      "Predicted Model Accuracy:  0.49833333333333335\n"
     ]
    },
    {
     "name": "stderr",
     "output_type": "stream",
     "text": [
      " 59%|█████▊    | 294/502 [03:38<01:32,  2.24it/s]"
     ]
    },
    {
     "name": "stdout",
     "output_type": "stream",
     "text": [
      "Accuracy Table for model 293:\n",
      "Base Model Accuracy:  0.05\n",
      "LoRA Model Accuracy:  0.5033333333333333\n",
      "Predicted Model Accuracy:  0.4766666666666667\n"
     ]
    },
    {
     "name": "stderr",
     "output_type": "stream",
     "text": [
      " 59%|█████▉    | 295/502 [03:38<01:20,  2.57it/s]"
     ]
    },
    {
     "name": "stdout",
     "output_type": "stream",
     "text": [
      "Accuracy Table for model 294:\n",
      "Base Model Accuracy:  0.7341772151898734\n",
      "LoRA Model Accuracy:  1.0\n",
      "Predicted Model Accuracy:  0.9240506329113924\n"
     ]
    },
    {
     "name": "stderr",
     "output_type": "stream",
     "text": [
      " 59%|█████▉    | 296/502 [03:38<01:16,  2.68it/s]"
     ]
    },
    {
     "name": "stdout",
     "output_type": "stream",
     "text": [
      "Accuracy Table for model 295:\n",
      "Base Model Accuracy:  0.3227848101265823\n",
      "LoRA Model Accuracy:  0.8924050632911392\n",
      "Predicted Model Accuracy:  0.3987341772151899\n"
     ]
    },
    {
     "name": "stderr",
     "output_type": "stream",
     "text": [
      " 59%|█████▉    | 297/502 [03:39<01:29,  2.28it/s]"
     ]
    },
    {
     "name": "stdout",
     "output_type": "stream",
     "text": [
      "Accuracy Table for model 296:\n",
      "Base Model Accuracy:  0.018461538461538463\n",
      "LoRA Model Accuracy:  0.043076923076923075\n",
      "Predicted Model Accuracy:  0.026153846153846153\n"
     ]
    },
    {
     "name": "stderr",
     "output_type": "stream",
     "text": [
      " 59%|█████▉    | 298/502 [03:39<01:30,  2.25it/s]"
     ]
    },
    {
     "name": "stdout",
     "output_type": "stream",
     "text": [
      "Accuracy Table for model 297:\n",
      "Base Model Accuracy:  0.7015384615384616\n",
      "LoRA Model Accuracy:  0.98\n",
      "Predicted Model Accuracy:  0.8584615384615385\n"
     ]
    },
    {
     "name": "stderr",
     "output_type": "stream",
     "text": [
      " 60%|█████▉    | 299/502 [03:40<01:23,  2.43it/s]"
     ]
    },
    {
     "name": "stdout",
     "output_type": "stream",
     "text": [
      "Accuracy Table for model 298:\n",
      "Base Model Accuracy:  0.0\n",
      "LoRA Model Accuracy:  0.0\n",
      "Predicted Model Accuracy:  0.0\n"
     ]
    },
    {
     "name": "stderr",
     "output_type": "stream",
     "text": [
      " 60%|█████▉    | 300/502 [03:40<01:11,  2.81it/s]"
     ]
    },
    {
     "name": "stdout",
     "output_type": "stream",
     "text": [
      "Accuracy Table for model 299:\n",
      "Base Model Accuracy:  0.22666666666666666\n",
      "LoRA Model Accuracy:  0.9333333333333333\n",
      "Predicted Model Accuracy:  0.5466666666666666\n"
     ]
    },
    {
     "name": "stderr",
     "output_type": "stream",
     "text": [
      " 60%|█████▉    | 301/502 [03:40<01:04,  3.13it/s]"
     ]
    },
    {
     "name": "stdout",
     "output_type": "stream",
     "text": [
      "Accuracy Table for model 300:\n",
      "Base Model Accuracy:  0.06097560975609756\n",
      "LoRA Model Accuracy:  0.975609756097561\n",
      "Predicted Model Accuracy:  0.5121951219512195\n"
     ]
    },
    {
     "name": "stderr",
     "output_type": "stream",
     "text": [
      " 60%|██████    | 302/502 [03:40<01:02,  3.18it/s]"
     ]
    },
    {
     "name": "stdout",
     "output_type": "stream",
     "text": [
      "Accuracy Table for model 301:\n",
      "Base Model Accuracy:  0.06217616580310881\n",
      "LoRA Model Accuracy:  0.8549222797927462\n",
      "Predicted Model Accuracy:  0.5544041450777202\n"
     ]
    },
    {
     "name": "stderr",
     "output_type": "stream",
     "text": [
      " 60%|██████    | 303/502 [03:41<01:00,  3.31it/s]"
     ]
    },
    {
     "name": "stdout",
     "output_type": "stream",
     "text": [
      "Accuracy Table for model 302:\n",
      "Base Model Accuracy:  0.14423076923076922\n",
      "LoRA Model Accuracy:  0.8990384615384616\n",
      "Predicted Model Accuracy:  0.5384615384615384\n"
     ]
    },
    {
     "name": "stderr",
     "output_type": "stream",
     "text": [
      " 61%|██████    | 304/502 [03:41<00:55,  3.56it/s]"
     ]
    },
    {
     "name": "stdout",
     "output_type": "stream",
     "text": [
      "Accuracy Table for model 303:\n",
      "Base Model Accuracy:  0.07954545454545454\n",
      "LoRA Model Accuracy:  0.8522727272727273\n",
      "Predicted Model Accuracy:  0.48863636363636365\n"
     ]
    },
    {
     "name": "stderr",
     "output_type": "stream",
     "text": [
      " 61%|██████    | 305/502 [03:41<01:11,  2.76it/s]"
     ]
    },
    {
     "name": "stdout",
     "output_type": "stream",
     "text": [
      "Accuracy Table for model 304:\n",
      "Base Model Accuracy:  0.009375\n",
      "LoRA Model Accuracy:  0.934375\n",
      "Predicted Model Accuracy:  0.615625\n"
     ]
    },
    {
     "name": "stderr",
     "output_type": "stream",
     "text": [
      " 61%|██████    | 306/502 [03:42<01:19,  2.48it/s]"
     ]
    },
    {
     "name": "stdout",
     "output_type": "stream",
     "text": [
      "Accuracy Table for model 305:\n",
      "Base Model Accuracy:  0.4107692307692308\n",
      "LoRA Model Accuracy:  0.8861538461538462\n",
      "Predicted Model Accuracy:  0.7246153846153847\n"
     ]
    },
    {
     "name": "stderr",
     "output_type": "stream",
     "text": [
      " 61%|██████    | 307/502 [03:43<01:40,  1.94it/s]"
     ]
    },
    {
     "name": "stdout",
     "output_type": "stream",
     "text": [
      "Accuracy Table for model 306:\n",
      "Base Model Accuracy:  0.16537867078825347\n",
      "LoRA Model Accuracy:  0.8454404945904173\n",
      "Predicted Model Accuracy:  0.16383307573415765\n"
     ]
    },
    {
     "name": "stderr",
     "output_type": "stream",
     "text": [
      " 61%|██████▏   | 308/502 [03:44<02:17,  1.41it/s]"
     ]
    },
    {
     "name": "stdout",
     "output_type": "stream",
     "text": [
      "Accuracy Table for model 307:\n",
      "Base Model Accuracy:  0.047692307692307694\n",
      "LoRA Model Accuracy:  0.18769230769230769\n",
      "Predicted Model Accuracy:  0.06307692307692307\n"
     ]
    },
    {
     "name": "stderr",
     "output_type": "stream",
     "text": [
      " 62%|██████▏   | 310/502 [03:45<02:09,  1.49it/s]"
     ]
    },
    {
     "name": "stdout",
     "output_type": "stream",
     "text": [
      "Accuracy Table for model 309:\n",
      "Base Model Accuracy:  0.0\n",
      "LoRA Model Accuracy:  0.0\n",
      "Predicted Model Accuracy:  0.0\n"
     ]
    },
    {
     "name": "stderr",
     "output_type": "stream",
     "text": [
      " 62%|██████▏   | 311/502 [03:47<03:09,  1.01it/s]"
     ]
    },
    {
     "name": "stdout",
     "output_type": "stream",
     "text": [
      "Accuracy Table for model 310:\n",
      "Base Model Accuracy:  0.0\n",
      "LoRA Model Accuracy:  0.0\n",
      "Predicted Model Accuracy:  0.0\n"
     ]
    },
    {
     "name": "stderr",
     "output_type": "stream",
     "text": [
      " 62%|██████▏   | 312/502 [03:48<02:44,  1.15it/s]"
     ]
    },
    {
     "name": "stdout",
     "output_type": "stream",
     "text": [
      "Accuracy Table for model 311:\n",
      "Base Model Accuracy:  0.4646153846153846\n",
      "LoRA Model Accuracy:  0.9338461538461539\n",
      "Predicted Model Accuracy:  0.8092307692307692\n"
     ]
    },
    {
     "name": "stderr",
     "output_type": "stream",
     "text": [
      " 62%|██████▏   | 313/502 [03:48<02:27,  1.29it/s]"
     ]
    },
    {
     "name": "stdout",
     "output_type": "stream",
     "text": [
      "Accuracy Table for model 312:\n",
      "Base Model Accuracy:  0.17692307692307693\n",
      "LoRA Model Accuracy:  0.8969230769230769\n",
      "Predicted Model Accuracy:  0.4169230769230769\n"
     ]
    },
    {
     "name": "stderr",
     "output_type": "stream",
     "text": [
      " 63%|██████▎   | 314/502 [03:49<02:02,  1.53it/s]"
     ]
    },
    {
     "name": "stdout",
     "output_type": "stream",
     "text": [
      "Accuracy Table for model 313:\n",
      "Base Model Accuracy:  0.0\n",
      "LoRA Model Accuracy:  0.0\n",
      "Predicted Model Accuracy:  0.0\n"
     ]
    },
    {
     "name": "stderr",
     "output_type": "stream",
     "text": [
      " 63%|██████▎   | 315/502 [03:49<01:53,  1.64it/s]"
     ]
    },
    {
     "name": "stdout",
     "output_type": "stream",
     "text": [
      "Accuracy Table for model 314:\n",
      "Base Model Accuracy:  0.30923076923076925\n",
      "LoRA Model Accuracy:  0.9646153846153847\n",
      "Predicted Model Accuracy:  0.6476923076923077\n"
     ]
    },
    {
     "name": "stderr",
     "output_type": "stream",
     "text": [
      " 63%|██████▎   | 316/502 [03:50<01:49,  1.69it/s]"
     ]
    },
    {
     "name": "stdout",
     "output_type": "stream",
     "text": [
      "Accuracy Table for model 315:\n",
      "Base Model Accuracy:  0.31846153846153846\n",
      "LoRA Model Accuracy:  0.8184615384615385\n",
      "Predicted Model Accuracy:  0.35384615384615387\n"
     ]
    },
    {
     "name": "stderr",
     "output_type": "stream",
     "text": [
      " 63%|██████▎   | 317/502 [03:50<01:40,  1.84it/s]"
     ]
    },
    {
     "name": "stdout",
     "output_type": "stream",
     "text": [
      "Accuracy Table for model 316:\n",
      "Base Model Accuracy:  0.06167400881057269\n",
      "LoRA Model Accuracy:  0.13656387665198239\n",
      "Predicted Model Accuracy:  0.07488986784140969\n"
     ]
    },
    {
     "name": "stderr",
     "output_type": "stream",
     "text": [
      " 63%|██████▎   | 318/502 [03:50<01:30,  2.04it/s]"
     ]
    },
    {
     "name": "stdout",
     "output_type": "stream",
     "text": [
      "Accuracy Table for model 317:\n",
      "Base Model Accuracy:  0.0\n",
      "LoRA Model Accuracy:  0.0\n",
      "Predicted Model Accuracy:  0.0\n"
     ]
    },
    {
     "name": "stderr",
     "output_type": "stream",
     "text": [
      " 64%|██████▎   | 319/502 [03:51<01:31,  1.99it/s]"
     ]
    },
    {
     "name": "stdout",
     "output_type": "stream",
     "text": [
      "Accuracy Table for model 318:\n",
      "Base Model Accuracy:  0.34\n",
      "LoRA Model Accuracy:  0.5707692307692308\n",
      "Predicted Model Accuracy:  0.36153846153846153\n"
     ]
    },
    {
     "name": "stderr",
     "output_type": "stream",
     "text": [
      " 64%|██████▍   | 321/502 [03:51<01:06,  2.74it/s]"
     ]
    },
    {
     "name": "stdout",
     "output_type": "stream",
     "text": [
      "Accuracy Table for model 319:\n",
      "Base Model Accuracy:  0.07860262008733625\n",
      "LoRA Model Accuracy:  0.4978165938864629\n",
      "Predicted Model Accuracy:  0.4759825327510917\n",
      "Accuracy Table for model 320:\n",
      "Base Model Accuracy:  0.0\n",
      "LoRA Model Accuracy:  0.0\n",
      "Predicted Model Accuracy:  0.0\n"
     ]
    },
    {
     "name": "stderr",
     "output_type": "stream",
     "text": [
      " 64%|██████▍   | 322/502 [03:52<01:01,  2.94it/s]"
     ]
    },
    {
     "name": "stdout",
     "output_type": "stream",
     "text": [
      "Accuracy Table for model 321:\n",
      "Base Model Accuracy:  0.13333333333333333\n",
      "LoRA Model Accuracy:  0.9277777777777778\n",
      "Predicted Model Accuracy:  0.7666666666666667\n"
     ]
    },
    {
     "name": "stderr",
     "output_type": "stream",
     "text": [
      " 64%|██████▍   | 323/502 [03:52<01:10,  2.53it/s]"
     ]
    },
    {
     "name": "stdout",
     "output_type": "stream",
     "text": [
      "Accuracy Table for model 322:\n",
      "Base Model Accuracy:  0.4036979969183359\n",
      "LoRA Model Accuracy:  0.4345146379044684\n",
      "Predicted Model Accuracy:  0.4345146379044684\n"
     ]
    },
    {
     "name": "stderr",
     "output_type": "stream",
     "text": [
      " 65%|██████▍   | 324/502 [03:53<01:15,  2.37it/s]"
     ]
    },
    {
     "name": "stdout",
     "output_type": "stream",
     "text": [
      "Accuracy Table for model 323:\n",
      "Base Model Accuracy:  0.40765391014975044\n",
      "LoRA Model Accuracy:  0.9717138103161398\n",
      "Predicted Model Accuracy:  0.9317803660565723\n"
     ]
    },
    {
     "name": "stderr",
     "output_type": "stream",
     "text": [
      " 65%|██████▍   | 325/502 [03:54<01:54,  1.55it/s]"
     ]
    },
    {
     "name": "stdout",
     "output_type": "stream",
     "text": [
      "Accuracy Table for model 324:\n",
      "Base Model Accuracy:  0.0\n",
      "LoRA Model Accuracy:  0.0\n",
      "Predicted Model Accuracy:  0.0\n"
     ]
    },
    {
     "name": "stderr",
     "output_type": "stream",
     "text": [
      " 65%|██████▍   | 326/502 [03:54<01:46,  1.65it/s]"
     ]
    },
    {
     "name": "stdout",
     "output_type": "stream",
     "text": [
      "Accuracy Table for model 325:\n",
      "Base Model Accuracy:  0.043076923076923075\n",
      "LoRA Model Accuracy:  0.9553846153846154\n",
      "Predicted Model Accuracy:  0.7507692307692307\n"
     ]
    },
    {
     "name": "stderr",
     "output_type": "stream",
     "text": [
      " 65%|██████▌   | 327/502 [03:55<01:39,  1.76it/s]"
     ]
    },
    {
     "name": "stdout",
     "output_type": "stream",
     "text": [
      "Accuracy Table for model 326:\n",
      "Base Model Accuracy:  0.2110939907550077\n",
      "LoRA Model Accuracy:  0.9645608628659477\n",
      "Predicted Model Accuracy:  0.7164869029275809\n"
     ]
    },
    {
     "name": "stderr",
     "output_type": "stream",
     "text": [
      " 65%|██████▌   | 328/502 [03:55<01:35,  1.83it/s]"
     ]
    },
    {
     "name": "stdout",
     "output_type": "stream",
     "text": [
      "Accuracy Table for model 327:\n",
      "Base Model Accuracy:  0.2846153846153846\n",
      "LoRA Model Accuracy:  0.9553846153846154\n",
      "Predicted Model Accuracy:  0.64\n"
     ]
    },
    {
     "name": "stderr",
     "output_type": "stream",
     "text": [
      " 66%|██████▌   | 329/502 [03:56<01:27,  1.98it/s]"
     ]
    },
    {
     "name": "stdout",
     "output_type": "stream",
     "text": [
      "Accuracy Table for model 328:\n",
      "Base Model Accuracy:  0.0\n",
      "LoRA Model Accuracy:  0.0\n",
      "Predicted Model Accuracy:  0.0\n"
     ]
    },
    {
     "name": "stderr",
     "output_type": "stream",
     "text": [
      " 66%|██████▌   | 330/502 [03:57<01:45,  1.63it/s]"
     ]
    },
    {
     "name": "stdout",
     "output_type": "stream",
     "text": [
      "Accuracy Table for model 329:\n",
      "Base Model Accuracy:  0.0\n",
      "LoRA Model Accuracy:  0.0\n",
      "Predicted Model Accuracy:  0.0\n"
     ]
    },
    {
     "name": "stderr",
     "output_type": "stream",
     "text": [
      " 66%|██████▌   | 331/502 [03:58<02:02,  1.40it/s]"
     ]
    },
    {
     "name": "stdout",
     "output_type": "stream",
     "text": [
      "Accuracy Table for model 330:\n",
      "Base Model Accuracy:  0.0\n",
      "LoRA Model Accuracy:  0.0\n",
      "Predicted Model Accuracy:  0.0\n"
     ]
    },
    {
     "name": "stderr",
     "output_type": "stream",
     "text": [
      " 66%|██████▌   | 332/502 [03:59<02:19,  1.22it/s]"
     ]
    },
    {
     "name": "stdout",
     "output_type": "stream",
     "text": [
      "Accuracy Table for model 331:\n",
      "Base Model Accuracy:  0.0\n",
      "LoRA Model Accuracy:  0.0\n",
      "Predicted Model Accuracy:  0.0\n"
     ]
    },
    {
     "name": "stderr",
     "output_type": "stream",
     "text": [
      " 66%|██████▋   | 333/502 [03:59<01:53,  1.49it/s]"
     ]
    },
    {
     "name": "stdout",
     "output_type": "stream",
     "text": [
      "Accuracy Table for model 332:\n",
      "Base Model Accuracy:  0.21052631578947367\n",
      "LoRA Model Accuracy:  0.9511278195488722\n",
      "Predicted Model Accuracy:  0.518796992481203\n",
      "Accuracy Table for model 333:\n",
      "Base Model Accuracy:  0.30158730158730157\n",
      "LoRA Model Accuracy:  0.9841269841269841\n",
      "Predicted Model Accuracy:  0.5555555555555556\n"
     ]
    },
    {
     "name": "stderr",
     "output_type": "stream",
     "text": [
      " 67%|██████▋   | 335/502 [04:00<01:31,  1.82it/s]"
     ]
    },
    {
     "name": "stdout",
     "output_type": "stream",
     "text": [
      "Accuracy Table for model 334:\n",
      "Base Model Accuracy:  0.018656716417910446\n",
      "LoRA Model Accuracy:  0.16044776119402984\n",
      "Predicted Model Accuracy:  0.055970149253731345\n"
     ]
    },
    {
     "name": "stderr",
     "output_type": "stream",
     "text": [
      " 67%|██████▋   | 337/502 [04:00<01:07,  2.43it/s]"
     ]
    },
    {
     "name": "stdout",
     "output_type": "stream",
     "text": [
      "Accuracy Table for model 336:\n",
      "Base Model Accuracy:  0.050761421319796954\n",
      "LoRA Model Accuracy:  0.8003384094754653\n",
      "Predicted Model Accuracy:  0.5956006768189509\n"
     ]
    },
    {
     "name": "stderr",
     "output_type": "stream",
     "text": [
      " 67%|██████▋   | 338/502 [04:01<01:11,  2.30it/s]"
     ]
    },
    {
     "name": "stdout",
     "output_type": "stream",
     "text": [
      "Accuracy Table for model 337:\n",
      "Base Model Accuracy:  0.78\n",
      "LoRA Model Accuracy:  0.9707692307692307\n",
      "Predicted Model Accuracy:  0.9553846153846154\n"
     ]
    },
    {
     "name": "stderr",
     "output_type": "stream",
     "text": [
      " 68%|██████▊   | 339/502 [04:01<01:05,  2.50it/s]"
     ]
    },
    {
     "name": "stdout",
     "output_type": "stream",
     "text": [
      "Accuracy Table for model 338:\n",
      "Base Model Accuracy:  0.4263959390862944\n",
      "LoRA Model Accuracy:  0.9543147208121827\n",
      "Predicted Model Accuracy:  0.9441624365482234\n"
     ]
    },
    {
     "name": "stderr",
     "output_type": "stream",
     "text": [
      " 68%|██████▊   | 340/502 [04:02<01:17,  2.08it/s]"
     ]
    },
    {
     "name": "stdout",
     "output_type": "stream",
     "text": [
      "Accuracy Table for model 339:\n",
      "Base Model Accuracy:  0.14307692307692307\n",
      "LoRA Model Accuracy:  0.25846153846153846\n",
      "Predicted Model Accuracy:  0.15384615384615385\n",
      "Accuracy Table for model 340:\n",
      "Base Model Accuracy:  0.0\n",
      "LoRA Model Accuracy:  0.0\n",
      "Predicted Model Accuracy:  0.0\n"
     ]
    },
    {
     "name": "stderr",
     "output_type": "stream",
     "text": [
      " 68%|██████▊   | 342/502 [04:02<00:54,  2.92it/s]"
     ]
    },
    {
     "name": "stdout",
     "output_type": "stream",
     "text": [
      "Accuracy Table for model 341:\n",
      "Base Model Accuracy:  0.2\n",
      "LoRA Model Accuracy:  0.2\n",
      "Predicted Model Accuracy:  0.2\n"
     ]
    },
    {
     "name": "stderr",
     "output_type": "stream",
     "text": [
      " 68%|██████▊   | 343/502 [04:03<01:02,  2.54it/s]"
     ]
    },
    {
     "name": "stdout",
     "output_type": "stream",
     "text": [
      "Accuracy Table for model 342:\n",
      "Base Model Accuracy:  0.25697211155378485\n",
      "LoRA Model Accuracy:  0.9760956175298805\n",
      "Predicted Model Accuracy:  0.9402390438247012\n"
     ]
    },
    {
     "name": "stderr",
     "output_type": "stream",
     "text": [
      " 69%|██████▊   | 344/502 [04:03<01:11,  2.22it/s]"
     ]
    },
    {
     "name": "stdout",
     "output_type": "stream",
     "text": [
      "Accuracy Table for model 343:\n",
      "Base Model Accuracy:  0.17076923076923076\n",
      "LoRA Model Accuracy:  0.9538461538461539\n",
      "Predicted Model Accuracy:  0.39076923076923076\n"
     ]
    },
    {
     "name": "stderr",
     "output_type": "stream",
     "text": [
      " 69%|██████▊   | 345/502 [04:04<01:24,  1.86it/s]"
     ]
    },
    {
     "name": "stdout",
     "output_type": "stream",
     "text": [
      "Accuracy Table for model 344:\n",
      "Base Model Accuracy:  0.07230769230769231\n",
      "LoRA Model Accuracy:  0.11692307692307692\n",
      "Predicted Model Accuracy:  0.10461538461538461\n"
     ]
    },
    {
     "name": "stderr",
     "output_type": "stream",
     "text": [
      " 69%|██████▉   | 346/502 [04:05<01:28,  1.77it/s]"
     ]
    },
    {
     "name": "stdout",
     "output_type": "stream",
     "text": [
      "Accuracy Table for model 345:\n",
      "Base Model Accuracy:  0.1523076923076923\n",
      "LoRA Model Accuracy:  0.5061538461538462\n",
      "Predicted Model Accuracy:  0.13692307692307693\n"
     ]
    },
    {
     "name": "stderr",
     "output_type": "stream",
     "text": [
      " 69%|██████▉   | 347/502 [04:05<01:28,  1.75it/s]"
     ]
    },
    {
     "name": "stdout",
     "output_type": "stream",
     "text": [
      "Accuracy Table for model 346:\n",
      "Base Model Accuracy:  0.18153846153846154\n",
      "LoRA Model Accuracy:  0.9984615384615385\n",
      "Predicted Model Accuracy:  0.15076923076923077\n"
     ]
    },
    {
     "name": "stderr",
     "output_type": "stream",
     "text": [
      " 69%|██████▉   | 348/502 [04:06<01:28,  1.74it/s]"
     ]
    },
    {
     "name": "stdout",
     "output_type": "stream",
     "text": [
      "Accuracy Table for model 347:\n",
      "Base Model Accuracy:  0.2123076923076923\n",
      "LoRA Model Accuracy:  1.0\n",
      "Predicted Model Accuracy:  0.27384615384615385\n"
     ]
    },
    {
     "name": "stderr",
     "output_type": "stream",
     "text": [
      " 70%|██████▉   | 349/502 [04:07<01:49,  1.39it/s]"
     ]
    },
    {
     "name": "stdout",
     "output_type": "stream",
     "text": [
      "Accuracy Table for model 348:\n",
      "Base Model Accuracy:  0.07538461538461538\n",
      "LoRA Model Accuracy:  0.21384615384615385\n",
      "Predicted Model Accuracy:  0.08461538461538462\n"
     ]
    },
    {
     "name": "stderr",
     "output_type": "stream",
     "text": [
      " 70%|██████▉   | 350/502 [04:09<03:14,  1.28s/it]"
     ]
    },
    {
     "name": "stdout",
     "output_type": "stream",
     "text": [
      "Accuracy Table for model 349:\n",
      "Base Model Accuracy:  0.021538461538461538\n",
      "LoRA Model Accuracy:  0.03538461538461538\n",
      "Predicted Model Accuracy:  0.007692307692307693\n"
     ]
    },
    {
     "name": "stderr",
     "output_type": "stream",
     "text": [
      " 70%|██████▉   | 351/502 [04:10<02:25,  1.04it/s]"
     ]
    },
    {
     "name": "stdout",
     "output_type": "stream",
     "text": [
      "Accuracy Table for model 350:\n",
      "Base Model Accuracy:  0.11764705882352941\n",
      "LoRA Model Accuracy:  0.7058823529411765\n",
      "Predicted Model Accuracy:  0.47058823529411764\n"
     ]
    },
    {
     "name": "stderr",
     "output_type": "stream",
     "text": [
      " 70%|███████   | 352/502 [04:10<02:04,  1.21it/s]"
     ]
    },
    {
     "name": "stdout",
     "output_type": "stream",
     "text": [
      "Accuracy Table for model 351:\n",
      "Base Model Accuracy:  0.023076923076923078\n",
      "LoRA Model Accuracy:  0.7830769230769231\n",
      "Predicted Model Accuracy:  0.6107692307692307\n"
     ]
    },
    {
     "name": "stderr",
     "output_type": "stream",
     "text": [
      " 70%|███████   | 353/502 [04:11<01:48,  1.38it/s]"
     ]
    },
    {
     "name": "stdout",
     "output_type": "stream",
     "text": [
      "Accuracy Table for model 352:\n",
      "Base Model Accuracy:  0.036923076923076927\n",
      "LoRA Model Accuracy:  0.8076923076923077\n",
      "Predicted Model Accuracy:  0.5030769230769231\n"
     ]
    },
    {
     "name": "stderr",
     "output_type": "stream",
     "text": [
      " 71%|███████   | 354/502 [04:11<01:37,  1.52it/s]"
     ]
    },
    {
     "name": "stdout",
     "output_type": "stream",
     "text": [
      "Accuracy Table for model 353:\n",
      "Base Model Accuracy:  0.15432098765432098\n",
      "LoRA Model Accuracy:  0.8935185185185185\n",
      "Predicted Model Accuracy:  0.6790123456790124\n"
     ]
    },
    {
     "name": "stderr",
     "output_type": "stream",
     "text": [
      " 71%|███████   | 355/502 [04:12<01:30,  1.62it/s]"
     ]
    },
    {
     "name": "stdout",
     "output_type": "stream",
     "text": [
      "Accuracy Table for model 354:\n",
      "Base Model Accuracy:  0.1476923076923077\n",
      "LoRA Model Accuracy:  0.7861538461538462\n",
      "Predicted Model Accuracy:  0.52\n"
     ]
    },
    {
     "name": "stderr",
     "output_type": "stream",
     "text": [
      " 71%|███████   | 356/502 [04:12<01:14,  1.97it/s]"
     ]
    },
    {
     "name": "stdout",
     "output_type": "stream",
     "text": [
      "Accuracy Table for model 355:\n",
      "Base Model Accuracy:  0.0\n",
      "LoRA Model Accuracy:  0.0\n",
      "Predicted Model Accuracy:  0.0\n"
     ]
    },
    {
     "name": "stderr",
     "output_type": "stream",
     "text": [
      " 71%|███████   | 357/502 [04:12<01:03,  2.27it/s]"
     ]
    },
    {
     "name": "stdout",
     "output_type": "stream",
     "text": [
      "Accuracy Table for model 356:\n",
      "Base Model Accuracy:  0.51\n",
      "LoRA Model Accuracy:  0.83\n",
      "Predicted Model Accuracy:  0.63\n"
     ]
    },
    {
     "name": "stderr",
     "output_type": "stream",
     "text": [
      " 71%|███████▏  | 358/502 [04:12<00:55,  2.60it/s]"
     ]
    },
    {
     "name": "stdout",
     "output_type": "stream",
     "text": [
      "Accuracy Table for model 357:\n",
      "Base Model Accuracy:  0.01\n",
      "LoRA Model Accuracy:  0.11\n",
      "Predicted Model Accuracy:  0.05\n"
     ]
    },
    {
     "name": "stderr",
     "output_type": "stream",
     "text": [
      " 72%|███████▏  | 359/502 [04:13<00:56,  2.54it/s]"
     ]
    },
    {
     "name": "stdout",
     "output_type": "stream",
     "text": [
      "Accuracy Table for model 358:\n",
      "Base Model Accuracy:  0.0\n",
      "LoRA Model Accuracy:  0.0\n",
      "Predicted Model Accuracy:  0.0\n"
     ]
    },
    {
     "name": "stderr",
     "output_type": "stream",
     "text": [
      " 72%|███████▏  | 360/502 [04:13<00:59,  2.38it/s]"
     ]
    },
    {
     "name": "stdout",
     "output_type": "stream",
     "text": [
      "Accuracy Table for model 359:\n",
      "Base Model Accuracy:  0.11678832116788321\n",
      "LoRA Model Accuracy:  0.8704379562043796\n",
      "Predicted Model Accuracy:  0.7572992700729927\n"
     ]
    },
    {
     "name": "stderr",
     "output_type": "stream",
     "text": [
      " 72%|███████▏  | 361/502 [04:14<01:13,  1.92it/s]"
     ]
    },
    {
     "name": "stdout",
     "output_type": "stream",
     "text": [
      "Accuracy Table for model 360:\n",
      "Base Model Accuracy:  0.0\n",
      "LoRA Model Accuracy:  0.0\n",
      "Predicted Model Accuracy:  0.0\n"
     ]
    },
    {
     "name": "stderr",
     "output_type": "stream",
     "text": [
      " 72%|███████▏  | 362/502 [04:15<01:19,  1.76it/s]"
     ]
    },
    {
     "name": "stdout",
     "output_type": "stream",
     "text": [
      "Accuracy Table for model 361:\n",
      "Base Model Accuracy:  0.0\n",
      "LoRA Model Accuracy:  0.0\n",
      "Predicted Model Accuracy:  0.0\n"
     ]
    },
    {
     "name": "stderr",
     "output_type": "stream",
     "text": [
      " 72%|███████▏  | 363/502 [04:15<01:14,  1.86it/s]"
     ]
    },
    {
     "name": "stdout",
     "output_type": "stream",
     "text": [
      "Accuracy Table for model 362:\n",
      "Base Model Accuracy:  0.5980066445182725\n",
      "LoRA Model Accuracy:  0.9933554817275747\n",
      "Predicted Model Accuracy:  0.7009966777408638\n"
     ]
    },
    {
     "name": "stderr",
     "output_type": "stream",
     "text": [
      " 73%|███████▎  | 364/502 [04:16<01:13,  1.88it/s]"
     ]
    },
    {
     "name": "stdout",
     "output_type": "stream",
     "text": [
      "Accuracy Table for model 363:\n",
      "Base Model Accuracy:  0.08153846153846153\n",
      "LoRA Model Accuracy:  0.4969230769230769\n",
      "Predicted Model Accuracy:  0.44461538461538463\n"
     ]
    },
    {
     "name": "stderr",
     "output_type": "stream",
     "text": [
      " 73%|███████▎  | 365/502 [04:16<01:13,  1.87it/s]"
     ]
    },
    {
     "name": "stdout",
     "output_type": "stream",
     "text": [
      "Accuracy Table for model 364:\n",
      "Base Model Accuracy:  0.3676923076923077\n",
      "LoRA Model Accuracy:  0.7953846153846154\n",
      "Predicted Model Accuracy:  0.6030769230769231\n"
     ]
    },
    {
     "name": "stderr",
     "output_type": "stream",
     "text": [
      " 73%|███████▎  | 366/502 [04:17<01:21,  1.67it/s]"
     ]
    },
    {
     "name": "stdout",
     "output_type": "stream",
     "text": [
      "Accuracy Table for model 365:\n",
      "Base Model Accuracy:  0.04461538461538461\n",
      "LoRA Model Accuracy:  0.11384615384615385\n",
      "Predicted Model Accuracy:  0.06769230769230769\n"
     ]
    },
    {
     "name": "stderr",
     "output_type": "stream",
     "text": [
      " 73%|███████▎  | 367/502 [04:18<01:17,  1.73it/s]"
     ]
    },
    {
     "name": "stdout",
     "output_type": "stream",
     "text": [
      "Accuracy Table for model 366:\n",
      "Base Model Accuracy:  0.4596375617792422\n",
      "LoRA Model Accuracy:  0.9588138385502472\n",
      "Predicted Model Accuracy:  0.5782537067545305\n"
     ]
    },
    {
     "name": "stderr",
     "output_type": "stream",
     "text": [
      " 73%|███████▎  | 368/502 [04:18<01:16,  1.76it/s]"
     ]
    },
    {
     "name": "stdout",
     "output_type": "stream",
     "text": [
      "Accuracy Table for model 367:\n",
      "Base Model Accuracy:  0.33444816053511706\n",
      "LoRA Model Accuracy:  0.9515050167224081\n",
      "Predicted Model Accuracy:  0.3879598662207358\n"
     ]
    },
    {
     "name": "stderr",
     "output_type": "stream",
     "text": [
      " 74%|███████▎  | 369/502 [04:18<01:03,  2.08it/s]"
     ]
    },
    {
     "name": "stdout",
     "output_type": "stream",
     "text": [
      "Accuracy Table for model 368:\n",
      "Base Model Accuracy:  0.0967741935483871\n",
      "LoRA Model Accuracy:  0.7096774193548387\n",
      "Predicted Model Accuracy:  0.26881720430107525\n"
     ]
    },
    {
     "name": "stderr",
     "output_type": "stream",
     "text": [
      " 74%|███████▎  | 370/502 [04:19<01:03,  2.09it/s]"
     ]
    },
    {
     "name": "stdout",
     "output_type": "stream",
     "text": [
      "Accuracy Table for model 369:\n",
      "Base Model Accuracy:  0.4207221350078493\n",
      "LoRA Model Accuracy:  0.9638932496075353\n",
      "Predicted Model Accuracy:  0.957613814756672\n"
     ]
    },
    {
     "name": "stderr",
     "output_type": "stream",
     "text": [
      " 74%|███████▍  | 371/502 [04:19<01:05,  2.01it/s]"
     ]
    },
    {
     "name": "stdout",
     "output_type": "stream",
     "text": [
      "Accuracy Table for model 370:\n",
      "Base Model Accuracy:  0.38461538461538464\n",
      "LoRA Model Accuracy:  0.7738461538461539\n",
      "Predicted Model Accuracy:  0.6153846153846154\n"
     ]
    },
    {
     "name": "stderr",
     "output_type": "stream",
     "text": [
      " 74%|███████▍  | 372/502 [04:20<01:06,  1.96it/s]"
     ]
    },
    {
     "name": "stdout",
     "output_type": "stream",
     "text": [
      "Accuracy Table for model 371:\n",
      "Base Model Accuracy:  0.13125\n",
      "LoRA Model Accuracy:  0.8453125\n",
      "Predicted Model Accuracy:  0.69375\n"
     ]
    },
    {
     "name": "stderr",
     "output_type": "stream",
     "text": [
      " 74%|███████▍  | 373/502 [04:21<01:37,  1.32it/s]"
     ]
    },
    {
     "name": "stdout",
     "output_type": "stream",
     "text": [
      "Accuracy Table for model 372:\n",
      "Base Model Accuracy:  0.0\n",
      "LoRA Model Accuracy:  0.0\n",
      "Predicted Model Accuracy:  0.0\n"
     ]
    },
    {
     "name": "stderr",
     "output_type": "stream",
     "text": [
      " 75%|███████▍  | 374/502 [04:22<01:47,  1.19it/s]"
     ]
    },
    {
     "name": "stdout",
     "output_type": "stream",
     "text": [
      "Accuracy Table for model 373:\n",
      "Base Model Accuracy:  0.0\n",
      "LoRA Model Accuracy:  0.0\n",
      "Predicted Model Accuracy:  0.0\n"
     ]
    },
    {
     "name": "stderr",
     "output_type": "stream",
     "text": [
      " 75%|███████▍  | 375/502 [04:23<01:43,  1.23it/s]"
     ]
    },
    {
     "name": "stdout",
     "output_type": "stream",
     "text": [
      "Accuracy Table for model 374:\n",
      "Base Model Accuracy:  0.0\n",
      "LoRA Model Accuracy:  0.0\n",
      "Predicted Model Accuracy:  0.0\n"
     ]
    },
    {
     "name": "stderr",
     "output_type": "stream",
     "text": [
      " 75%|███████▍  | 376/502 [04:24<01:56,  1.08it/s]"
     ]
    },
    {
     "name": "stdout",
     "output_type": "stream",
     "text": [
      "Accuracy Table for model 375:\n",
      "Base Model Accuracy:  0.20615384615384616\n",
      "LoRA Model Accuracy:  0.9723076923076923\n",
      "Predicted Model Accuracy:  0.3984615384615385\n"
     ]
    },
    {
     "name": "stderr",
     "output_type": "stream",
     "text": [
      " 75%|███████▌  | 377/502 [04:27<03:15,  1.56s/it]"
     ]
    },
    {
     "name": "stdout",
     "output_type": "stream",
     "text": [
      "Accuracy Table for model 376:\n",
      "Base Model Accuracy:  0.012307692307692308\n",
      "LoRA Model Accuracy:  0.06923076923076923\n",
      "Predicted Model Accuracy:  0.038461538461538464\n"
     ]
    },
    {
     "name": "stderr",
     "output_type": "stream",
     "text": [
      " 75%|███████▌  | 378/502 [04:28<02:25,  1.17s/it]"
     ]
    },
    {
     "name": "stdout",
     "output_type": "stream",
     "text": [
      "Accuracy Table for model 377:\n",
      "Base Model Accuracy:  0.21264367816091953\n",
      "LoRA Model Accuracy:  0.7528735632183908\n",
      "Predicted Model Accuracy:  0.6206896551724138\n"
     ]
    },
    {
     "name": "stderr",
     "output_type": "stream",
     "text": [
      " 75%|███████▌  | 379/502 [04:28<01:53,  1.09it/s]"
     ]
    },
    {
     "name": "stdout",
     "output_type": "stream",
     "text": [
      "Accuracy Table for model 378:\n",
      "Base Model Accuracy:  0.08813559322033898\n",
      "LoRA Model Accuracy:  0.7389830508474576\n",
      "Predicted Model Accuracy:  0.576271186440678\n"
     ]
    },
    {
     "name": "stderr",
     "output_type": "stream",
     "text": [
      " 76%|███████▌  | 380/502 [04:29<01:52,  1.09it/s]"
     ]
    },
    {
     "name": "stdout",
     "output_type": "stream",
     "text": [
      "Accuracy Table for model 379:\n",
      "Base Model Accuracy:  0.0\n",
      "LoRA Model Accuracy:  0.0\n",
      "Predicted Model Accuracy:  0.0\n"
     ]
    },
    {
     "name": "stderr",
     "output_type": "stream",
     "text": [
      " 76%|███████▌  | 381/502 [04:32<03:22,  1.67s/it]"
     ]
    },
    {
     "name": "stdout",
     "output_type": "stream",
     "text": [
      "Accuracy Table for model 380:\n",
      "Base Model Accuracy:  0.12153846153846154\n",
      "LoRA Model Accuracy:  0.21076923076923076\n",
      "Predicted Model Accuracy:  0.13538461538461538\n"
     ]
    },
    {
     "name": "stderr",
     "output_type": "stream",
     "text": [
      " 76%|███████▌  | 382/502 [04:33<02:38,  1.32s/it]"
     ]
    },
    {
     "name": "stdout",
     "output_type": "stream",
     "text": [
      "Accuracy Table for model 381:\n",
      "Base Model Accuracy:  0.0\n",
      "LoRA Model Accuracy:  0.6892307692307692\n",
      "Predicted Model Accuracy:  0.6692307692307692\n"
     ]
    },
    {
     "name": "stderr",
     "output_type": "stream",
     "text": [
      " 76%|███████▋  | 383/502 [04:33<02:09,  1.09s/it]"
     ]
    },
    {
     "name": "stdout",
     "output_type": "stream",
     "text": [
      "Accuracy Table for model 382:\n",
      "Base Model Accuracy:  0.1676923076923077\n",
      "LoRA Model Accuracy:  0.46\n",
      "Predicted Model Accuracy:  0.20153846153846153\n"
     ]
    },
    {
     "name": "stderr",
     "output_type": "stream",
     "text": [
      " 76%|███████▋  | 384/502 [04:34<02:05,  1.06s/it]"
     ]
    },
    {
     "name": "stdout",
     "output_type": "stream",
     "text": [
      "Accuracy Table for model 383:\n",
      "Base Model Accuracy:  0.0\n",
      "LoRA Model Accuracy:  0.0\n",
      "Predicted Model Accuracy:  0.0\n"
     ]
    },
    {
     "name": "stderr",
     "output_type": "stream",
     "text": [
      " 77%|███████▋  | 385/502 [04:35<01:38,  1.19it/s]"
     ]
    },
    {
     "name": "stdout",
     "output_type": "stream",
     "text": [
      "Accuracy Table for model 384:\n",
      "Base Model Accuracy:  0.0\n",
      "LoRA Model Accuracy:  0.0\n",
      "Predicted Model Accuracy:  0.007936507936507936\n"
     ]
    },
    {
     "name": "stderr",
     "output_type": "stream",
     "text": [
      " 77%|███████▋  | 387/502 [04:35<01:01,  1.86it/s]"
     ]
    },
    {
     "name": "stdout",
     "output_type": "stream",
     "text": [
      "Accuracy Table for model 385:\n",
      "Base Model Accuracy:  0.0\n",
      "LoRA Model Accuracy:  0.015748031496062992\n",
      "Predicted Model Accuracy:  0.0\n",
      "Accuracy Table for model 386:\n",
      "Base Model Accuracy:  0.0\n",
      "LoRA Model Accuracy:  0.4666666666666667\n",
      "Predicted Model Accuracy:  0.2\n"
     ]
    },
    {
     "name": "stderr",
     "output_type": "stream",
     "text": [
      " 77%|███████▋  | 389/502 [04:36<00:42,  2.69it/s]"
     ]
    },
    {
     "name": "stdout",
     "output_type": "stream",
     "text": [
      "Accuracy Table for model 387:\n",
      "Base Model Accuracy:  0.0\n",
      "LoRA Model Accuracy:  0.0\n",
      "Predicted Model Accuracy:  0.0\n",
      "Accuracy Table for model 388:\n",
      "Base Model Accuracy:  0.0\n",
      "LoRA Model Accuracy:  0.0\n",
      "Predicted Model Accuracy:  0.0\n"
     ]
    },
    {
     "name": "stderr",
     "output_type": "stream",
     "text": [
      " 78%|███████▊  | 390/502 [04:36<00:41,  2.70it/s]"
     ]
    },
    {
     "name": "stdout",
     "output_type": "stream",
     "text": [
      "Accuracy Table for model 389:\n",
      "Base Model Accuracy:  0.43666666666666665\n",
      "LoRA Model Accuracy:  0.9866666666666667\n",
      "Predicted Model Accuracy:  0.5033333333333333\n"
     ]
    },
    {
     "name": "stderr",
     "output_type": "stream",
     "text": [
      " 78%|███████▊  | 391/502 [04:36<00:36,  3.05it/s]"
     ]
    },
    {
     "name": "stdout",
     "output_type": "stream",
     "text": [
      "Accuracy Table for model 390:\n",
      "Base Model Accuracy:  0.98\n",
      "LoRA Model Accuracy:  1.0\n",
      "Predicted Model Accuracy:  1.0\n"
     ]
    },
    {
     "name": "stderr",
     "output_type": "stream",
     "text": [
      " 78%|███████▊  | 392/502 [04:36<00:34,  3.22it/s]"
     ]
    },
    {
     "name": "stdout",
     "output_type": "stream",
     "text": [
      "Accuracy Table for model 391:\n",
      "Base Model Accuracy:  0.865\n",
      "LoRA Model Accuracy:  1.0\n",
      "Predicted Model Accuracy:  0.845\n"
     ]
    },
    {
     "name": "stderr",
     "output_type": "stream",
     "text": [
      " 78%|███████▊  | 393/502 [04:37<00:35,  3.05it/s]"
     ]
    },
    {
     "name": "stdout",
     "output_type": "stream",
     "text": [
      "Accuracy Table for model 392:\n",
      "Base Model Accuracy:  0.8448979591836735\n",
      "LoRA Model Accuracy:  0.9979591836734694\n",
      "Predicted Model Accuracy:  0.9387755102040817\n"
     ]
    },
    {
     "name": "stderr",
     "output_type": "stream",
     "text": [
      " 78%|███████▊  | 394/502 [04:38<00:52,  2.05it/s]"
     ]
    },
    {
     "name": "stdout",
     "output_type": "stream",
     "text": [
      "Accuracy Table for model 393:\n",
      "Base Model Accuracy:  0.08615384615384615\n",
      "LoRA Model Accuracy:  0.19384615384615383\n",
      "Predicted Model Accuracy:  0.1076923076923077\n"
     ]
    },
    {
     "name": "stderr",
     "output_type": "stream",
     "text": [
      " 79%|███████▊  | 395/502 [04:38<00:59,  1.80it/s]"
     ]
    },
    {
     "name": "stdout",
     "output_type": "stream",
     "text": [
      "Accuracy Table for model 394:\n",
      "Base Model Accuracy:  0.0724191063174114\n",
      "LoRA Model Accuracy:  0.24499229583975346\n",
      "Predicted Model Accuracy:  0.08782742681047766\n"
     ]
    },
    {
     "name": "stderr",
     "output_type": "stream",
     "text": [
      " 79%|███████▉  | 396/502 [04:39<00:55,  1.92it/s]"
     ]
    },
    {
     "name": "stdout",
     "output_type": "stream",
     "text": [
      "Accuracy Table for model 395:\n",
      "Base Model Accuracy:  0.0\n",
      "LoRA Model Accuracy:  0.0\n",
      "Predicted Model Accuracy:  0.0\n",
      "Accuracy Table for model 396:\n",
      "Base Model Accuracy:  0.1\n",
      "LoRA Model Accuracy:  0.3\n",
      "Predicted Model Accuracy:  0.4\n"
     ]
    },
    {
     "name": "stderr",
     "output_type": "stream",
     "text": [
      " 79%|███████▉  | 399/502 [04:39<00:32,  3.20it/s]"
     ]
    },
    {
     "name": "stdout",
     "output_type": "stream",
     "text": [
      "Accuracy Table for model 397:\n",
      "Base Model Accuracy:  0.7\n",
      "LoRA Model Accuracy:  0.75\n",
      "Predicted Model Accuracy:  0.3\n",
      "Accuracy Table for model 398:\n",
      "Base Model Accuracy:  0.0\n",
      "LoRA Model Accuracy:  0.9\n",
      "Predicted Model Accuracy:  0.6\n"
     ]
    },
    {
     "name": "stderr",
     "output_type": "stream",
     "text": [
      " 80%|███████▉  | 400/502 [04:40<00:31,  3.26it/s]"
     ]
    },
    {
     "name": "stdout",
     "output_type": "stream",
     "text": [
      "Accuracy Table for model 399:\n",
      "Base Model Accuracy:  0.09\n",
      "LoRA Model Accuracy:  0.295\n",
      "Predicted Model Accuracy:  0.095\n"
     ]
    },
    {
     "name": "stderr",
     "output_type": "stream",
     "text": [
      " 80%|███████▉  | 401/502 [04:40<00:28,  3.60it/s]"
     ]
    },
    {
     "name": "stdout",
     "output_type": "stream",
     "text": [
      "Accuracy Table for model 400:\n",
      "Base Model Accuracy:  0.27586206896551724\n",
      "LoRA Model Accuracy:  0.3103448275862069\n",
      "Predicted Model Accuracy:  0.1724137931034483\n",
      "Accuracy Table for model 401:\n",
      "Base Model Accuracy:  0.08333333333333333\n",
      "LoRA Model Accuracy:  0.25\n",
      "Predicted Model Accuracy:  0.4166666666666667\n"
     ]
    },
    {
     "name": "stderr",
     "output_type": "stream",
     "text": [
      " 80%|████████  | 403/502 [04:40<00:23,  4.21it/s]"
     ]
    },
    {
     "name": "stdout",
     "output_type": "stream",
     "text": [
      "Accuracy Table for model 402:\n",
      "Base Model Accuracy:  0.5882352941176471\n",
      "LoRA Model Accuracy:  0.7058823529411765\n",
      "Predicted Model Accuracy:  0.6470588235294118\n",
      "Accuracy Table for model 403:\n",
      "Base Model Accuracy:  0.6\n",
      "LoRA Model Accuracy:  0.6\n",
      "Predicted Model Accuracy:  0.7\n"
     ]
    },
    {
     "name": "stderr",
     "output_type": "stream",
     "text": [
      " 81%|████████  | 405/502 [04:41<00:40,  2.40it/s]"
     ]
    },
    {
     "name": "stdout",
     "output_type": "stream",
     "text": [
      "Accuracy Table for model 404:\n",
      "Base Model Accuracy:  0.0\n",
      "LoRA Model Accuracy:  0.0\n",
      "Predicted Model Accuracy:  0.0\n"
     ]
    },
    {
     "name": "stderr",
     "output_type": "stream",
     "text": [
      " 81%|████████  | 406/502 [04:42<00:51,  1.88it/s]"
     ]
    },
    {
     "name": "stdout",
     "output_type": "stream",
     "text": [
      "Accuracy Table for model 405:\n",
      "Base Model Accuracy:  0.0\n",
      "LoRA Model Accuracy:  0.0\n",
      "Predicted Model Accuracy:  0.0\n"
     ]
    },
    {
     "name": "stderr",
     "output_type": "stream",
     "text": [
      " 81%|████████  | 407/502 [04:43<00:52,  1.81it/s]"
     ]
    },
    {
     "name": "stdout",
     "output_type": "stream",
     "text": [
      "Accuracy Table for model 406:\n",
      "Base Model Accuracy:  0.05846153846153846\n",
      "LoRA Model Accuracy:  0.6107692307692307\n",
      "Predicted Model Accuracy:  0.09846153846153846\n"
     ]
    },
    {
     "name": "stderr",
     "output_type": "stream",
     "text": [
      " 81%|████████▏ | 408/502 [04:43<00:53,  1.77it/s]"
     ]
    },
    {
     "name": "stdout",
     "output_type": "stream",
     "text": [
      "Accuracy Table for model 407:\n",
      "Base Model Accuracy:  0.0\n",
      "LoRA Model Accuracy:  0.0\n",
      "Predicted Model Accuracy:  0.0\n"
     ]
    },
    {
     "name": "stderr",
     "output_type": "stream",
     "text": [
      " 81%|████████▏ | 409/502 [04:44<00:50,  1.85it/s]"
     ]
    },
    {
     "name": "stdout",
     "output_type": "stream",
     "text": [
      "Accuracy Table for model 408:\n",
      "Base Model Accuracy:  0.0\n",
      "LoRA Model Accuracy:  0.0\n",
      "Predicted Model Accuracy:  0.0\n"
     ]
    },
    {
     "name": "stderr",
     "output_type": "stream",
     "text": [
      " 82%|████████▏ | 410/502 [04:44<00:46,  1.99it/s]"
     ]
    },
    {
     "name": "stdout",
     "output_type": "stream",
     "text": [
      "Accuracy Table for model 409:\n",
      "Base Model Accuracy:  0.0\n",
      "LoRA Model Accuracy:  0.0\n",
      "Predicted Model Accuracy:  0.0\n"
     ]
    },
    {
     "name": "stderr",
     "output_type": "stream",
     "text": [
      " 82%|████████▏ | 411/502 [04:45<00:41,  2.18it/s]"
     ]
    },
    {
     "name": "stdout",
     "output_type": "stream",
     "text": [
      "Accuracy Table for model 410:\n",
      "Base Model Accuracy:  0.03896103896103896\n",
      "LoRA Model Accuracy:  0.11363636363636363\n",
      "Predicted Model Accuracy:  0.06493506493506493\n",
      "Accuracy Table for model 411:\n",
      "Base Model Accuracy:  0.5\n",
      "LoRA Model Accuracy:  0.6666666666666666\n",
      "Predicted Model Accuracy:  0.5\n"
     ]
    },
    {
     "name": "stderr",
     "output_type": "stream",
     "text": [
      " 82%|████████▏ | 413/502 [04:45<00:29,  3.02it/s]"
     ]
    },
    {
     "name": "stdout",
     "output_type": "stream",
     "text": [
      "Accuracy Table for model 412:\n",
      "Base Model Accuracy:  0.29411764705882354\n",
      "LoRA Model Accuracy:  0.8235294117647058\n",
      "Predicted Model Accuracy:  0.7647058823529411\n",
      "Accuracy Table for model 413:\n",
      "Base Model Accuracy:  0.18181818181818182\n",
      "LoRA Model Accuracy:  0.7272727272727273\n",
      "Predicted Model Accuracy:  0.5454545454545454\n"
     ]
    },
    {
     "name": "stderr",
     "output_type": "stream",
     "text": [
      " 83%|████████▎ | 415/502 [04:45<00:23,  3.71it/s]"
     ]
    },
    {
     "name": "stdout",
     "output_type": "stream",
     "text": [
      "Accuracy Table for model 414:\n",
      "Base Model Accuracy:  0.16666666666666666\n",
      "LoRA Model Accuracy:  0.25\n",
      "Predicted Model Accuracy:  0.25\n"
     ]
    },
    {
     "name": "stderr",
     "output_type": "stream",
     "text": [
      " 83%|████████▎ | 416/502 [04:46<00:22,  3.88it/s]"
     ]
    },
    {
     "name": "stdout",
     "output_type": "stream",
     "text": [
      "Accuracy Table for model 415:\n",
      "Base Model Accuracy:  0.3\n",
      "LoRA Model Accuracy:  0.4\n",
      "Predicted Model Accuracy:  0.6\n"
     ]
    },
    {
     "name": "stderr",
     "output_type": "stream",
     "text": [
      " 83%|████████▎ | 417/502 [04:46<00:20,  4.15it/s]"
     ]
    },
    {
     "name": "stdout",
     "output_type": "stream",
     "text": [
      "Accuracy Table for model 416:\n",
      "Base Model Accuracy:  0.3333333333333333\n",
      "LoRA Model Accuracy:  0.75\n",
      "Predicted Model Accuracy:  0.6666666666666666\n"
     ]
    },
    {
     "name": "stderr",
     "output_type": "stream",
     "text": [
      " 83%|████████▎ | 418/502 [04:46<00:19,  4.25it/s]"
     ]
    },
    {
     "name": "stdout",
     "output_type": "stream",
     "text": [
      "Accuracy Table for model 417:\n",
      "Base Model Accuracy:  0.3076923076923077\n",
      "LoRA Model Accuracy:  0.38461538461538464\n",
      "Predicted Model Accuracy:  0.38461538461538464\n",
      "Accuracy Table for model 418:\n",
      "Base Model Accuracy:  0.35294117647058826\n",
      "LoRA Model Accuracy:  0.47058823529411764\n",
      "Predicted Model Accuracy:  0.4117647058823529\n"
     ]
    },
    {
     "name": "stderr",
     "output_type": "stream",
     "text": [
      " 84%|████████▎ | 420/502 [04:47<00:18,  4.49it/s]"
     ]
    },
    {
     "name": "stdout",
     "output_type": "stream",
     "text": [
      "Accuracy Table for model 419:\n",
      "Base Model Accuracy:  0.35\n",
      "LoRA Model Accuracy:  0.35\n",
      "Predicted Model Accuracy:  0.4\n"
     ]
    },
    {
     "name": "stderr",
     "output_type": "stream",
     "text": [
      " 84%|████████▍ | 422/502 [04:47<00:17,  4.70it/s]"
     ]
    },
    {
     "name": "stdout",
     "output_type": "stream",
     "text": [
      "Accuracy Table for model 420:\n",
      "Base Model Accuracy:  0.35714285714285715\n",
      "LoRA Model Accuracy:  0.5\n",
      "Predicted Model Accuracy:  0.35714285714285715\n",
      "Accuracy Table for model 421:\n",
      "Base Model Accuracy:  0.3333333333333333\n",
      "LoRA Model Accuracy:  0.25\n",
      "Predicted Model Accuracy:  0.16666666666666666\n"
     ]
    },
    {
     "name": "stderr",
     "output_type": "stream",
     "text": [
      " 84%|████████▍ | 423/502 [04:47<00:16,  4.74it/s]"
     ]
    },
    {
     "name": "stdout",
     "output_type": "stream",
     "text": [
      "Accuracy Table for model 422:\n",
      "Base Model Accuracy:  0.47368421052631576\n",
      "LoRA Model Accuracy:  0.3684210526315789\n",
      "Predicted Model Accuracy:  0.5263157894736842\n",
      "Accuracy Table for model 423:\n",
      "Base Model Accuracy:  0.3333333333333333\n",
      "LoRA Model Accuracy:  0.5\n",
      "Predicted Model Accuracy:  0.5\n"
     ]
    },
    {
     "name": "stderr",
     "output_type": "stream",
     "text": [
      " 85%|████████▍ | 426/502 [04:48<00:15,  4.79it/s]"
     ]
    },
    {
     "name": "stdout",
     "output_type": "stream",
     "text": [
      "Accuracy Table for model 424:\n",
      "Base Model Accuracy:  0.4166666666666667\n",
      "LoRA Model Accuracy:  0.6666666666666666\n",
      "Predicted Model Accuracy:  0.5833333333333334\n",
      "Accuracy Table for model 425:\n",
      "Base Model Accuracy:  0.5\n",
      "LoRA Model Accuracy:  0.8333333333333334\n",
      "Predicted Model Accuracy:  0.8333333333333334\n"
     ]
    },
    {
     "name": "stderr",
     "output_type": "stream",
     "text": [
      " 85%|████████▌ | 428/502 [04:48<00:15,  4.81it/s]"
     ]
    },
    {
     "name": "stdout",
     "output_type": "stream",
     "text": [
      "Accuracy Table for model 426:\n",
      "Base Model Accuracy:  0.2222222222222222\n",
      "LoRA Model Accuracy:  0.7777777777777778\n",
      "Predicted Model Accuracy:  0.8333333333333334\n",
      "Accuracy Table for model 427:\n",
      "Base Model Accuracy:  0.25\n",
      "LoRA Model Accuracy:  0.5\n",
      "Predicted Model Accuracy:  0.4\n"
     ]
    },
    {
     "name": "stderr",
     "output_type": "stream",
     "text": [
      " 86%|████████▌ | 430/502 [04:49<00:14,  4.89it/s]"
     ]
    },
    {
     "name": "stdout",
     "output_type": "stream",
     "text": [
      "Accuracy Table for model 428:\n",
      "Base Model Accuracy:  0.21052631578947367\n",
      "LoRA Model Accuracy:  0.42105263157894735\n",
      "Predicted Model Accuracy:  0.2631578947368421\n",
      "Accuracy Table for model 429:\n",
      "Base Model Accuracy:  0.2222222222222222\n",
      "LoRA Model Accuracy:  0.7777777777777778\n",
      "Predicted Model Accuracy:  0.6111111111111112\n"
     ]
    },
    {
     "name": "stderr",
     "output_type": "stream",
     "text": [
      " 86%|████████▌ | 431/502 [04:49<00:14,  4.95it/s]"
     ]
    },
    {
     "name": "stdout",
     "output_type": "stream",
     "text": [
      "Accuracy Table for model 430:\n",
      "Base Model Accuracy:  0.23529411764705882\n",
      "LoRA Model Accuracy:  0.29411764705882354\n",
      "Predicted Model Accuracy:  0.23529411764705882\n"
     ]
    },
    {
     "name": "stderr",
     "output_type": "stream",
     "text": [
      " 86%|████████▌ | 432/502 [04:49<00:14,  4.87it/s]"
     ]
    },
    {
     "name": "stdout",
     "output_type": "stream",
     "text": [
      "Accuracy Table for model 431:\n",
      "Base Model Accuracy:  0.4444444444444444\n",
      "LoRA Model Accuracy:  0.5\n",
      "Predicted Model Accuracy:  0.5555555555555556\n"
     ]
    },
    {
     "name": "stderr",
     "output_type": "stream",
     "text": [
      " 86%|████████▋ | 433/502 [04:49<00:14,  4.81it/s]"
     ]
    },
    {
     "name": "stdout",
     "output_type": "stream",
     "text": [
      "Accuracy Table for model 432:\n",
      "Base Model Accuracy:  0.16666666666666666\n",
      "LoRA Model Accuracy:  0.6111111111111112\n",
      "Predicted Model Accuracy:  0.3888888888888889\n",
      "Accuracy Table for model 433:\n",
      "Base Model Accuracy:  0.5333333333333333\n",
      "LoRA Model Accuracy:  0.6\n",
      "Predicted Model Accuracy:  0.5333333333333333\n"
     ]
    },
    {
     "name": "stderr",
     "output_type": "stream",
     "text": [
      " 87%|████████▋ | 435/502 [04:50<00:13,  4.94it/s]"
     ]
    },
    {
     "name": "stdout",
     "output_type": "stream",
     "text": [
      "Accuracy Table for model 434:\n",
      "Base Model Accuracy:  0.3076923076923077\n",
      "LoRA Model Accuracy:  0.6153846153846154\n",
      "Predicted Model Accuracy:  0.6923076923076923\n",
      "Accuracy Table for model 435:\n",
      "Base Model Accuracy:  0.4117647058823529\n",
      "LoRA Model Accuracy:  0.7647058823529411\n",
      "Predicted Model Accuracy:  0.47058823529411764\n"
     ]
    },
    {
     "name": "stderr",
     "output_type": "stream",
     "text": [
      " 87%|████████▋ | 437/502 [04:50<00:13,  4.93it/s]"
     ]
    },
    {
     "name": "stdout",
     "output_type": "stream",
     "text": [
      "Accuracy Table for model 436:\n",
      "Base Model Accuracy:  0.4166666666666667\n",
      "LoRA Model Accuracy:  0.5\n",
      "Predicted Model Accuracy:  0.6666666666666666\n"
     ]
    },
    {
     "name": "stderr",
     "output_type": "stream",
     "text": [
      " 87%|████████▋ | 438/502 [04:50<00:13,  4.90it/s]"
     ]
    },
    {
     "name": "stdout",
     "output_type": "stream",
     "text": [
      "Accuracy Table for model 437:\n",
      "Base Model Accuracy:  0.6111111111111112\n",
      "LoRA Model Accuracy:  0.8333333333333334\n",
      "Predicted Model Accuracy:  0.7222222222222222\n",
      "Accuracy Table for model 438:\n",
      "Base Model Accuracy:  0.5\n",
      "LoRA Model Accuracy:  0.75\n",
      "Predicted Model Accuracy:  0.8333333333333334\n"
     ]
    },
    {
     "name": "stderr",
     "output_type": "stream",
     "text": [
      " 88%|████████▊ | 440/502 [04:51<00:12,  4.88it/s]"
     ]
    },
    {
     "name": "stdout",
     "output_type": "stream",
     "text": [
      "Accuracy Table for model 439:\n",
      "Base Model Accuracy:  0.4583333333333333\n",
      "LoRA Model Accuracy:  0.875\n",
      "Predicted Model Accuracy:  0.9166666666666666\n",
      "Accuracy Table for model 440:\n",
      "Base Model Accuracy:  0.47368421052631576\n",
      "LoRA Model Accuracy:  0.7368421052631579\n",
      "Predicted Model Accuracy:  0.7368421052631579\n"
     ]
    },
    {
     "name": "stderr",
     "output_type": "stream",
     "text": [
      " 88%|████████▊ | 443/502 [04:51<00:12,  4.77it/s]"
     ]
    },
    {
     "name": "stdout",
     "output_type": "stream",
     "text": [
      "Accuracy Table for model 441:\n",
      "Base Model Accuracy:  0.15384615384615385\n",
      "LoRA Model Accuracy:  0.6153846153846154\n",
      "Predicted Model Accuracy:  0.23076923076923078\n",
      "Accuracy Table for model 442:\n",
      "Base Model Accuracy:  0.5263157894736842\n",
      "LoRA Model Accuracy:  0.7894736842105263\n",
      "Predicted Model Accuracy:  0.7368421052631579\n"
     ]
    },
    {
     "name": "stderr",
     "output_type": "stream",
     "text": [
      " 89%|████████▊ | 445/502 [04:52<00:11,  4.83it/s]"
     ]
    },
    {
     "name": "stdout",
     "output_type": "stream",
     "text": [
      "Accuracy Table for model 443:\n",
      "Base Model Accuracy:  0.42105263157894735\n",
      "LoRA Model Accuracy:  0.5789473684210527\n",
      "Predicted Model Accuracy:  0.631578947368421\n",
      "Accuracy Table for model 444:\n",
      "Base Model Accuracy:  0.5789473684210527\n",
      "LoRA Model Accuracy:  0.5263157894736842\n",
      "Predicted Model Accuracy:  0.7894736842105263\n"
     ]
    },
    {
     "name": "stderr",
     "output_type": "stream",
     "text": [
      " 89%|████████▉ | 446/502 [04:52<00:11,  4.78it/s]"
     ]
    },
    {
     "name": "stdout",
     "output_type": "stream",
     "text": [
      "Accuracy Table for model 445:\n",
      "Base Model Accuracy:  0.15789473684210525\n",
      "LoRA Model Accuracy:  0.3684210526315789\n",
      "Predicted Model Accuracy:  0.3684210526315789\n"
     ]
    },
    {
     "name": "stderr",
     "output_type": "stream",
     "text": [
      " 89%|████████▉ | 447/502 [04:52<00:11,  4.81it/s]"
     ]
    },
    {
     "name": "stdout",
     "output_type": "stream",
     "text": [
      "Accuracy Table for model 446:\n",
      "Base Model Accuracy:  0.25\n",
      "LoRA Model Accuracy:  0.5\n",
      "Predicted Model Accuracy:  0.5833333333333334\n"
     ]
    },
    {
     "name": "stderr",
     "output_type": "stream",
     "text": [
      " 89%|████████▉ | 449/502 [04:53<00:10,  4.82it/s]"
     ]
    },
    {
     "name": "stdout",
     "output_type": "stream",
     "text": [
      "Accuracy Table for model 447:\n",
      "Base Model Accuracy:  0.2222222222222222\n",
      "LoRA Model Accuracy:  0.7777777777777778\n",
      "Predicted Model Accuracy:  0.6111111111111112\n",
      "Accuracy Table for model 448:\n",
      "Base Model Accuracy:  0.5555555555555556\n",
      "LoRA Model Accuracy:  0.8333333333333334\n",
      "Predicted Model Accuracy:  1.0\n"
     ]
    },
    {
     "name": "stderr",
     "output_type": "stream",
     "text": [
      " 90%|████████▉ | 450/502 [04:53<00:10,  4.91it/s]"
     ]
    },
    {
     "name": "stdout",
     "output_type": "stream",
     "text": [
      "Accuracy Table for model 449:\n",
      "Base Model Accuracy:  0.17647058823529413\n",
      "LoRA Model Accuracy:  0.47058823529411764\n",
      "Predicted Model Accuracy:  0.35294117647058826\n"
     ]
    },
    {
     "name": "stderr",
     "output_type": "stream",
     "text": [
      " 90%|████████▉ | 451/502 [04:53<00:10,  4.89it/s]"
     ]
    },
    {
     "name": "stdout",
     "output_type": "stream",
     "text": [
      "Accuracy Table for model 450:\n",
      "Base Model Accuracy:  0.6666666666666666\n",
      "LoRA Model Accuracy:  0.6666666666666666\n",
      "Predicted Model Accuracy:  0.6666666666666666\n"
     ]
    },
    {
     "name": "stderr",
     "output_type": "stream",
     "text": [
      " 90%|█████████ | 452/502 [04:53<00:10,  4.88it/s]"
     ]
    },
    {
     "name": "stdout",
     "output_type": "stream",
     "text": [
      "Accuracy Table for model 451:\n",
      "Base Model Accuracy:  0.18181818181818182\n",
      "LoRA Model Accuracy:  0.5454545454545454\n",
      "Predicted Model Accuracy:  0.5454545454545454\n"
     ]
    },
    {
     "name": "stderr",
     "output_type": "stream",
     "text": [
      " 90%|█████████ | 453/502 [04:53<00:10,  4.63it/s]"
     ]
    },
    {
     "name": "stdout",
     "output_type": "stream",
     "text": [
      "Accuracy Table for model 452:\n",
      "Base Model Accuracy:  0.5576923076923077\n",
      "LoRA Model Accuracy:  1.0\n",
      "Predicted Model Accuracy:  0.9903846153846154\n"
     ]
    },
    {
     "name": "stderr",
     "output_type": "stream",
     "text": [
      " 90%|█████████ | 454/502 [04:54<00:21,  2.24it/s]"
     ]
    },
    {
     "name": "stdout",
     "output_type": "stream",
     "text": [
      "Accuracy Table for model 453:\n",
      "Base Model Accuracy:  0.07692307692307693\n",
      "LoRA Model Accuracy:  0.22153846153846155\n",
      "Predicted Model Accuracy:  0.06769230769230769\n"
     ]
    },
    {
     "name": "stderr",
     "output_type": "stream",
     "text": [
      " 91%|█████████ | 455/502 [04:55<00:18,  2.60it/s]"
     ]
    },
    {
     "name": "stdout",
     "output_type": "stream",
     "text": [
      "Accuracy Table for model 454:\n",
      "Base Model Accuracy:  0.37037037037037035\n",
      "LoRA Model Accuracy:  0.6851851851851852\n",
      "Predicted Model Accuracy:  0.2962962962962963\n",
      "Accuracy Table for model 455:\n",
      "Base Model Accuracy:  0.3\n",
      "LoRA Model Accuracy:  0.7\n",
      "Predicted Model Accuracy:  0.35\n"
     ]
    },
    {
     "name": "stderr",
     "output_type": "stream",
     "text": [
      " 91%|█████████ | 457/502 [04:55<00:13,  3.44it/s]"
     ]
    },
    {
     "name": "stdout",
     "output_type": "stream",
     "text": [
      "Accuracy Table for model 456:\n",
      "Base Model Accuracy:  0.4117647058823529\n",
      "LoRA Model Accuracy:  0.9411764705882353\n",
      "Predicted Model Accuracy:  0.5882352941176471\n"
     ]
    },
    {
     "name": "stderr",
     "output_type": "stream",
     "text": [
      " 91%|█████████▏| 459/502 [04:56<00:15,  2.79it/s]"
     ]
    },
    {
     "name": "stdout",
     "output_type": "stream",
     "text": [
      "Accuracy Table for model 457:\n",
      "Base Model Accuracy:  0.0\n",
      "LoRA Model Accuracy:  0.0\n",
      "Predicted Model Accuracy:  0.0\n",
      "Accuracy Table for model 458:\n",
      "Base Model Accuracy:  0.3\n",
      "LoRA Model Accuracy:  0.9666666666666667\n",
      "Predicted Model Accuracy:  0.9333333333333333\n"
     ]
    },
    {
     "name": "stderr",
     "output_type": "stream",
     "text": [
      " 92%|█████████▏| 460/502 [04:56<00:13,  3.07it/s]"
     ]
    },
    {
     "name": "stdout",
     "output_type": "stream",
     "text": [
      "Accuracy Table for model 459:\n",
      "Base Model Accuracy:  0.02\n",
      "LoRA Model Accuracy:  0.16\n",
      "Predicted Model Accuracy:  0.02\n"
     ]
    },
    {
     "name": "stderr",
     "output_type": "stream",
     "text": [
      " 92%|█████████▏| 462/502 [04:57<00:10,  3.74it/s]"
     ]
    },
    {
     "name": "stdout",
     "output_type": "stream",
     "text": [
      "Accuracy Table for model 460:\n",
      "Base Model Accuracy:  0.0\n",
      "LoRA Model Accuracy:  0.0\n",
      "Predicted Model Accuracy:  0.0\n",
      "Accuracy Table for model 461:\n",
      "Base Model Accuracy:  0.0\n",
      "LoRA Model Accuracy:  0.75\n",
      "Predicted Model Accuracy:  0.875\n"
     ]
    },
    {
     "name": "stderr",
     "output_type": "stream",
     "text": [
      " 92%|█████████▏| 463/502 [04:57<00:17,  2.27it/s]"
     ]
    },
    {
     "name": "stdout",
     "output_type": "stream",
     "text": [
      "Accuracy Table for model 462:\n",
      "Base Model Accuracy:  0.0\n",
      "LoRA Model Accuracy:  0.0\n",
      "Predicted Model Accuracy:  0.0\n"
     ]
    },
    {
     "name": "stderr",
     "output_type": "stream",
     "text": [
      " 92%|█████████▏| 464/502 [04:58<00:14,  2.65it/s]"
     ]
    },
    {
     "name": "stdout",
     "output_type": "stream",
     "text": [
      "Accuracy Table for model 463:\n",
      "Base Model Accuracy:  0.18\n",
      "LoRA Model Accuracy:  0.95\n",
      "Predicted Model Accuracy:  0.52\n",
      "Accuracy Table for model 464:\n",
      "Base Model Accuracy:  0.4482758620689655\n",
      "LoRA Model Accuracy:  0.9655172413793104\n",
      "Predicted Model Accuracy:  0.8620689655172413\n"
     ]
    },
    {
     "name": "stderr",
     "output_type": "stream",
     "text": [
      " 93%|█████████▎| 466/502 [04:58<00:12,  2.95it/s]"
     ]
    },
    {
     "name": "stdout",
     "output_type": "stream",
     "text": [
      "Accuracy Table for model 465:\n",
      "Base Model Accuracy:  0.05263157894736842\n",
      "LoRA Model Accuracy:  0.6190476190476191\n",
      "Predicted Model Accuracy:  0.48120300751879697\n"
     ]
    },
    {
     "name": "stderr",
     "output_type": "stream",
     "text": [
      " 93%|█████████▎| 467/502 [04:59<00:13,  2.54it/s]"
     ]
    },
    {
     "name": "stdout",
     "output_type": "stream",
     "text": [
      "Accuracy Table for model 466:\n",
      "Base Model Accuracy:  0.34923076923076923\n",
      "LoRA Model Accuracy:  0.9646153846153847\n",
      "Predicted Model Accuracy:  0.6538461538461539\n"
     ]
    },
    {
     "name": "stderr",
     "output_type": "stream",
     "text": [
      " 93%|█████████▎| 468/502 [05:00<00:22,  1.48it/s]"
     ]
    },
    {
     "name": "stdout",
     "output_type": "stream",
     "text": [
      "Accuracy Table for model 467:\n",
      "Base Model Accuracy:  0.09846153846153846\n",
      "LoRA Model Accuracy:  0.40307692307692305\n",
      "Predicted Model Accuracy:  0.07846153846153846\n"
     ]
    },
    {
     "name": "stderr",
     "output_type": "stream",
     "text": [
      " 93%|█████████▎| 469/502 [05:02<00:30,  1.08it/s]"
     ]
    },
    {
     "name": "stdout",
     "output_type": "stream",
     "text": [
      "Accuracy Table for model 468:\n",
      "Base Model Accuracy:  0.0\n",
      "LoRA Model Accuracy:  0.004615384615384616\n",
      "Predicted Model Accuracy:  0.0\n",
      "Accuracy Table for model 469:\n",
      "Base Model Accuracy:  0.25\n",
      "LoRA Model Accuracy:  1.0\n",
      "Predicted Model Accuracy:  0.8333333333333334\n"
     ]
    },
    {
     "name": "stderr",
     "output_type": "stream",
     "text": [
      " 94%|█████████▍| 472/502 [05:02<00:13,  2.23it/s]"
     ]
    },
    {
     "name": "stdout",
     "output_type": "stream",
     "text": [
      "Accuracy Table for model 470:\n",
      "Base Model Accuracy:  0.0\n",
      "LoRA Model Accuracy:  0.17647058823529413\n",
      "Predicted Model Accuracy:  0.0\n",
      "Accuracy Table for model 471:\n",
      "Base Model Accuracy:  0.0\n",
      "LoRA Model Accuracy:  0.0\n",
      "Predicted Model Accuracy:  0.0\n"
     ]
    },
    {
     "name": "stderr",
     "output_type": "stream",
     "text": [
      " 94%|█████████▍| 473/502 [05:02<00:11,  2.57it/s]"
     ]
    },
    {
     "name": "stdout",
     "output_type": "stream",
     "text": [
      "Accuracy Table for model 472:\n",
      "Base Model Accuracy:  0.4588235294117647\n",
      "LoRA Model Accuracy:  0.8235294117647058\n",
      "Predicted Model Accuracy:  0.49411764705882355\n"
     ]
    },
    {
     "name": "stderr",
     "output_type": "stream",
     "text": [
      " 94%|█████████▍| 474/502 [05:03<00:10,  2.78it/s]"
     ]
    },
    {
     "name": "stdout",
     "output_type": "stream",
     "text": [
      "Accuracy Table for model 473:\n",
      "Base Model Accuracy:  0.4017094017094017\n",
      "LoRA Model Accuracy:  0.7264957264957265\n",
      "Predicted Model Accuracy:  0.3333333333333333\n"
     ]
    },
    {
     "name": "stderr",
     "output_type": "stream",
     "text": [
      " 95%|█████████▍| 476/502 [05:03<00:07,  3.43it/s]"
     ]
    },
    {
     "name": "stdout",
     "output_type": "stream",
     "text": [
      "Accuracy Table for model 474:\n",
      "Base Model Accuracy:  0.20512820512820512\n",
      "LoRA Model Accuracy:  0.34615384615384615\n",
      "Predicted Model Accuracy:  0.20512820512820512\n",
      "Accuracy Table for model 475:\n",
      "Base Model Accuracy:  0.25\n",
      "LoRA Model Accuracy:  0.5\n",
      "Predicted Model Accuracy:  0.16666666666666666\n"
     ]
    },
    {
     "name": "stderr",
     "output_type": "stream",
     "text": [
      " 95%|█████████▌| 477/502 [05:04<00:08,  2.87it/s]"
     ]
    },
    {
     "name": "stdout",
     "output_type": "stream",
     "text": [
      "Accuracy Table for model 476:\n",
      "Base Model Accuracy:  0.17027863777089783\n",
      "LoRA Model Accuracy:  0.8947368421052632\n",
      "Predicted Model Accuracy:  0.3498452012383901\n"
     ]
    },
    {
     "name": "stderr",
     "output_type": "stream",
     "text": [
      " 95%|█████████▌| 479/502 [05:04<00:06,  3.45it/s]"
     ]
    },
    {
     "name": "stdout",
     "output_type": "stream",
     "text": [
      "Accuracy Table for model 477:\n",
      "Base Model Accuracy:  0.354978354978355\n",
      "LoRA Model Accuracy:  0.9956709956709957\n",
      "Predicted Model Accuracy:  0.683982683982684\n",
      "Accuracy Table for model 478:\n",
      "Base Model Accuracy:  0.24\n",
      "LoRA Model Accuracy:  0.76\n",
      "Predicted Model Accuracy:  0.68\n"
     ]
    },
    {
     "name": "stderr",
     "output_type": "stream",
     "text": [
      " 96%|█████████▌| 480/502 [05:04<00:05,  3.75it/s]"
     ]
    },
    {
     "name": "stdout",
     "output_type": "stream",
     "text": [
      "Accuracy Table for model 479:\n",
      "Base Model Accuracy:  0.2\n",
      "LoRA Model Accuracy:  0.75\n",
      "Predicted Model Accuracy:  0.6\n"
     ]
    },
    {
     "name": "stderr",
     "output_type": "stream",
     "text": [
      " 96%|█████████▌| 481/502 [05:05<00:05,  4.03it/s]"
     ]
    },
    {
     "name": "stdout",
     "output_type": "stream",
     "text": [
      "Accuracy Table for model 480:\n",
      "Base Model Accuracy:  0.65\n",
      "LoRA Model Accuracy:  0.75\n",
      "Predicted Model Accuracy:  0.65\n"
     ]
    },
    {
     "name": "stderr",
     "output_type": "stream",
     "text": [
      " 96%|█████████▌| 482/502 [05:05<00:04,  4.26it/s]"
     ]
    },
    {
     "name": "stdout",
     "output_type": "stream",
     "text": [
      "Accuracy Table for model 481:\n",
      "Base Model Accuracy:  0.35\n",
      "LoRA Model Accuracy:  0.6\n",
      "Predicted Model Accuracy:  0.3\n",
      "Accuracy Table for model 482:\n",
      "Base Model Accuracy:  0.5\n",
      "LoRA Model Accuracy:  0.9\n",
      "Predicted Model Accuracy:  0.6\n"
     ]
    },
    {
     "name": "stderr",
     "output_type": "stream",
     "text": [
      " 96%|█████████▋| 484/502 [05:05<00:03,  4.60it/s]"
     ]
    },
    {
     "name": "stdout",
     "output_type": "stream",
     "text": [
      "Accuracy Table for model 483:\n",
      "Base Model Accuracy:  0.0\n",
      "LoRA Model Accuracy:  0.0\n",
      "Predicted Model Accuracy:  0.0\n"
     ]
    },
    {
     "name": "stderr",
     "output_type": "stream",
     "text": [
      " 97%|█████████▋| 485/502 [05:05<00:03,  4.29it/s]"
     ]
    },
    {
     "name": "stdout",
     "output_type": "stream",
     "text": [
      "Accuracy Table for model 484:\n",
      "Base Model Accuracy:  0.7484276729559748\n",
      "LoRA Model Accuracy:  0.9685534591194969\n",
      "Predicted Model Accuracy:  0.9622641509433962\n"
     ]
    },
    {
     "name": "stderr",
     "output_type": "stream",
     "text": [
      " 97%|█████████▋| 486/502 [05:06<00:05,  3.09it/s]"
     ]
    },
    {
     "name": "stdout",
     "output_type": "stream",
     "text": [
      "Accuracy Table for model 485:\n",
      "Base Model Accuracy:  0.033846153846153845\n",
      "LoRA Model Accuracy:  0.7076923076923077\n",
      "Predicted Model Accuracy:  0.5276923076923077\n"
     ]
    },
    {
     "name": "stderr",
     "output_type": "stream",
     "text": [
      " 97%|█████████▋| 488/502 [05:07<00:04,  2.97it/s]"
     ]
    },
    {
     "name": "stdout",
     "output_type": "stream",
     "text": [
      "Accuracy Table for model 486:\n",
      "Base Model Accuracy:  0.1523076923076923\n",
      "LoRA Model Accuracy:  0.9523076923076923\n",
      "Predicted Model Accuracy:  0.6753846153846154\n",
      "Accuracy Table for model 487:\n",
      "Base Model Accuracy:  0.3333333333333333\n",
      "LoRA Model Accuracy:  0.6666666666666666\n",
      "Predicted Model Accuracy:  0.4444444444444444\n"
     ]
    },
    {
     "name": "stderr",
     "output_type": "stream",
     "text": [
      " 97%|█████████▋| 489/502 [05:07<00:04,  2.78it/s]"
     ]
    },
    {
     "name": "stdout",
     "output_type": "stream",
     "text": [
      "Accuracy Table for model 488:\n",
      "Base Model Accuracy:  0.07777777777777778\n",
      "LoRA Model Accuracy:  0.7177777777777777\n",
      "Predicted Model Accuracy:  0.2577777777777778\n"
     ]
    },
    {
     "name": "stderr",
     "output_type": "stream",
     "text": [
      " 98%|█████████▊| 491/502 [05:08<00:03,  2.78it/s]"
     ]
    },
    {
     "name": "stdout",
     "output_type": "stream",
     "text": [
      "Accuracy Table for model 489:\n",
      "Base Model Accuracy:  0.003076923076923077\n",
      "LoRA Model Accuracy:  0.14615384615384616\n",
      "Predicted Model Accuracy:  0.013846153846153847\n",
      "Accuracy Table for model 490:\n",
      "Base Model Accuracy:  0.48\n",
      "LoRA Model Accuracy:  1.0\n",
      "Predicted Model Accuracy:  0.68\n"
     ]
    },
    {
     "name": "stderr",
     "output_type": "stream",
     "text": [
      " 98%|█████████▊| 492/502 [05:08<00:03,  3.18it/s]"
     ]
    },
    {
     "name": "stdout",
     "output_type": "stream",
     "text": [
      "Accuracy Table for model 491:\n",
      "Base Model Accuracy:  0.36\n",
      "LoRA Model Accuracy:  0.44\n",
      "Predicted Model Accuracy:  0.36\n"
     ]
    },
    {
     "name": "stderr",
     "output_type": "stream",
     "text": [
      " 98%|█████████▊| 493/502 [05:08<00:02,  3.43it/s]"
     ]
    },
    {
     "name": "stdout",
     "output_type": "stream",
     "text": [
      "Accuracy Table for model 492:\n",
      "Base Model Accuracy:  0.0\n",
      "LoRA Model Accuracy:  0.0\n",
      "Predicted Model Accuracy:  0.0\n"
     ]
    },
    {
     "name": "stderr",
     "output_type": "stream",
     "text": [
      " 98%|█████████▊| 494/502 [05:09<00:02,  2.75it/s]"
     ]
    },
    {
     "name": "stdout",
     "output_type": "stream",
     "text": [
      "Accuracy Table for model 493:\n",
      "Base Model Accuracy:  0.1448382126348228\n",
      "LoRA Model Accuracy:  0.4869029275808937\n",
      "Predicted Model Accuracy:  0.4915254237288136\n"
     ]
    },
    {
     "name": "stderr",
     "output_type": "stream",
     "text": [
      " 99%|█████████▊| 495/502 [05:09<00:02,  2.55it/s]"
     ]
    },
    {
     "name": "stdout",
     "output_type": "stream",
     "text": [
      "Accuracy Table for model 494:\n",
      "Base Model Accuracy:  0.0\n",
      "LoRA Model Accuracy:  0.0\n",
      "Predicted Model Accuracy:  0.0\n"
     ]
    },
    {
     "name": "stderr",
     "output_type": "stream",
     "text": [
      " 99%|█████████▉| 496/502 [05:10<00:02,  2.23it/s]"
     ]
    },
    {
     "name": "stdout",
     "output_type": "stream",
     "text": [
      "Accuracy Table for model 495:\n",
      "Base Model Accuracy:  0.0\n",
      "LoRA Model Accuracy:  0.0\n",
      "Predicted Model Accuracy:  0.0\n"
     ]
    },
    {
     "name": "stderr",
     "output_type": "stream",
     "text": [
      " 99%|█████████▉| 497/502 [05:11<00:02,  2.12it/s]"
     ]
    },
    {
     "name": "stdout",
     "output_type": "stream",
     "text": [
      "Accuracy Table for model 496:\n",
      "Base Model Accuracy:  0.013846153846153847\n",
      "LoRA Model Accuracy:  0.42153846153846153\n",
      "Predicted Model Accuracy:  0.34307692307692306\n"
     ]
    },
    {
     "name": "stderr",
     "output_type": "stream",
     "text": [
      " 99%|█████████▉| 498/502 [05:11<00:02,  1.81it/s]"
     ]
    },
    {
     "name": "stdout",
     "output_type": "stream",
     "text": [
      "Accuracy Table for model 497:\n",
      "Base Model Accuracy:  0.0\n",
      "LoRA Model Accuracy:  0.0\n",
      "Predicted Model Accuracy:  0.0\n"
     ]
    },
    {
     "name": "stderr",
     "output_type": "stream",
     "text": [
      "100%|█████████▉| 500/502 [05:12<00:00,  2.21it/s]"
     ]
    },
    {
     "name": "stdout",
     "output_type": "stream",
     "text": [
      "Accuracy Table for model 498:\n",
      "Base Model Accuracy:  0.07884615384615384\n",
      "LoRA Model Accuracy:  0.9884615384615385\n",
      "Predicted Model Accuracy:  0.06538461538461539\n",
      "Accuracy Table for model 499:\n",
      "Base Model Accuracy:  0.06666666666666667\n",
      "LoRA Model Accuracy:  0.13333333333333333\n",
      "Predicted Model Accuracy:  0.06666666666666667\n"
     ]
    },
    {
     "name": "stderr",
     "output_type": "stream",
     "text": [
      "100%|█████████▉| 501/502 [05:12<00:00,  2.65it/s]"
     ]
    },
    {
     "name": "stdout",
     "output_type": "stream",
     "text": [
      "Accuracy Table for model 500:\n",
      "Base Model Accuracy:  0.0\n",
      "LoRA Model Accuracy:  0.0\n",
      "Predicted Model Accuracy:  0.0\n"
     ]
    },
    {
     "name": "stderr",
     "output_type": "stream",
     "text": [
      "100%|██████████| 502/502 [05:12<00:00,  1.60it/s]"
     ]
    },
    {
     "name": "stdout",
     "output_type": "stream",
     "text": [
      "Accuracy Table for model 501:\n",
      "Base Model Accuracy:  0.3\n",
      "LoRA Model Accuracy:  1.0\n",
      "Predicted Model Accuracy:  0.7333333333333333\n"
     ]
    },
    {
     "name": "stderr",
     "output_type": "stream",
     "text": [
      "\n"
     ]
    }
   ],
   "source": [
    "import torch\n",
    "import evaluate\n",
    "from tqdm import tqdm\n",
    "import pandas as pd\n",
    "\n",
    "\n",
    "Distane_Function = \"MMD\"\n",
    "Variation = \"normalized\"\n",
    "\n",
    "exact_match = {\"dataset_index\": [], \"base\": [], \"lora\": [], \"pred\": [], \"error\": []}\n",
    "missing_loras = []\n",
    "\n",
    "rouge = evaluate.load(\"rouge\")\n",
    "\n",
    "rouge_metric_results = {\n",
    "    \"dataset_index\": [],\n",
    "    \"base\": [],\n",
    "    \"lora\": [],\n",
    "    \"pred\": [],\n",
    "    \"error\": [],\n",
    "}\n",
    "\n",
    "for index in tqdm(range(502)):\n",
    "    try:\n",
    "        pred = torch.load(\n",
    "            f\"R:\\\\Research\\\\FineTuning_LoRAs\\\\results\\\\{Distane_Function}\\\\{Variation}\\\\predicted_loras_outputs\\\\{index}.pt\",\n",
    "            weights_only=False,\n",
    "        )\n",
    "\n",
    "        lora = torch.load(\n",
    "            f\"R:\\\\Research\\\\FineTuning_LoRAs\\\\data\\\\Outputs\\\\base_lora\\\\{index}.pt\",\n",
    "            weights_only=False,\n",
    "        )\n",
    "\n",
    "        base = torch.load(\n",
    "            f\"R:\\\\Research\\\\FineTuning_LoRAs\\\\data\\\\Outputs\\\\base_model\\\\{index}.pt\",\n",
    "            weights_only=False,\n",
    "        )\n",
    "\n",
    "        labels = [item[0][\"output\"][0] for item in base]\n",
    "        base_out = [\n",
    "            item[1][\"generated_text\"][0][len(item[0][\"input\"]) :] for item in base\n",
    "        ]\n",
    "        lora_out = [\n",
    "            item[1][\"generated_text\"][0][len(item[0][\"input\"]) :] for item in lora\n",
    "        ]\n",
    "        pred_out = [\n",
    "            item[1][\"generated_text\"][0][len(item[0][\"input\"]) :] for item in pred\n",
    "        ]\n",
    "\n",
    "        rouge_metric_results[\"dataset_index\"].append(index)\n",
    "        rouge_metric_results[\"base\"].append(\n",
    "            rouge.compute(predictions=base_out, references=labels)\n",
    "        )\n",
    "        rouge_metric_results[\"lora\"].append(\n",
    "            rouge.compute(predictions=lora_out, references=labels)\n",
    "        )\n",
    "        rouge_metric_results[\"pred\"].append(\n",
    "            rouge.compute(predictions=pred_out, references=labels)\n",
    "        )\n",
    "        rouge_metric_results[\"error\"].append(\"Good\")\n",
    "\n",
    "        pred_correct = []\n",
    "        base_correct = []\n",
    "        lora_correct = []\n",
    "        for data_index in range(len(pred)):\n",
    "            if (\n",
    "                base[data_index][0][\"output\"][0].lower()\n",
    "                in base[data_index][1][\"generated_text\"][0][-10:].lower()\n",
    "            ):\n",
    "                base_correct.append(1)\n",
    "            else:\n",
    "                base_correct.append(0)\n",
    "\n",
    "            if (\n",
    "                lora[data_index][0][\"output\"][0].lower()\n",
    "                in lora[data_index][1][\"generated_text\"][0][-10:].lower()\n",
    "            ):\n",
    "                lora_correct.append(1)\n",
    "            else:\n",
    "                lora_correct.append(0)\n",
    "\n",
    "            if (\n",
    "                pred[data_index][0][\"output\"][0].lower()\n",
    "                in pred[data_index][1][\"generated_text\"][0][-10:].lower()\n",
    "            ):\n",
    "                pred_correct.append(1)\n",
    "            else:\n",
    "                pred_correct.append(0)\n",
    "\n",
    "        accuracy_base = sum(base_correct) / len(base_correct)\n",
    "        accuracy_lora = sum(lora_correct) / len(lora_correct)\n",
    "        accuracy_pred = sum(pred_correct) / len(pred_correct)\n",
    "        print(f\"Accuracy Table for model {index}:\")\n",
    "        print(\"Base Model Accuracy: \", accuracy_base)\n",
    "        print(\"LoRA Model Accuracy: \", accuracy_lora)\n",
    "        print(\"Predicted Model Accuracy: \", accuracy_pred)\n",
    "\n",
    "        exact_match[\"dataset_index\"].append(index)\n",
    "        exact_match[\"base\"].append(accuracy_base)\n",
    "        exact_match[\"lora\"].append(accuracy_lora)\n",
    "        exact_match[\"pred\"].append(accuracy_pred)\n",
    "        exact_match[\"error\"].append(\"Good\")\n",
    "\n",
    "    except Exception as e:\n",
    "        rouge_metric_results[\"dataset_index\"].append(index)\n",
    "        rouge_metric_results[\"base\"].append(0)\n",
    "        rouge_metric_results[\"lora\"].append(0)\n",
    "        rouge_metric_results[\"pred\"].append(0)\n",
    "        rouge_metric_results[\"error\"].append(e)\n",
    "\n",
    "        exact_match[\"dataset_index\"].append(index)\n",
    "        exact_match[\"base\"].append(0)\n",
    "        exact_match[\"lora\"].append(0)\n",
    "        exact_match[\"pred\"].append(0)\n",
    "        exact_match[\"error\"].append(e)\n",
    "        missing_loras.append({\"index\": index, \"error\": e})\n",
    "\n",
    "rouge_l = {\"dataset\": [], \"base\": [], \"lora\": [], \"pred\": []}\n",
    "rouge_l_sum = {\"dataset\": [], \"base\": [], \"lora\": [], \"pred\": []}\n",
    "\n",
    "for index in range(502):\n",
    "    if rouge_metric_results[\"error\"][index] == \"Good\":\n",
    "        rouge_l[\"dataset\"].append(index)\n",
    "        rouge_l[\"base\"].append(rouge_metric_results[\"base\"][index][\"rougeL\"])\n",
    "        rouge_l[\"lora\"].append(rouge_metric_results[\"lora\"][index][\"rougeL\"])\n",
    "        rouge_l[\"pred\"].append(rouge_metric_results[\"pred\"][index][\"rougeL\"])\n",
    "\n",
    "        rouge_l_sum[\"dataset\"].append(index)\n",
    "        rouge_l_sum[\"base\"].append(rouge_metric_results[\"base\"][index][\"rougeLsum\"])\n",
    "        rouge_l_sum[\"lora\"].append(rouge_metric_results[\"lora\"][index][\"rougeLsum\"])\n",
    "        rouge_l_sum[\"pred\"].append(rouge_metric_results[\"pred\"][index][\"rougeLsum\"])\n",
    "\n",
    "\n",
    "results_name = Variation + \"_\" + Distane_Function\n",
    "torch.save(rouge_metric_results, f\"results/{results_name}_AllRouges.pt\")\n",
    "\n",
    "df_exact_match = pd.DataFrame.from_dict(exact_match)\n",
    "df_exact_match[\"pred_is_better_than_base\"] = (\n",
    "    df_exact_match[\"pred\"] > df_exact_match[\"base\"]\n",
    ")\n",
    "df_exact_match[\"pred_is_better_than_lora\"] = (\n",
    "    df_exact_match[\"pred\"] > df_exact_match[\"lora\"]\n",
    ")\n",
    "df_exact_match[\"pred_diff_base\"] = df_exact_match[\"pred\"] - df_exact_match[\"base\"]\n",
    "df_exact_match[\"pred_diff_lora\"] = df_exact_match[\"pred\"] - df_exact_match[\"lora\"]\n",
    "df_exact_match.to_csv(f\"{results_name}_ExactMatach.csv\")\n",
    "\n",
    "df_rouge_l = pd.DataFrame.from_dict(rouge_l)\n",
    "df_rouge_l.to_csv(f\"{results_name}_RougeL.csv\")\n",
    "\n",
    "df_rouge_l_sum = pd.DataFrame.from_dict(rouge_l_sum)\n",
    "df_rouge_l_sum.to_csv(f\"{results_name}_RougeLSum.csv\")"
   ]
  },
  {
   "cell_type": "code",
   "execution_count": 8,
   "metadata": {},
   "outputs": [],
   "source": [
    "index = 24\n",
    "pred = torch.load(\n",
    "        f\"R:\\\\Research\\\\FineTuning_LoRAs\\\\results\\\\{Distane_Function}\\\\nonlearnable\\\\predicted_loras_outputs\\\\{index}.pt\",\n",
    "        weights_only=False,\n",
    "    )\n",
    "\n",
    "lora = torch.load(\n",
    "    f\"R:\\\\Research\\\\FineTuning_LoRAs\\\\data\\\\Outputs\\\\base_lora\\\\{index}.pt\",\n",
    "    weights_only=False,\n",
    ")\n",
    "\n",
    "base = torch.load(\n",
    "    f\"R:\\\\Research\\\\FineTuning_LoRAs\\\\data\\\\Outputs\\\\base_model\\\\{index}.pt\",\n",
    "    weights_only=False,\n",
    ")"
   ]
  },
  {
   "cell_type": "code",
   "execution_count": 9,
   "metadata": {},
   "outputs": [
    {
     "data": {
      "text/plain": [
       "[{'input': 'Definition: In this task the focus is on physical knowledge about the world. Given the provided goal task in the input, describe a process that would lead to the asked outcome. This process often involves physical motions with objects, such as moving them, arranging them in a certain way, mixing them, shaking them, etc.\\n\\nPositive Example 1 -\\nInput: How do you remove keys from a computer keyboard for cleaning?\\nOutput: Place the tip of a knife under the corner of a key and gently twist to pop it off.\\n\\nPositive Example 2 -\\nInput: How can you dry wet replacement computer keyboard keys?\\nOutput: by arranging paper towels on the counter and evenly spacing out each key to dry, face side up, on top of them.\\n\\nNegative Example 1 -\\nInput: How do you remove keys?\\nOutput: pry them off with a knife.\\n\\nNegative Example 2 -\\nInput: How can you dry wet replacement computer keyboard keys?\\nOutput: Place them in the oven on low\\n\\nNow complete the following example -\\nInput: Clean bathroom tiles.\\nOutput: \\n\\n',\n",
       "  'output': ['Use half slice of potato to clean bathroom tiles, then rinse.'],\n",
       "  'id': 'task080-7c004972f63146e7b9de326403202db2'},\n",
       " {'generated_text': [\"Definition: In this task the focus is on physical knowledge about the world. Given the provided goal task in the input, describe a process that would lead to the asked outcome. This process often involves physical motions with objects, such as moving them, arranging them in a certain way, mixing them, shaking them, etc.\\n\\nPositive Example 1 -\\nInput: How do you remove keys from a computer keyboard for cleaning?\\nOutput: Place the tip of a knife under the corner of a key and gently twist to pop it off.\\n\\nPositive Example 2 -\\nInput: How can you dry wet replacement computer keyboard keys?\\nOutput: by arranging paper towels on the counter and evenly spacing out each key to dry, face side up, on top of them.\\n\\nNegative Example 1 -\\nInput: How do you remove keys?\\nOutput: pry them off with a knife.\\n\\nNegative Example 2 -\\nInput: How can you dry wet replacement computer keyboard keys?\\nOutput: Place them in the oven on low\\n\\nNow complete the following example -\\nInput: Clean bathroom tiles.\\nOutput: \\n\\n1. Sweep the floor to remove loose debris.\\n2. Mix a solution of equal parts white vinegar and warm water in a bucket.\\n3. Dip a sponge or cloth into the solution and wring it out so it's damp but not soaking wet.\\n4. Wipe down the tiles with the damp sponge or cloth, starting at the top and working your way down to avoid streaks.\\n5. Rinse the sponge or cloth frequently in clean water and wring it out to avoid spreading dirt back onto the tiles.\\n6. Dry the tiles with a clean, dry towel to prevent water spots.\\n7. For stubborn stains, use a soft-bristled brush dipped in the solution to gently scrub the area.\\n8. Repeat the process as necessary to ensure all tiles are clean.\"]}]"
      ]
     },
     "execution_count": 9,
     "metadata": {},
     "output_type": "execute_result"
    }
   ],
   "source": [
    "base[1]"
   ]
  },
  {
   "cell_type": "code",
   "execution_count": 13,
   "metadata": {},
   "outputs": [
    {
     "data": {
      "text/plain": [
       "[{'input': 'Definition: In this task the focus is on physical knowledge about the world. Given the provided goal task in the input, describe a process that would lead to the asked outcome. This process often involves physical motions with objects, such as moving them, arranging them in a certain way, mixing them, shaking them, etc.\\n\\nPositive Example 1 -\\nInput: How do you remove keys from a computer keyboard for cleaning?\\nOutput: Place the tip of a knife under the corner of a key and gently twist to pop it off.\\n\\nPositive Example 2 -\\nInput: How can you dry wet replacement computer keyboard keys?\\nOutput: by arranging paper towels on the counter and evenly spacing out each key to dry, face side up, on top of them.\\n\\nNegative Example 1 -\\nInput: How do you remove keys?\\nOutput: pry them off with a knife.\\n\\nNegative Example 2 -\\nInput: How can you dry wet replacement computer keyboard keys?\\nOutput: Place them in the oven on low\\n\\nNow complete the following example -\\nInput: To determine what size to make a leather mystery braid cuff,\\nOutput: \\n\\n',\n",
       "  'output': ['measure the circumference of your wrist using a measuring tape and add 1 inch to that measurement.'],\n",
       "  'id': 'task080-afc9c5ed85f34d0f885c4f3e8d41138d'},\n",
       " {'generated_text': ['Definition: In this task the focus is on physical knowledge about the world. Given the provided goal task in the input, describe a process that would lead to the asked outcome. This process often involves physical motions with objects, such as moving them, arranging them in a certain way, mixing them, shaking them, etc.\\n\\nPositive Example 1 -\\nInput: How do you remove keys from a computer keyboard for cleaning?\\nOutput: Place the tip of a knife under the corner of a key and gently twist to pop it off.\\n\\nPositive Example 2 -\\nInput: How can you dry wet replacement computer keyboard keys?\\nOutput: by arranging paper towels on the counter and evenly spacing out each key to dry, face side up, on top of them.\\n\\nNegative Example 1 -\\nInput: How do you remove keys?\\nOutput: pry them off with a knife.\\n\\nNegative Example 2 -\\nInput: How can you dry wet replacement computer keyboard keys?\\nOutput: Place them in the oven on low\\n\\nNow complete the following example -\\nInput: To determine what size to make a leather mystery braid cuff,\\nOutput: \\n\\n1. Measure the circumference of the wrist or forearm where the cuff will be worn.\\n2. Add 1 inch to the measurement for overlap and closure.\\n3. Divide the total length by the number of strands in the braid.\\n4. Multiply the result by the width of one strand to find the width of each strand.\\n5. Cut the leather into the calculated width and length for each strand.\\n6. Begin braiding the strands, alternating the direction of the braid to create a mystery pattern.\\n7. Once the braid is complete, measure the length and trim the ends to the desired length.\\n8. Sew the ends of the braid together to create a loop for wearing the cuff.']}]"
      ]
     },
     "execution_count": 13,
     "metadata": {},
     "output_type": "execute_result"
    }
   ],
   "source": [
    "base[5]"
   ]
  },
  {
   "cell_type": "code",
   "execution_count": 14,
   "metadata": {},
   "outputs": [
    {
     "data": {
      "text/plain": [
       "[{'input': 'Definition: In this task the focus is on physical knowledge about the world. Given the provided goal task in the input, describe a process that would lead to the asked outcome. This process often involves physical motions with objects, such as moving them, arranging them in a certain way, mixing them, shaking them, etc.\\n\\nPositive Example 1 -\\nInput: How do you remove keys from a computer keyboard for cleaning?\\nOutput: Place the tip of a knife under the corner of a key and gently twist to pop it off.\\n\\nPositive Example 2 -\\nInput: How can you dry wet replacement computer keyboard keys?\\nOutput: by arranging paper towels on the counter and evenly spacing out each key to dry, face side up, on top of them.\\n\\nNegative Example 1 -\\nInput: How do you remove keys?\\nOutput: pry them off with a knife.\\n\\nNegative Example 2 -\\nInput: How can you dry wet replacement computer keyboard keys?\\nOutput: Place them in the oven on low\\n\\nNow complete the following example -\\nInput: To determine what size to make a leather mystery braid cuff,\\nOutput: \\n\\n',\n",
       "  'output': ['measure the circumference of your wrist using a measuring tape and add 1 inch to that measurement.'],\n",
       "  'id': 'task080-afc9c5ed85f34d0f885c4f3e8d41138d'},\n",
       " {'generated_text': ['Definition: In this task the focus is on physical knowledge about the world. Given the provided goal task in the input, describe a process that would lead to the asked outcome. This process often involves physical motions with objects, such as moving them, arranging them in a certain way, mixing them, shaking them, etc.\\n\\nPositive Example 1 -\\nInput: How do you remove keys from a computer keyboard for cleaning?\\nOutput: Place the tip of a knife under the corner of a key and gently twist to pop it off.\\n\\nPositive Example 2 -\\nInput: How can you dry wet replacement computer keyboard keys?\\nOutput: by arranging paper towels on the counter and evenly spacing out each key to dry, face side up, on top of them.\\n\\nNegative Example 1 -\\nInput: How do you remove keys?\\nOutput: pry them off with a knife.\\n\\nNegative Example 2 -\\nInput: How can you dry wet replacement computer keyboard keys?\\nOutput: Place them in the oven on low\\n\\nNow complete the following example -\\nInput: To determine what size to make a leather mystery braid cuff,\\nOutput: \\n\\nmeasure the circumference of your wrist and add 1/2 inch.']}]"
      ]
     },
     "execution_count": 14,
     "metadata": {},
     "output_type": "execute_result"
    }
   ],
   "source": [
    "lora[5]"
   ]
  },
  {
   "cell_type": "code",
   "execution_count": 15,
   "metadata": {},
   "outputs": [
    {
     "data": {
      "text/plain": [
       "[{'input': 'Definition: In this task the focus is on physical knowledge about the world. Given the provided goal task in the input, describe a process that would lead to the asked outcome. This process often involves physical motions with objects, such as moving them, arranging them in a certain way, mixing them, shaking them, etc.\\n\\nPositive Example 1 -\\nInput: How do you remove keys from a computer keyboard for cleaning?\\nOutput: Place the tip of a knife under the corner of a key and gently twist to pop it off.\\n\\nPositive Example 2 -\\nInput: How can you dry wet replacement computer keyboard keys?\\nOutput: by arranging paper towels on the counter and evenly spacing out each key to dry, face side up, on top of them.\\n\\nNegative Example 1 -\\nInput: How do you remove keys?\\nOutput: pry them off with a knife.\\n\\nNegative Example 2 -\\nInput: How can you dry wet replacement computer keyboard keys?\\nOutput: Place them in the oven on low\\n\\nNow complete the following example -\\nInput: To determine what size to make a leather mystery braid cuff,\\nOutput: \\n\\n',\n",
       "  'output': ['measure the circumference of your wrist using a measuring tape and add 1 inch to that measurement.'],\n",
       "  'id': 'task080-afc9c5ed85f34d0f885c4f3e8d41138d'},\n",
       " {'generated_text': ['Definition: In this task the focus is on physical knowledge about the world. Given the provided goal task in the input, describe a process that would lead to the asked outcome. This process often involves physical motions with objects, such as moving them, arranging them in a certain way, mixing them, shaking them, etc.\\n\\nPositive Example 1 -\\nInput: How do you remove keys from a computer keyboard for cleaning?\\nOutput: Place the tip of a knife under the corner of a key and gently twist to pop it off.\\n\\nPositive Example 2 -\\nInput: How can you dry wet replacement computer keyboard keys?\\nOutput: by arranging paper towels on the counter and evenly spacing out each key to dry, face side up, on top of them.\\n\\nNegative Example 1 -\\nInput: How do you remove keys?\\nOutput: pry them off with a knife.\\n\\nNegative Example 2 -\\nInput: How can you dry wet replacement computer keyboard keys?\\nOutput: Place them in the oven on low\\n\\nNow complete the following example -\\nInput: To determine what size to make a leather mystery braid cuff,\\nOutput: \\n\\n First, measure the circumference of the wrist or arm where the cuff will be worn. \\n Then, add 1 inch to the measurement for overlap. \\n Finally, divide the total measurement by 3 to determine the number of strands needed. \\n Using a ruler, measure the length of each strand to be 3 times the width of the cuff plus 1 inch. \\n Cut the strands to the measured length. \\n Begin braiding the strands, alternating the direction of the braid every few inches. \\n Once the braid is complete, measure the length of the braid and add 1 inch for the clasp and 1 inch for the buckle. \\n Cut the braid to the measured length. \\n Attach the clasp and buckle to the ends of the braid. ']}]"
      ]
     },
     "execution_count": 15,
     "metadata": {},
     "output_type": "execute_result"
    }
   ],
   "source": [
    "pred[5]"
   ]
  },
  {
   "cell_type": "code",
   "execution_count": 12,
   "metadata": {},
   "outputs": [
    {
     "data": {
      "text/plain": [
       "[{'input': 'Definition: In this task the focus is on physical knowledge about the world. Given the provided goal task in the input, describe a process that would lead to the asked outcome. This process often involves physical motions with objects, such as moving them, arranging them in a certain way, mixing them, shaking them, etc.\\n\\nPositive Example 1 -\\nInput: How do you remove keys from a computer keyboard for cleaning?\\nOutput: Place the tip of a knife under the corner of a key and gently twist to pop it off.\\n\\nPositive Example 2 -\\nInput: How can you dry wet replacement computer keyboard keys?\\nOutput: by arranging paper towels on the counter and evenly spacing out each key to dry, face side up, on top of them.\\n\\nNegative Example 1 -\\nInput: How do you remove keys?\\nOutput: pry them off with a knife.\\n\\nNegative Example 2 -\\nInput: How can you dry wet replacement computer keyboard keys?\\nOutput: Place them in the oven on low\\n\\nNow complete the following example -\\nInput: Clean bathroom tiles.\\nOutput: \\n\\n',\n",
       "  'output': ['Use half slice of potato to clean bathroom tiles, then rinse.'],\n",
       "  'id': 'task080-7c004972f63146e7b9de326403202db2'},\n",
       " {'generated_text': ['Definition: In this task the focus is on physical knowledge about the world. Given the provided goal task in the input, describe a process that would lead to the asked outcome. This process often involves physical motions with objects, such as moving them, arranging them in a certain way, mixing them, shaking them, etc.\\n\\nPositive Example 1 -\\nInput: How do you remove keys from a computer keyboard for cleaning?\\nOutput: Place the tip of a knife under the corner of a key and gently twist to pop it off.\\n\\nPositive Example 2 -\\nInput: How can you dry wet replacement computer keyboard keys?\\nOutput: by arranging paper towels on the counter and evenly spacing out each key to dry, face side up, on top of them.\\n\\nNegative Example 1 -\\nInput: How do you remove keys?\\nOutput: pry them off with a knife.\\n\\nNegative Example 2 -\\nInput: How can you dry wet replacement computer keyboard keys?\\nOutput: Place them in the oven on low\\n\\nNow complete the following example -\\nInput: Clean bathroom tiles.\\nOutput: \\n\\n Wipe down the tiles with a damp sponge or cloth, then rinse with clean water and dry with a towel. ']}]"
      ]
     },
     "execution_count": 12,
     "metadata": {},
     "output_type": "execute_result"
    }
   ],
   "source": [
    "pred[1]"
   ]
  },
  {
   "cell_type": "code",
   "execution_count": null,
   "metadata": {},
   "outputs": [],
   "source": []
  }
 ],
 "metadata": {
  "kernelspec": {
   "display_name": "venv",
   "language": "python",
   "name": "python3"
  },
  "language_info": {
   "codemirror_mode": {
    "name": "ipython",
    "version": 3
   },
   "file_extension": ".py",
   "mimetype": "text/x-python",
   "name": "python",
   "nbconvert_exporter": "python",
   "pygments_lexer": "ipython3",
   "version": "3.12.7"
  }
 },
 "nbformat": 4,
 "nbformat_minor": 2
}
